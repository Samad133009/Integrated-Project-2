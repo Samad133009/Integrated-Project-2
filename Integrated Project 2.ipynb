{
 "cells": [
  {
   "cell_type": "markdown",
   "metadata": {},
   "source": [
    "---"
   ]
  },
  {
   "cell_type": "markdown",
   "metadata": {},
   "source": [
    "# Project Description"
   ]
  },
  {
   "cell_type": "markdown",
   "metadata": {},
   "source": [
    "I am working at a startup that sells food products. I need to investigate user behavior for the company's app.\n",
    "\n",
    "First we will study the sales funnel. We are finding out how users reach the purchase stage. How many users actually make it to this stage? How many get stuck at previous stages? Which stages in particular?\n",
    "\n",
    "\n",
    "Then we will look at the results of an A/A/B test. We would like to change the fonts for the entire app, but the managers are afraid the users might find the new design intimidating. We decide to make a decision based on the results of an A/A/B test.\n",
    "\n",
    "\n",
    "The users are split into three groups: two control groups get the old fonts and one test group gets the new ones. We are finding out which set of fonts produces better results.\n",
    "\n",
    "\n",
    "Creating two A groups has certain advantages. We can make it a principle that we will only be confident in the accuracy of our testing when the two control groups are similar. If there are significant differences between the A groups, this can help us uncover factors that may be distorting the results. Comparing control groups also tells us how much time and data we'll need when running further tests.\n",
    "\n",
    "### Description of the data\n",
    "\n",
    "Each log entry is a user action or an event.\n",
    "\n",
    "- EventName — event name\n",
    "- DeviceIDHash — unique user identifier\n",
    "- EventTimestamp — event time\n",
    "- ExpId — experiment number: 246 and 247 are the control groups, 248 is the test group"
   ]
  },
  {
   "cell_type": "markdown",
   "metadata": {},
   "source": [
    "# Project Goal"
   ]
  },
  {
   "cell_type": "markdown",
   "metadata": {},
   "source": [
    "We will be using the same dataset for general analytics and for A/A/B analysis. In real projects, experiments are constantly being conducted. We would study the quality of an app using general data, without paying attention to whether users are participating in experiments."
   ]
  },
  {
   "cell_type": "markdown",
   "metadata": {},
   "source": [
    "# Project Contents"
   ]
  },
  {
   "cell_type": "markdown",
   "metadata": {},
   "source": [
    "-  <a href='#the_destination1'>Open the data file and read the general information:</a>\n",
    "-  <a href='#the_destination2'>Prepare the data for analysis:</a>\n",
    "-  <a href='#the_destination3'>Study and check the data:</a>\n",
    "-  <a href='#the_destination4'>Study the event funnel:</a>\n",
    "-  <a href='#the_destination5'>Study the results of the experiment:</a>\n",
    "-  <a href='#the_destination6'>Overall conclusion:</a>"
   ]
  },
  {
   "cell_type": "markdown",
   "metadata": {},
   "source": [
    "<a id='the_destination1'></a>\n",
    "# Step 1. Open the data file and read the general information"
   ]
  },
  {
   "cell_type": "markdown",
   "metadata": {},
   "source": [
    "**Importing the libraries:**"
   ]
  },
  {
   "cell_type": "code",
   "execution_count": 1,
   "metadata": {},
   "outputs": [],
   "source": [
    "import pandas as pd\n",
    "import numpy as np\n",
    "import matplotlib.pyplot as plt\n",
    "import seaborn as sns\n",
    "import datetime\n",
    "import plotly.express as px\n",
    "import math as mth\n",
    "from scipy import stats as st"
   ]
  },
  {
   "cell_type": "markdown",
   "metadata": {},
   "source": [
    "**Information for the \"logs_exp_us\" dataset:**"
   ]
  },
  {
   "cell_type": "code",
   "execution_count": 2,
   "metadata": {},
   "outputs": [
    {
     "name": "stdout",
     "output_type": "stream",
     "text": [
      "<class 'pandas.core.frame.DataFrame'>\n",
      "RangeIndex: 244126 entries, 0 to 244125\n",
      "Data columns (total 4 columns):\n",
      "EventName         244126 non-null object\n",
      "DeviceIDHash      244126 non-null int64\n",
      "EventTimestamp    244126 non-null int64\n",
      "ExpId             244126 non-null int64\n",
      "dtypes: int64(3), object(1)\n",
      "memory usage: 7.5+ MB\n"
     ]
    },
    {
     "data": {
      "text/html": [
       "<div>\n",
       "<style scoped>\n",
       "    .dataframe tbody tr th:only-of-type {\n",
       "        vertical-align: middle;\n",
       "    }\n",
       "\n",
       "    .dataframe tbody tr th {\n",
       "        vertical-align: top;\n",
       "    }\n",
       "\n",
       "    .dataframe thead th {\n",
       "        text-align: right;\n",
       "    }\n",
       "</style>\n",
       "<table border=\"1\" class=\"dataframe\">\n",
       "  <thead>\n",
       "    <tr style=\"text-align: right;\">\n",
       "      <th></th>\n",
       "      <th>EventName</th>\n",
       "      <th>DeviceIDHash</th>\n",
       "      <th>EventTimestamp</th>\n",
       "      <th>ExpId</th>\n",
       "    </tr>\n",
       "  </thead>\n",
       "  <tbody>\n",
       "    <tr>\n",
       "      <td>0</td>\n",
       "      <td>MainScreenAppear</td>\n",
       "      <td>4575588528974610257</td>\n",
       "      <td>1564029816</td>\n",
       "      <td>246</td>\n",
       "    </tr>\n",
       "    <tr>\n",
       "      <td>1</td>\n",
       "      <td>MainScreenAppear</td>\n",
       "      <td>7416695313311560658</td>\n",
       "      <td>1564053102</td>\n",
       "      <td>246</td>\n",
       "    </tr>\n",
       "    <tr>\n",
       "      <td>2</td>\n",
       "      <td>PaymentScreenSuccessful</td>\n",
       "      <td>3518123091307005509</td>\n",
       "      <td>1564054127</td>\n",
       "      <td>248</td>\n",
       "    </tr>\n",
       "    <tr>\n",
       "      <td>3</td>\n",
       "      <td>CartScreenAppear</td>\n",
       "      <td>3518123091307005509</td>\n",
       "      <td>1564054127</td>\n",
       "      <td>248</td>\n",
       "    </tr>\n",
       "    <tr>\n",
       "      <td>4</td>\n",
       "      <td>PaymentScreenSuccessful</td>\n",
       "      <td>6217807653094995999</td>\n",
       "      <td>1564055322</td>\n",
       "      <td>248</td>\n",
       "    </tr>\n",
       "  </tbody>\n",
       "</table>\n",
       "</div>"
      ],
      "text/plain": [
       "                 EventName         DeviceIDHash  EventTimestamp  ExpId\n",
       "0         MainScreenAppear  4575588528974610257      1564029816    246\n",
       "1         MainScreenAppear  7416695313311560658      1564053102    246\n",
       "2  PaymentScreenSuccessful  3518123091307005509      1564054127    248\n",
       "3         CartScreenAppear  3518123091307005509      1564054127    248\n",
       "4  PaymentScreenSuccessful  6217807653094995999      1564055322    248"
      ]
     },
     "metadata": {},
     "output_type": "display_data"
    }
   ],
   "source": [
    "try:\n",
    "    logs_exp = pd.read_csv('logs_exp_us.csv', sep='\\t')\n",
    "except:\n",
    "    logs_exp = pd.read_csv('/datasets/logs_exp_us.csv', sep='\\t')\n",
    "logs_exp.info()\n",
    "display(logs_exp.head())"
   ]
  },
  {
   "cell_type": "markdown",
   "metadata": {},
   "source": [
    "In the \"logs_exp\" dataset, there are 244126 rows and 4 columns named \"EventName\", \"DeviceIDHash\", \"EventTimestamp\", \"ExpId\"."
   ]
  },
  {
   "cell_type": "markdown",
   "metadata": {},
   "source": [
    "<a id='the_destination2'></a>\n",
    "# Step 2. Prepare the data for analysis"
   ]
  },
  {
   "cell_type": "markdown",
   "metadata": {},
   "source": [
    "**Renaming \"logs_exp\" dataset columns:**"
   ]
  },
  {
   "cell_type": "code",
   "execution_count": 3,
   "metadata": {},
   "outputs": [
    {
     "data": {
      "text/plain": [
       "['event_name', 'device_id', 'event_time_stamp', 'exp_id']"
      ]
     },
     "execution_count": 3,
     "metadata": {},
     "output_type": "execute_result"
    }
   ],
   "source": [
    "logs_exp =  logs_exp.rename({'EventName': 'event_name', 'DeviceIDHash': 'device_id','EventTimestamp':'event_time_stamp','ExpId':'exp_id' }, axis='columns')\n",
    "list(logs_exp.columns)"
   ]
  },
  {
   "cell_type": "markdown",
   "metadata": {},
   "source": [
    "I renamed all of the column names. The new column names are \"event_name\", \"device_id\", \"event_time_stamp\", \"exp_id\"."
   ]
  },
  {
   "cell_type": "markdown",
   "metadata": {},
   "source": [
    "**Checking data types:**"
   ]
  },
  {
   "cell_type": "code",
   "execution_count": 4,
   "metadata": {},
   "outputs": [
    {
     "data": {
      "text/plain": [
       "event_name          object\n",
       "device_id            int64\n",
       "event_time_stamp     int64\n",
       "exp_id               int64\n",
       "dtype: object"
      ]
     },
     "execution_count": 4,
     "metadata": {},
     "output_type": "execute_result"
    }
   ],
   "source": [
    "logs_exp.dtypes"
   ]
  },
  {
   "cell_type": "markdown",
   "metadata": {},
   "source": [
    "In the \"logs_exp\" dataset, \"event_name\" column is the object data type and rest of the columns are integer data types."
   ]
  },
  {
   "cell_type": "markdown",
   "metadata": {},
   "source": [
    "**Converting \"event_time_stamp\" column integer to datetime format:**"
   ]
  },
  {
   "cell_type": "code",
   "execution_count": 5,
   "metadata": {},
   "outputs": [
    {
     "data": {
      "text/html": [
       "<div>\n",
       "<style scoped>\n",
       "    .dataframe tbody tr th:only-of-type {\n",
       "        vertical-align: middle;\n",
       "    }\n",
       "\n",
       "    .dataframe tbody tr th {\n",
       "        vertical-align: top;\n",
       "    }\n",
       "\n",
       "    .dataframe thead th {\n",
       "        text-align: right;\n",
       "    }\n",
       "</style>\n",
       "<table border=\"1\" class=\"dataframe\">\n",
       "  <thead>\n",
       "    <tr style=\"text-align: right;\">\n",
       "      <th></th>\n",
       "      <th>event_name</th>\n",
       "      <th>device_id</th>\n",
       "      <th>event_time_stamp</th>\n",
       "      <th>exp_id</th>\n",
       "      <th>event_date_n_time</th>\n",
       "    </tr>\n",
       "  </thead>\n",
       "  <tbody>\n",
       "    <tr>\n",
       "      <td>0</td>\n",
       "      <td>MainScreenAppear</td>\n",
       "      <td>4575588528974610257</td>\n",
       "      <td>1564029816</td>\n",
       "      <td>246</td>\n",
       "      <td>2019-07-25 04:43:36</td>\n",
       "    </tr>\n",
       "    <tr>\n",
       "      <td>1</td>\n",
       "      <td>MainScreenAppear</td>\n",
       "      <td>7416695313311560658</td>\n",
       "      <td>1564053102</td>\n",
       "      <td>246</td>\n",
       "      <td>2019-07-25 11:11:42</td>\n",
       "    </tr>\n",
       "    <tr>\n",
       "      <td>2</td>\n",
       "      <td>PaymentScreenSuccessful</td>\n",
       "      <td>3518123091307005509</td>\n",
       "      <td>1564054127</td>\n",
       "      <td>248</td>\n",
       "      <td>2019-07-25 11:28:47</td>\n",
       "    </tr>\n",
       "    <tr>\n",
       "      <td>3</td>\n",
       "      <td>CartScreenAppear</td>\n",
       "      <td>3518123091307005509</td>\n",
       "      <td>1564054127</td>\n",
       "      <td>248</td>\n",
       "      <td>2019-07-25 11:28:47</td>\n",
       "    </tr>\n",
       "    <tr>\n",
       "      <td>4</td>\n",
       "      <td>PaymentScreenSuccessful</td>\n",
       "      <td>6217807653094995999</td>\n",
       "      <td>1564055322</td>\n",
       "      <td>248</td>\n",
       "      <td>2019-07-25 11:48:42</td>\n",
       "    </tr>\n",
       "  </tbody>\n",
       "</table>\n",
       "</div>"
      ],
      "text/plain": [
       "                event_name            device_id  event_time_stamp  exp_id  \\\n",
       "0         MainScreenAppear  4575588528974610257        1564029816     246   \n",
       "1         MainScreenAppear  7416695313311560658        1564053102     246   \n",
       "2  PaymentScreenSuccessful  3518123091307005509        1564054127     248   \n",
       "3         CartScreenAppear  3518123091307005509        1564054127     248   \n",
       "4  PaymentScreenSuccessful  6217807653094995999        1564055322     248   \n",
       "\n",
       "    event_date_n_time  \n",
       "0 2019-07-25 04:43:36  \n",
       "1 2019-07-25 11:11:42  \n",
       "2 2019-07-25 11:28:47  \n",
       "3 2019-07-25 11:28:47  \n",
       "4 2019-07-25 11:48:42  "
      ]
     },
     "metadata": {},
     "output_type": "display_data"
    }
   ],
   "source": [
    "logs_exp['event_date_n_time']=pd.to_datetime(logs_exp['event_time_stamp'], unit='s')\n",
    "display(logs_exp.head())"
   ]
  },
  {
   "cell_type": "markdown",
   "metadata": {},
   "source": [
    "\"event_time_stamp\" column was integer data type. I converted it from integer to \"to_datetime\" format."
   ]
  },
  {
   "cell_type": "markdown",
   "metadata": {},
   "source": [
    "**Splitting \"event_date_n_time\" column into separate date and time columns:**"
   ]
  },
  {
   "cell_type": "code",
   "execution_count": 6,
   "metadata": {},
   "outputs": [
    {
     "data": {
      "text/html": [
       "<div>\n",
       "<style scoped>\n",
       "    .dataframe tbody tr th:only-of-type {\n",
       "        vertical-align: middle;\n",
       "    }\n",
       "\n",
       "    .dataframe tbody tr th {\n",
       "        vertical-align: top;\n",
       "    }\n",
       "\n",
       "    .dataframe thead th {\n",
       "        text-align: right;\n",
       "    }\n",
       "</style>\n",
       "<table border=\"1\" class=\"dataframe\">\n",
       "  <thead>\n",
       "    <tr style=\"text-align: right;\">\n",
       "      <th></th>\n",
       "      <th>event_name</th>\n",
       "      <th>device_id</th>\n",
       "      <th>event_time_stamp</th>\n",
       "      <th>exp_id</th>\n",
       "      <th>event_date_n_time</th>\n",
       "      <th>Dates</th>\n",
       "      <th>Time</th>\n",
       "    </tr>\n",
       "  </thead>\n",
       "  <tbody>\n",
       "    <tr>\n",
       "      <td>0</td>\n",
       "      <td>MainScreenAppear</td>\n",
       "      <td>4575588528974610257</td>\n",
       "      <td>1564029816</td>\n",
       "      <td>246</td>\n",
       "      <td>2019-07-25 04:43:36</td>\n",
       "      <td>2019-07-25</td>\n",
       "      <td>04:43:36</td>\n",
       "    </tr>\n",
       "    <tr>\n",
       "      <td>1</td>\n",
       "      <td>MainScreenAppear</td>\n",
       "      <td>7416695313311560658</td>\n",
       "      <td>1564053102</td>\n",
       "      <td>246</td>\n",
       "      <td>2019-07-25 11:11:42</td>\n",
       "      <td>2019-07-25</td>\n",
       "      <td>11:11:42</td>\n",
       "    </tr>\n",
       "    <tr>\n",
       "      <td>2</td>\n",
       "      <td>PaymentScreenSuccessful</td>\n",
       "      <td>3518123091307005509</td>\n",
       "      <td>1564054127</td>\n",
       "      <td>248</td>\n",
       "      <td>2019-07-25 11:28:47</td>\n",
       "      <td>2019-07-25</td>\n",
       "      <td>11:28:47</td>\n",
       "    </tr>\n",
       "    <tr>\n",
       "      <td>3</td>\n",
       "      <td>CartScreenAppear</td>\n",
       "      <td>3518123091307005509</td>\n",
       "      <td>1564054127</td>\n",
       "      <td>248</td>\n",
       "      <td>2019-07-25 11:28:47</td>\n",
       "      <td>2019-07-25</td>\n",
       "      <td>11:28:47</td>\n",
       "    </tr>\n",
       "    <tr>\n",
       "      <td>4</td>\n",
       "      <td>PaymentScreenSuccessful</td>\n",
       "      <td>6217807653094995999</td>\n",
       "      <td>1564055322</td>\n",
       "      <td>248</td>\n",
       "      <td>2019-07-25 11:48:42</td>\n",
       "      <td>2019-07-25</td>\n",
       "      <td>11:48:42</td>\n",
       "    </tr>\n",
       "  </tbody>\n",
       "</table>\n",
       "</div>"
      ],
      "text/plain": [
       "                event_name            device_id  event_time_stamp  exp_id  \\\n",
       "0         MainScreenAppear  4575588528974610257        1564029816     246   \n",
       "1         MainScreenAppear  7416695313311560658        1564053102     246   \n",
       "2  PaymentScreenSuccessful  3518123091307005509        1564054127     248   \n",
       "3         CartScreenAppear  3518123091307005509        1564054127     248   \n",
       "4  PaymentScreenSuccessful  6217807653094995999        1564055322     248   \n",
       "\n",
       "    event_date_n_time      Dates      Time  \n",
       "0 2019-07-25 04:43:36 2019-07-25  04:43:36  \n",
       "1 2019-07-25 11:11:42 2019-07-25  11:11:42  \n",
       "2 2019-07-25 11:28:47 2019-07-25  11:28:47  \n",
       "3 2019-07-25 11:28:47 2019-07-25  11:28:47  \n",
       "4 2019-07-25 11:48:42 2019-07-25  11:48:42  "
      ]
     },
     "metadata": {},
     "output_type": "display_data"
    }
   ],
   "source": [
    "logs_exp['Dates'] = pd.to_datetime(logs_exp['event_date_n_time']).dt.date\n",
    "logs_exp['Time'] = pd.to_datetime(logs_exp['event_date_n_time']).dt.time\n",
    "logs_exp['Dates'] = logs_exp['Dates'].astype('datetime64[ns]')\n",
    "display(logs_exp.head())"
   ]
  },
  {
   "cell_type": "markdown",
   "metadata": {},
   "source": [
    "I splitted \"event_date_n_time\" column into separate date and time columns."
   ]
  },
  {
   "cell_type": "markdown",
   "metadata": {},
   "source": [
    "**Checking missing values in the 'logs_exp' dataset:**"
   ]
  },
  {
   "cell_type": "code",
   "execution_count": 7,
   "metadata": {},
   "outputs": [
    {
     "data": {
      "text/plain": [
       "event_name           0\n",
       "device_id            0\n",
       "event_time_stamp     0\n",
       "exp_id               0\n",
       "event_date_n_time    0\n",
       "Dates                0\n",
       "Time                 0\n",
       "dtype: int64"
      ]
     },
     "execution_count": 7,
     "metadata": {},
     "output_type": "execute_result"
    }
   ],
   "source": [
    "logs_exp.isnull().sum()"
   ]
  },
  {
   "cell_type": "markdown",
   "metadata": {},
   "source": [
    "There is no missing values in the \"logs_exp\" dataset."
   ]
  },
  {
   "cell_type": "markdown",
   "metadata": {},
   "source": [
    "-  I renamed all of the column names. The new column names are \"event_name\", \"device_id\", \"event_time_stamp\", \"exp_id\".\n",
    "-  In the \"logs_exp\" dataset, \"event_name\" column is the object data type and rest of the columns are integer data types.\n",
    "-  \"event_time_stamp\" column was integer data type. I converted it from integer to \"to_datetime\" format.\n",
    "-  I splitted \"event_date_n_time\" column into separate date and time columns.\n",
    "-  There is no missing values in the \"logs_exp\" dataset."
   ]
  },
  {
   "cell_type": "markdown",
   "metadata": {},
   "source": [
    "<a id='the_destination3'></a>\n",
    "# Step 3. Study and check the data"
   ]
  },
  {
   "cell_type": "markdown",
   "metadata": {},
   "source": [
    "**Number of events are in the logs:**"
   ]
  },
  {
   "cell_type": "code",
   "execution_count": 8,
   "metadata": {},
   "outputs": [
    {
     "data": {
      "text/plain": [
       "MainScreenAppear           119205\n",
       "OffersScreenAppear          46825\n",
       "CartScreenAppear            42731\n",
       "PaymentScreenSuccessful     34313\n",
       "Tutorial                     1052\n",
       "Name: event_name, dtype: int64"
      ]
     },
     "execution_count": 8,
     "metadata": {},
     "output_type": "execute_result"
    }
   ],
   "source": [
    "logs_exp['event_name'].value_counts()"
   ]
  },
  {
   "cell_type": "markdown",
   "metadata": {},
   "source": [
    "There are five events named \"MainScreenAppear\", \"OffersScreenAppear\", \"CartScreenAppear\", \"PaymentScreenSuccessful\" and \"Tutorial\". \"MainScreenAppear\", \"OffersScreenAppear\", \"CartScreenAppear\", \"PaymentScreenSuccessful\" and \"Tutorial\" have 119205, 46825, 42731, 34313, 1052 events respectively."
   ]
  },
  {
   "cell_type": "markdown",
   "metadata": {},
   "source": [
    "**Number of users are in the logs:**"
   ]
  },
  {
   "cell_type": "code",
   "execution_count": 9,
   "metadata": {},
   "outputs": [
    {
     "data": {
      "text/plain": [
       "244126"
      ]
     },
     "execution_count": 9,
     "metadata": {},
     "output_type": "execute_result"
    }
   ],
   "source": [
    "logs_exp['device_id'].value_counts().sum()"
   ]
  },
  {
   "cell_type": "markdown",
   "metadata": {},
   "source": [
    "In the \"logs_exp\" dataset, there are 244126 users in the logs."
   ]
  },
  {
   "cell_type": "markdown",
   "metadata": {},
   "source": [
    "**Finding the maximum and the minimum Dates:**"
   ]
  },
  {
   "cell_type": "code",
   "execution_count": 10,
   "metadata": {},
   "outputs": [
    {
     "name": "stdout",
     "output_type": "stream",
     "text": [
      "Maximum date is: 2019-08-07 21:15:17\n",
      "Minimum date is: 2019-07-25 04:43:36\n"
     ]
    }
   ],
   "source": [
    "max_date = logs_exp['event_date_n_time'].max()\n",
    "print('Maximum date is:', max_date)\n",
    "min_date = logs_exp['event_date_n_time'].min()\n",
    "print('Minimum date is:', min_date)"
   ]
  },
  {
   "cell_type": "markdown",
   "metadata": {},
   "source": [
    "In the \"logs_exp\" dataset, maximum date is \"2019-08-07\" and minimum date is \"2019-07-25\"."
   ]
  },
  {
   "cell_type": "markdown",
   "metadata": {},
   "source": [
    "**Number of event for each date:**"
   ]
  },
  {
   "cell_type": "code",
   "execution_count": 11,
   "metadata": {},
   "outputs": [
    {
     "data": {
      "text/html": [
       "<div>\n",
       "<style scoped>\n",
       "    .dataframe tbody tr th:only-of-type {\n",
       "        vertical-align: middle;\n",
       "    }\n",
       "\n",
       "    .dataframe tbody tr th {\n",
       "        vertical-align: top;\n",
       "    }\n",
       "\n",
       "    .dataframe thead th {\n",
       "        text-align: right;\n",
       "    }\n",
       "</style>\n",
       "<table border=\"1\" class=\"dataframe\">\n",
       "  <thead>\n",
       "    <tr style=\"text-align: right;\">\n",
       "      <th></th>\n",
       "      <th>Dates</th>\n",
       "      <th>number_of_event</th>\n",
       "    </tr>\n",
       "  </thead>\n",
       "  <tbody>\n",
       "    <tr>\n",
       "      <td>0</td>\n",
       "      <td>2019-07-25</td>\n",
       "      <td>9</td>\n",
       "    </tr>\n",
       "    <tr>\n",
       "      <td>1</td>\n",
       "      <td>2019-07-26</td>\n",
       "      <td>31</td>\n",
       "    </tr>\n",
       "    <tr>\n",
       "      <td>2</td>\n",
       "      <td>2019-07-27</td>\n",
       "      <td>55</td>\n",
       "    </tr>\n",
       "    <tr>\n",
       "      <td>3</td>\n",
       "      <td>2019-07-28</td>\n",
       "      <td>105</td>\n",
       "    </tr>\n",
       "    <tr>\n",
       "      <td>4</td>\n",
       "      <td>2019-07-29</td>\n",
       "      <td>184</td>\n",
       "    </tr>\n",
       "    <tr>\n",
       "      <td>5</td>\n",
       "      <td>2019-07-30</td>\n",
       "      <td>413</td>\n",
       "    </tr>\n",
       "    <tr>\n",
       "      <td>6</td>\n",
       "      <td>2019-07-31</td>\n",
       "      <td>2031</td>\n",
       "    </tr>\n",
       "    <tr>\n",
       "      <td>7</td>\n",
       "      <td>2019-08-01</td>\n",
       "      <td>36229</td>\n",
       "    </tr>\n",
       "    <tr>\n",
       "      <td>8</td>\n",
       "      <td>2019-08-02</td>\n",
       "      <td>35606</td>\n",
       "    </tr>\n",
       "    <tr>\n",
       "      <td>9</td>\n",
       "      <td>2019-08-03</td>\n",
       "      <td>33351</td>\n",
       "    </tr>\n",
       "    <tr>\n",
       "      <td>10</td>\n",
       "      <td>2019-08-04</td>\n",
       "      <td>33033</td>\n",
       "    </tr>\n",
       "    <tr>\n",
       "      <td>11</td>\n",
       "      <td>2019-08-05</td>\n",
       "      <td>36113</td>\n",
       "    </tr>\n",
       "    <tr>\n",
       "      <td>12</td>\n",
       "      <td>2019-08-06</td>\n",
       "      <td>35822</td>\n",
       "    </tr>\n",
       "    <tr>\n",
       "      <td>13</td>\n",
       "      <td>2019-08-07</td>\n",
       "      <td>31144</td>\n",
       "    </tr>\n",
       "  </tbody>\n",
       "</table>\n",
       "</div>"
      ],
      "text/plain": [
       "        Dates  number_of_event\n",
       "0  2019-07-25                9\n",
       "1  2019-07-26               31\n",
       "2  2019-07-27               55\n",
       "3  2019-07-28              105\n",
       "4  2019-07-29              184\n",
       "5  2019-07-30              413\n",
       "6  2019-07-31             2031\n",
       "7  2019-08-01            36229\n",
       "8  2019-08-02            35606\n",
       "9  2019-08-03            33351\n",
       "10 2019-08-04            33033\n",
       "11 2019-08-05            36113\n",
       "12 2019-08-06            35822\n",
       "13 2019-08-07            31144"
      ]
     },
     "execution_count": 11,
     "metadata": {},
     "output_type": "execute_result"
    }
   ],
   "source": [
    "event = logs_exp.groupby('Dates')['event_name'].count().reset_index()\n",
    "event = event.rename({'event_name': 'number_of_event',  }, axis='columns')\n",
    "event.head(15)"
   ]
  },
  {
   "cell_type": "markdown",
   "metadata": {},
   "source": [
    "Number of events are increased from the beginning of August."
   ]
  },
  {
   "cell_type": "markdown",
   "metadata": {},
   "source": [
    "---"
   ]
  },
  {
   "cell_type": "markdown",
   "metadata": {},
   "source": [
    "**Determining the average number of events per user:**"
   ]
  },
  {
   "cell_type": "code",
   "execution_count": 12,
   "metadata": {},
   "outputs": [
    {
     "data": {
      "text/plain": [
       "32.33028737915508"
      ]
     },
     "execution_count": 12,
     "metadata": {},
     "output_type": "execute_result"
    }
   ],
   "source": [
    "logs_exp.groupby('device_id')['event_name'].count().mean()"
   ]
  },
  {
   "cell_type": "markdown",
   "metadata": {},
   "source": [
    "The average number of events per user is 32. "
   ]
  },
  {
   "cell_type": "markdown",
   "metadata": {},
   "source": [
    "**Plotting histogram by date and time:**"
   ]
  },
  {
   "cell_type": "code",
   "execution_count": 13,
   "metadata": {},
   "outputs": [
    {
     "data": {
      "image/png": "[encoded data removed]",
      "text/plain": [
       "<Figure size 432x288 with 1 Axes>"
      ]
     },
     "metadata": {
      "needs_background": "light"
     },
     "output_type": "display_data"
    }
   ],
   "source": [
    "logs_exp.groupby('Dates')['event_name'].count().plot(kind=\"bar\")\n",
    "plt.title('Number of events by date')\n",
    "plt.xlabel('Dates')\n",
    "plt.ylabel('Number of events');"
   ]
  },
  {
   "cell_type": "markdown",
   "metadata": {},
   "source": [
    "From the above histogram we can see that, from 25th July to 31st July number of events were very less compared to from 1st of August to 7th of August."
   ]
  },
  {
   "cell_type": "markdown",
   "metadata": {},
   "source": [
    "**Proportion of events by date:**"
   ]
  },
  {
   "cell_type": "code",
   "execution_count": 14,
   "metadata": {},
   "outputs": [
    {
     "data": {
      "image/png": "[encoded data removed]",
      "text/plain": [
       "<Figure size 1008x576 with 1 Axes>"
      ]
     },
     "metadata": {
      "needs_background": "light"
     },
     "output_type": "display_data"
    }
   ],
   "source": [
    "plt.figure(figsize = (14,8))\n",
    "plt.title('Proportion of events by date',fontsize=14,fontweight=\"bold\")\n",
    "plt.xlabel('Dates')\n",
    "plt.ylabel('Number of events ')\n",
    "plt.plot(logs_exp.groupby('Dates')['event_name'].count())\n",
    "plt.axhline(y=0, color='black', linestyle='--')\n",
    "plt.axhline(y=-0.1, color='grey', linestyle='--')\n",
    "plt.show()"
   ]
  },
  {
   "cell_type": "markdown",
   "metadata": {},
   "source": [
    "**Raw distribution  of events by date:**"
   ]
  },
  {
   "cell_type": "code",
   "execution_count": 15,
   "metadata": {},
   "outputs": [
    {
     "data": {
      "image/png": "[encoded data removed]",
      "text/plain": [
       "<Figure size 1080x360 with 1 Axes>"
      ]
     },
     "metadata": {
      "needs_background": "light"
     },
     "output_type": "display_data"
    }
   ],
   "source": [
    "plt.title('Raw distribution  of events by date',fontsize=14,fontweight=\"bold\")\n",
    "plt.xlabel('Dates')\n",
    "plt.ylabel('Nb of events')\n",
    "ax = logs_exp['event_date_n_time'].hist(figsize=(15, 5),bins=100);"
   ]
  },
  {
   "cell_type": "markdown",
   "metadata": {},
   "source": [
    "**Filter old events:**"
   ]
  },
  {
   "cell_type": "code",
   "execution_count": 16,
   "metadata": {},
   "outputs": [
    {
     "name": "stdout",
     "output_type": "stream",
     "text": [
      "241298\n"
     ]
    }
   ],
   "source": [
    "new_logs = logs_exp.loc[logs_exp['Dates'] > '2019-07-31']\n",
    "number_of_new_logs = len(new_logs)\n",
    "print(number_of_new_logs)"
   ]
  },
  {
   "cell_type": "markdown",
   "metadata": {},
   "source": [
    "To get a better representation of the data, let's consider the period from 2019/08/01 to 2019/08/08. We get 241298 events in the month of August."
   ]
  },
  {
   "cell_type": "markdown",
   "metadata": {},
   "source": [
    "**Number of events in the old distribution and new distribution:**"
   ]
  },
  {
   "cell_type": "code",
   "execution_count": 17,
   "metadata": {},
   "outputs": [
    {
     "name": "stdout",
     "output_type": "stream",
     "text": [
      "Number of events in old distribution: 244126\n",
      "Number of events in new distribution: 241298\n"
     ]
    }
   ],
   "source": [
    "number_of_old_logs =len (logs_exp['Dates'])\n",
    "print('Number of events in old distribution:',number_of_old_logs)\n",
    "number_of_new_logs =len (new_logs['Dates'])\n",
    "print('Number of events in new distribution:',number_of_new_logs)"
   ]
  },
  {
   "cell_type": "markdown",
   "metadata": {},
   "source": [
    "Number of events in old distribution and new distribution were 244126 and 241298 respectively."
   ]
  },
  {
   "cell_type": "markdown",
   "metadata": {},
   "source": [
    "**Calculating number of dropped data and percentage:**"
   ]
  },
  {
   "cell_type": "code",
   "execution_count": 18,
   "metadata": {},
   "outputs": [
    {
     "name": "stdout",
     "output_type": "stream",
     "text": [
      "Number of dropped data after excluding older data: 2828\n",
      "Percentage of dropped data: 1\n"
     ]
    }
   ],
   "source": [
    "dropped_data = number_of_old_logs - number_of_new_logs\n",
    "print(\"Number of dropped data after excluding older data:\", dropped_data)\n",
    "percentage_of_dropped_logs = ( dropped_data / number_of_old_logs ) * 100\n",
    "print(\"Percentage of dropped data:\", int(percentage_of_dropped_logs))"
   ]
  },
  {
   "cell_type": "markdown",
   "metadata": {},
   "source": [
    "We have dropped 2828 data and the percentage of dropped data are 1%."
   ]
  },
  {
   "cell_type": "markdown",
   "metadata": {},
   "source": [
    "-  There are five events named \"MainScreenAppear\", \"OffersScreenAppear\", \"CartScreenAppear\", \"PaymentScreenSuccessful\" and \"Tutorial\". \"MainScreenAppear\", \"OffersScreenAppear\", \"CartScreenAppear\", \"PaymentScreenSuccessful\" and \"Tutorial\" have 119205, 46825, 42731, 34313, 1052 events respectively.\n",
    "-  In the \"logs_exp\" dataset, there are 244126 users in the logs.\n",
    "-  In the \"logs_exp\" dataset, maximum date is \"2019-08-07\" and minimum date is \"2019-07-25\".\n",
    "-  Number of events are increased from the beginning of August.\n",
    "-  The average number of events per user is 32. \n",
    "-  From the above histogram we can see that, from 25th July to 31st July number of events were very less compared to from 1st of August to 7th of August.\n",
    "-  To get a better representation of the data, let's consider the period from 2019/08/01 to 2019/08/08. We get 241298 events in the month of August.\n",
    "-  Number of events in old distribution and new distribution were 244126 and 241298 respectively.\n",
    "-  We have dropped 2828 data and the percentage of dropped data are 1%."
   ]
  },
  {
   "cell_type": "markdown",
   "metadata": {},
   "source": [
    "<a id='the_destination4'></a>\n",
    "# Step 4. Study the event funnel"
   ]
  },
  {
   "cell_type": "markdown",
   "metadata": {},
   "source": [
    "**Checking total number of events and checking total number of events in each category:**"
   ]
  },
  {
   "cell_type": "code",
   "execution_count": 19,
   "metadata": {},
   "outputs": [
    {
     "name": "stdout",
     "output_type": "stream",
     "text": [
      "total number of events in the logs: 244126\n"
     ]
    },
    {
     "data": {
      "text/html": [
       "<div>\n",
       "<style scoped>\n",
       "    .dataframe tbody tr th:only-of-type {\n",
       "        vertical-align: middle;\n",
       "    }\n",
       "\n",
       "    .dataframe tbody tr th {\n",
       "        vertical-align: top;\n",
       "    }\n",
       "\n",
       "    .dataframe thead th {\n",
       "        text-align: right;\n",
       "    }\n",
       "</style>\n",
       "<table border=\"1\" class=\"dataframe\">\n",
       "  <thead>\n",
       "    <tr style=\"text-align: right;\">\n",
       "      <th></th>\n",
       "      <th>event_types</th>\n",
       "      <th>number_of_events</th>\n",
       "    </tr>\n",
       "  </thead>\n",
       "  <tbody>\n",
       "    <tr>\n",
       "      <td>0</td>\n",
       "      <td>MainScreenAppear</td>\n",
       "      <td>119205</td>\n",
       "    </tr>\n",
       "    <tr>\n",
       "      <td>1</td>\n",
       "      <td>OffersScreenAppear</td>\n",
       "      <td>46825</td>\n",
       "    </tr>\n",
       "    <tr>\n",
       "      <td>2</td>\n",
       "      <td>CartScreenAppear</td>\n",
       "      <td>42731</td>\n",
       "    </tr>\n",
       "    <tr>\n",
       "      <td>3</td>\n",
       "      <td>PaymentScreenSuccessful</td>\n",
       "      <td>34313</td>\n",
       "    </tr>\n",
       "    <tr>\n",
       "      <td>4</td>\n",
       "      <td>Tutorial</td>\n",
       "      <td>1052</td>\n",
       "    </tr>\n",
       "  </tbody>\n",
       "</table>\n",
       "</div>"
      ],
      "text/plain": [
       "               event_types  number_of_events\n",
       "0         MainScreenAppear            119205\n",
       "1       OffersScreenAppear             46825\n",
       "2         CartScreenAppear             42731\n",
       "3  PaymentScreenSuccessful             34313\n",
       "4                 Tutorial              1052"
      ]
     },
     "metadata": {},
     "output_type": "display_data"
    }
   ],
   "source": [
    "total_number_events = logs_exp['event_name'].count()\n",
    "print('total number of events in the logs:',total_number_events)\n",
    "total_number_events_two = logs_exp['event_name'].value_counts().reset_index()\n",
    "total_number_events_two = total_number_events_two.rename(columns={'index':'event_types','event_name':'number_of_events'})\n",
    "display(total_number_events_two)"
   ]
  },
  {
   "cell_type": "markdown",
   "metadata": {},
   "source": [
    "Event \"MainScreenAppear\",\"OffersScreenAppear\", \"CartScreenAppear\", \"PaymentScreenSuccessful\" and \"Tutorial\" have number of events are 119205, 46825, 42731, 34313 and 1052 respectively."
   ]
  },
  {
   "cell_type": "markdown",
   "metadata": {},
   "source": [
    "**Checking the distribution of events in each event category:**"
   ]
  },
  {
   "cell_type": "code",
   "execution_count": 20,
   "metadata": {},
   "outputs": [
    {
     "data": {
      "text/html": [
       "<div>\n",
       "<style scoped>\n",
       "    .dataframe tbody tr th:only-of-type {\n",
       "        vertical-align: middle;\n",
       "    }\n",
       "\n",
       "    .dataframe tbody tr th {\n",
       "        vertical-align: top;\n",
       "    }\n",
       "\n",
       "    .dataframe thead th {\n",
       "        text-align: right;\n",
       "    }\n",
       "</style>\n",
       "<table border=\"1\" class=\"dataframe\">\n",
       "  <thead>\n",
       "    <tr style=\"text-align: right;\">\n",
       "      <th></th>\n",
       "      <th>event_types</th>\n",
       "      <th>number_of_events</th>\n",
       "      <th>percentage</th>\n",
       "    </tr>\n",
       "  </thead>\n",
       "  <tbody>\n",
       "    <tr>\n",
       "      <td>0</td>\n",
       "      <td>MainScreenAppear</td>\n",
       "      <td>119205</td>\n",
       "      <td>48.829293</td>\n",
       "    </tr>\n",
       "    <tr>\n",
       "      <td>1</td>\n",
       "      <td>OffersScreenAppear</td>\n",
       "      <td>46825</td>\n",
       "      <td>19.180669</td>\n",
       "    </tr>\n",
       "    <tr>\n",
       "      <td>2</td>\n",
       "      <td>CartScreenAppear</td>\n",
       "      <td>42731</td>\n",
       "      <td>17.503666</td>\n",
       "    </tr>\n",
       "    <tr>\n",
       "      <td>3</td>\n",
       "      <td>PaymentScreenSuccessful</td>\n",
       "      <td>34313</td>\n",
       "      <td>14.055447</td>\n",
       "    </tr>\n",
       "    <tr>\n",
       "      <td>4</td>\n",
       "      <td>Tutorial</td>\n",
       "      <td>1052</td>\n",
       "      <td>0.430925</td>\n",
       "    </tr>\n",
       "  </tbody>\n",
       "</table>\n",
       "</div>"
      ],
      "text/plain": [
       "               event_types  number_of_events  percentage\n",
       "0         MainScreenAppear            119205   48.829293\n",
       "1       OffersScreenAppear             46825   19.180669\n",
       "2         CartScreenAppear             42731   17.503666\n",
       "3  PaymentScreenSuccessful             34313   14.055447\n",
       "4                 Tutorial              1052    0.430925"
      ]
     },
     "metadata": {},
     "output_type": "display_data"
    }
   ],
   "source": [
    "new_logs_number_events = logs_exp['event_name'].value_counts().reset_index()\n",
    "new_logs_number_events = total_number_events_two.rename(columns={'index':'event_types','event_name':'number_of_events'})\n",
    "new_logs_number_events['percentage'] = (new_logs_number_events['number_of_events'] / new_logs_number_events['number_of_events'].sum()) * 100\n",
    "display(new_logs_number_events)"
   ]
  },
  {
   "cell_type": "markdown",
   "metadata": {},
   "source": [
    "Event \"MainScreenAppear\",\"OffersScreenAppear\", \"CartScreenAppear\", \"PaymentScreenSuccessful\" and \"Tutorial\" have the percentage of number of events are 48.83%, 19.18%, 17.51%, 14.05% and 0.43% respectively."
   ]
  },
  {
   "cell_type": "markdown",
   "metadata": {},
   "source": [
    "**Check  repartiton of  total users per events:**"
   ]
  },
  {
   "cell_type": "code",
   "execution_count": 21,
   "metadata": {},
   "outputs": [
    {
     "data": {
      "text/html": [
       "<div>\n",
       "<style scoped>\n",
       "    .dataframe tbody tr th:only-of-type {\n",
       "        vertical-align: middle;\n",
       "    }\n",
       "\n",
       "    .dataframe tbody tr th {\n",
       "        vertical-align: top;\n",
       "    }\n",
       "\n",
       "    .dataframe thead th {\n",
       "        text-align: right;\n",
       "    }\n",
       "</style>\n",
       "<table border=\"1\" class=\"dataframe\">\n",
       "  <thead>\n",
       "    <tr style=\"text-align: right;\">\n",
       "      <th></th>\n",
       "      <th>event_types</th>\n",
       "      <th>number_of_users</th>\n",
       "      <th>percentage</th>\n",
       "    </tr>\n",
       "  </thead>\n",
       "  <tbody>\n",
       "    <tr>\n",
       "      <td>0</td>\n",
       "      <td>MainScreenAppear</td>\n",
       "      <td>117431</td>\n",
       "      <td>48.666379</td>\n",
       "    </tr>\n",
       "    <tr>\n",
       "      <td>1</td>\n",
       "      <td>OffersScreenAppear</td>\n",
       "      <td>46350</td>\n",
       "      <td>19.208613</td>\n",
       "    </tr>\n",
       "    <tr>\n",
       "      <td>2</td>\n",
       "      <td>CartScreenAppear</td>\n",
       "      <td>42365</td>\n",
       "      <td>17.557129</td>\n",
       "    </tr>\n",
       "    <tr>\n",
       "      <td>3</td>\n",
       "      <td>PaymentScreenSuccessful</td>\n",
       "      <td>34113</td>\n",
       "      <td>14.137291</td>\n",
       "    </tr>\n",
       "    <tr>\n",
       "      <td>4</td>\n",
       "      <td>Tutorial</td>\n",
       "      <td>1039</td>\n",
       "      <td>0.430588</td>\n",
       "    </tr>\n",
       "  </tbody>\n",
       "</table>\n",
       "</div>"
      ],
      "text/plain": [
       "               event_types  number_of_users  percentage\n",
       "0         MainScreenAppear           117431   48.666379\n",
       "1       OffersScreenAppear            46350   19.208613\n",
       "2         CartScreenAppear            42365   17.557129\n",
       "3  PaymentScreenSuccessful            34113   14.137291\n",
       "4                 Tutorial             1039    0.430588"
      ]
     },
     "metadata": {},
     "output_type": "display_data"
    }
   ],
   "source": [
    "unique_users_full_date = logs_exp['device_id'].nunique()\n",
    "repartition_of_users = new_logs.groupby('event_name')['device_id'].count().sort_values(ascending=False).reset_index()\n",
    "repartition_of_users = repartition_of_users.rename(columns={'event_name':'event_types','device_id':'number_of_users'})\n",
    "repartition_of_users['percentage'] = (repartition_of_users['number_of_users'] / repartition_of_users['number_of_users'].sum()) * 100\n",
    "display(repartition_of_users)"
   ]
  },
  {
   "cell_type": "markdown",
   "metadata": {},
   "source": [
    "After repartition the event \"MainScreenAppear\",\"OffersScreenAppear\", \"CartScreenAppear\", \"PaymentScreenSuccessful\" and \"Tutorial\" have number of users are 117431, 46350, 42365, 34113 and 1039 respectively."
   ]
  },
  {
   "cell_type": "markdown",
   "metadata": {},
   "source": [
    "**Checking repartiton of number of users unique per events:**"
   ]
  },
  {
   "cell_type": "code",
   "execution_count": 22,
   "metadata": {},
   "outputs": [
    {
     "data": {
      "text/html": [
       "<div>\n",
       "<style scoped>\n",
       "    .dataframe tbody tr th:only-of-type {\n",
       "        vertical-align: middle;\n",
       "    }\n",
       "\n",
       "    .dataframe tbody tr th {\n",
       "        vertical-align: top;\n",
       "    }\n",
       "\n",
       "    .dataframe thead th {\n",
       "        text-align: right;\n",
       "    }\n",
       "</style>\n",
       "<table border=\"1\" class=\"dataframe\">\n",
       "  <thead>\n",
       "    <tr style=\"text-align: right;\">\n",
       "      <th></th>\n",
       "      <th>event_types</th>\n",
       "      <th>number_of_users</th>\n",
       "      <th>percentage</th>\n",
       "      <th>total _percentage</th>\n",
       "    </tr>\n",
       "  </thead>\n",
       "  <tbody>\n",
       "    <tr>\n",
       "      <td>0</td>\n",
       "      <td>MainScreenAppear</td>\n",
       "      <td>7419</td>\n",
       "      <td>36.864596</td>\n",
       "      <td>98.251887</td>\n",
       "    </tr>\n",
       "    <tr>\n",
       "      <td>1</td>\n",
       "      <td>OffersScreenAppear</td>\n",
       "      <td>4593</td>\n",
       "      <td>22.822360</td>\n",
       "      <td>60.826381</td>\n",
       "    </tr>\n",
       "    <tr>\n",
       "      <td>2</td>\n",
       "      <td>CartScreenAppear</td>\n",
       "      <td>3734</td>\n",
       "      <td>18.554037</td>\n",
       "      <td>49.450404</td>\n",
       "    </tr>\n",
       "    <tr>\n",
       "      <td>3</td>\n",
       "      <td>PaymentScreenSuccessful</td>\n",
       "      <td>3539</td>\n",
       "      <td>17.585093</td>\n",
       "      <td>46.867965</td>\n",
       "    </tr>\n",
       "    <tr>\n",
       "      <td>4</td>\n",
       "      <td>Tutorial</td>\n",
       "      <td>840</td>\n",
       "      <td>4.173913</td>\n",
       "      <td>11.124354</td>\n",
       "    </tr>\n",
       "  </tbody>\n",
       "</table>\n",
       "</div>"
      ],
      "text/plain": [
       "               event_types  number_of_users  percentage  total _percentage\n",
       "0         MainScreenAppear             7419   36.864596          98.251887\n",
       "1       OffersScreenAppear             4593   22.822360          60.826381\n",
       "2         CartScreenAppear             3734   18.554037          49.450404\n",
       "3  PaymentScreenSuccessful             3539   17.585093          46.867965\n",
       "4                 Tutorial              840    4.173913          11.124354"
      ]
     },
     "metadata": {},
     "output_type": "display_data"
    }
   ],
   "source": [
    "unique_users_full_date = logs_exp['device_id'].nunique()\n",
    "repartition_of_users_unique = new_logs.groupby('event_name')['device_id'] .nunique().sort_values(ascending=False).reset_index()\n",
    "repartition_of_users_unique = repartition_of_users_unique.rename(columns={'event_name':'event_types','device_id':'number_of_users'})\n",
    "repartition_of_users_unique['percentage'] = (repartition_of_users_unique['number_of_users'] / repartition_of_users_unique['number_of_users'].sum()) * 100\n",
    "repartition_of_users_unique['total _percentage'] = (repartition_of_users_unique['number_of_users'] / unique_users_full_date) * 100\n",
    "display(repartition_of_users_unique)"
   ]
  },
  {
   "cell_type": "markdown",
   "metadata": {},
   "source": [
    "After repartiton the number of users unique per events \"MainScreenAppear\",\"OffersScreenAppear\", \"CartScreenAppear\", \"PaymentScreenSuccessful\" and \"Tutorial\" have number of users are 7419, 4593, 3734, 3539 and 840 respectively."
   ]
  },
  {
   "cell_type": "markdown",
   "metadata": {},
   "source": [
    "**Dropping a row by row number (in this case, row 4) and dropping column percentage:**"
   ]
  },
  {
   "cell_type": "code",
   "execution_count": 23,
   "metadata": {},
   "outputs": [
    {
     "data": {
      "text/html": [
       "<div>\n",
       "<style scoped>\n",
       "    .dataframe tbody tr th:only-of-type {\n",
       "        vertical-align: middle;\n",
       "    }\n",
       "\n",
       "    .dataframe tbody tr th {\n",
       "        vertical-align: top;\n",
       "    }\n",
       "\n",
       "    .dataframe thead th {\n",
       "        text-align: right;\n",
       "    }\n",
       "</style>\n",
       "<table border=\"1\" class=\"dataframe\">\n",
       "  <thead>\n",
       "    <tr style=\"text-align: right;\">\n",
       "      <th></th>\n",
       "      <th>event_types</th>\n",
       "      <th>number_of_users</th>\n",
       "      <th>total _percentage</th>\n",
       "    </tr>\n",
       "  </thead>\n",
       "  <tbody>\n",
       "    <tr>\n",
       "      <td>0</td>\n",
       "      <td>MainScreenAppear</td>\n",
       "      <td>7419</td>\n",
       "      <td>98.251887</td>\n",
       "    </tr>\n",
       "    <tr>\n",
       "      <td>1</td>\n",
       "      <td>OffersScreenAppear</td>\n",
       "      <td>4593</td>\n",
       "      <td>60.826381</td>\n",
       "    </tr>\n",
       "    <tr>\n",
       "      <td>2</td>\n",
       "      <td>CartScreenAppear</td>\n",
       "      <td>3734</td>\n",
       "      <td>49.450404</td>\n",
       "    </tr>\n",
       "    <tr>\n",
       "      <td>3</td>\n",
       "      <td>PaymentScreenSuccessful</td>\n",
       "      <td>3539</td>\n",
       "      <td>46.867965</td>\n",
       "    </tr>\n",
       "  </tbody>\n",
       "</table>\n",
       "</div>"
      ],
      "text/plain": [
       "               event_types  number_of_users  total _percentage\n",
       "0         MainScreenAppear             7419          98.251887\n",
       "1       OffersScreenAppear             4593          60.826381\n",
       "2         CartScreenAppear             3734          49.450404\n",
       "3  PaymentScreenSuccessful             3539          46.867965"
      ]
     },
     "metadata": {},
     "output_type": "display_data"
    }
   ],
   "source": [
    "repartition_of_users_unique = repartition_of_users_unique.drop(repartition_of_users_unique.index[4])\n",
    "repartition_of_users_unique = repartition_of_users_unique.drop('percentage', axis=1)\n",
    "display(repartition_of_users_unique)"
   ]
  },
  {
   "cell_type": "markdown",
   "metadata": {},
   "source": [
    "\"event_types\" \"Tutorial\" has \"number_of_users\" are very less compared to other \"event_types\". That's why I dropped \"event_type\" \"Tutorial\"."
   ]
  },
  {
   "cell_type": "markdown",
   "metadata": {},
   "source": [
    "**Calculating the number of users left at each stage:**"
   ]
  },
  {
   "cell_type": "code",
   "execution_count": 24,
   "metadata": {},
   "outputs": [
    {
     "data": {
      "text/html": [
       "<div>\n",
       "<style scoped>\n",
       "    .dataframe tbody tr th:only-of-type {\n",
       "        vertical-align: middle;\n",
       "    }\n",
       "\n",
       "    .dataframe tbody tr th {\n",
       "        vertical-align: top;\n",
       "    }\n",
       "\n",
       "    .dataframe thead th {\n",
       "        text-align: right;\n",
       "    }\n",
       "</style>\n",
       "<table border=\"1\" class=\"dataframe\">\n",
       "  <thead>\n",
       "    <tr style=\"text-align: right;\">\n",
       "      <th></th>\n",
       "      <th>event_types</th>\n",
       "      <th>number_of_users</th>\n",
       "      <th>total _percentage</th>\n",
       "      <th>users_left</th>\n",
       "    </tr>\n",
       "  </thead>\n",
       "  <tbody>\n",
       "    <tr>\n",
       "      <td>0</td>\n",
       "      <td>MainScreenAppear</td>\n",
       "      <td>7419</td>\n",
       "      <td>98.251887</td>\n",
       "      <td>0</td>\n",
       "    </tr>\n",
       "    <tr>\n",
       "      <td>1</td>\n",
       "      <td>OffersScreenAppear</td>\n",
       "      <td>4593</td>\n",
       "      <td>60.826381</td>\n",
       "      <td>-2826</td>\n",
       "    </tr>\n",
       "    <tr>\n",
       "      <td>2</td>\n",
       "      <td>CartScreenAppear</td>\n",
       "      <td>3734</td>\n",
       "      <td>49.450404</td>\n",
       "      <td>-859</td>\n",
       "    </tr>\n",
       "    <tr>\n",
       "      <td>3</td>\n",
       "      <td>PaymentScreenSuccessful</td>\n",
       "      <td>3539</td>\n",
       "      <td>46.867965</td>\n",
       "      <td>-195</td>\n",
       "    </tr>\n",
       "  </tbody>\n",
       "</table>\n",
       "</div>"
      ],
      "text/plain": [
       "               event_types  number_of_users  total _percentage  users_left\n",
       "0         MainScreenAppear             7419          98.251887           0\n",
       "1       OffersScreenAppear             4593          60.826381       -2826\n",
       "2         CartScreenAppear             3734          49.450404        -859\n",
       "3  PaymentScreenSuccessful             3539          46.867965        -195"
      ]
     },
     "metadata": {},
     "output_type": "display_data"
    }
   ],
   "source": [
    "repartition_of_users_unique['users_left'] = repartition_of_users_unique['number_of_users'].diff().fillna(0).astype(int)\n",
    "display(repartition_of_users_unique)"
   ]
  },
  {
   "cell_type": "markdown",
   "metadata": {},
   "source": [
    "Event \"MainScreenAppear\" has no users left."
   ]
  },
  {
   "cell_type": "markdown",
   "metadata": {},
   "source": [
    "**Determining the percentage of users left at each stage:**"
   ]
  },
  {
   "cell_type": "code",
   "execution_count": 25,
   "metadata": {},
   "outputs": [
    {
     "data": {
      "text/html": [
       "<style  type=\"text/css\" >\n",
       "    #T_3c71cad4_03ce_11ed_980d_402cf41c9607row1_col3 {\n",
       "            background-color:  green;\n",
       "        }    #T_3c71cad4_03ce_11ed_980d_402cf41c9607row1_col4 {\n",
       "            background-color:  green;\n",
       "        }    #T_3c71cad4_03ce_11ed_980d_402cf41c9607row3_col1 {\n",
       "            background-color:  green;\n",
       "        }    #T_3c71cad4_03ce_11ed_980d_402cf41c9607row3_col2 {\n",
       "            background-color:  green;\n",
       "        }</style><table id=\"T_3c71cad4_03ce_11ed_980d_402cf41c9607\" ><thead>    <tr>        <th class=\"blank level0\" ></th>        <th class=\"col_heading level0 col0\" >event_types</th>        <th class=\"col_heading level0 col1\" >number_of_users</th>        <th class=\"col_heading level0 col2\" >total _percentage</th>        <th class=\"col_heading level0 col3\" >users_left</th>        <th class=\"col_heading level0 col4\" >percentage_of_users_gone</th>    </tr></thead><tbody>\n",
       "                <tr>\n",
       "                        <th id=\"T_3c71cad4_03ce_11ed_980d_402cf41c9607level0_row0\" class=\"row_heading level0 row0\" >0</th>\n",
       "                        <td id=\"T_3c71cad4_03ce_11ed_980d_402cf41c9607row0_col0\" class=\"data row0 col0\" >MainScreenAppear</td>\n",
       "                        <td id=\"T_3c71cad4_03ce_11ed_980d_402cf41c9607row0_col1\" class=\"data row0 col1\" >7419</td>\n",
       "                        <td id=\"T_3c71cad4_03ce_11ed_980d_402cf41c9607row0_col2\" class=\"data row0 col2\" >98.2519</td>\n",
       "                        <td id=\"T_3c71cad4_03ce_11ed_980d_402cf41c9607row0_col3\" class=\"data row0 col3\" >0</td>\n",
       "                        <td id=\"T_3c71cad4_03ce_11ed_980d_402cf41c9607row0_col4\" class=\"data row0 col4\" >0</td>\n",
       "            </tr>\n",
       "            <tr>\n",
       "                        <th id=\"T_3c71cad4_03ce_11ed_980d_402cf41c9607level0_row1\" class=\"row_heading level0 row1\" >1</th>\n",
       "                        <td id=\"T_3c71cad4_03ce_11ed_980d_402cf41c9607row1_col0\" class=\"data row1 col0\" >OffersScreenAppear</td>\n",
       "                        <td id=\"T_3c71cad4_03ce_11ed_980d_402cf41c9607row1_col1\" class=\"data row1 col1\" >4593</td>\n",
       "                        <td id=\"T_3c71cad4_03ce_11ed_980d_402cf41c9607row1_col2\" class=\"data row1 col2\" >60.8264</td>\n",
       "                        <td id=\"T_3c71cad4_03ce_11ed_980d_402cf41c9607row1_col3\" class=\"data row1 col3\" >-2826</td>\n",
       "                        <td id=\"T_3c71cad4_03ce_11ed_980d_402cf41c9607row1_col4\" class=\"data row1 col4\" >-38.0914</td>\n",
       "            </tr>\n",
       "            <tr>\n",
       "                        <th id=\"T_3c71cad4_03ce_11ed_980d_402cf41c9607level0_row2\" class=\"row_heading level0 row2\" >2</th>\n",
       "                        <td id=\"T_3c71cad4_03ce_11ed_980d_402cf41c9607row2_col0\" class=\"data row2 col0\" >CartScreenAppear</td>\n",
       "                        <td id=\"T_3c71cad4_03ce_11ed_980d_402cf41c9607row2_col1\" class=\"data row2 col1\" >3734</td>\n",
       "                        <td id=\"T_3c71cad4_03ce_11ed_980d_402cf41c9607row2_col2\" class=\"data row2 col2\" >49.4504</td>\n",
       "                        <td id=\"T_3c71cad4_03ce_11ed_980d_402cf41c9607row2_col3\" class=\"data row2 col3\" >-859</td>\n",
       "                        <td id=\"T_3c71cad4_03ce_11ed_980d_402cf41c9607row2_col4\" class=\"data row2 col4\" >-18.7024</td>\n",
       "            </tr>\n",
       "            <tr>\n",
       "                        <th id=\"T_3c71cad4_03ce_11ed_980d_402cf41c9607level0_row3\" class=\"row_heading level0 row3\" >3</th>\n",
       "                        <td id=\"T_3c71cad4_03ce_11ed_980d_402cf41c9607row3_col0\" class=\"data row3 col0\" >PaymentScreenSuccessful</td>\n",
       "                        <td id=\"T_3c71cad4_03ce_11ed_980d_402cf41c9607row3_col1\" class=\"data row3 col1\" >3539</td>\n",
       "                        <td id=\"T_3c71cad4_03ce_11ed_980d_402cf41c9607row3_col2\" class=\"data row3 col2\" >46.868</td>\n",
       "                        <td id=\"T_3c71cad4_03ce_11ed_980d_402cf41c9607row3_col3\" class=\"data row3 col3\" >-195</td>\n",
       "                        <td id=\"T_3c71cad4_03ce_11ed_980d_402cf41c9607row3_col4\" class=\"data row3 col4\" >-5.22228</td>\n",
       "            </tr>\n",
       "    </tbody></table>"
      ],
      "text/plain": [
       "<pandas.io.formats.style.Styler at 0x1658b87d4c8>"
      ]
     },
     "execution_count": 25,
     "metadata": {},
     "output_type": "execute_result"
    }
   ],
   "source": [
    "repartition_of_users_unique['percentage_of_users_gone'] = ( repartition_of_users_unique['number_of_users'].pct_change()*100).fillna(0)\n",
    "repartition_of_users_unique.style \\\n",
    "    .highlight_min(color='green')"
   ]
  },
  {
   "cell_type": "markdown",
   "metadata": {},
   "source": [
    "The percentage of users left at \"OffersScreenAppear\" event is more compared to the other events."
   ]
  },
  {
   "cell_type": "markdown",
   "metadata": {},
   "source": [
    "-  Event \"MainScreenAppear\",\"OffersScreenAppear\", \"CartScreenAppear\", \"PaymentScreenSuccessful\" and \"Tutorial\" have number of events are 119205, 46825, 42731, 34313 and 1052 respectively.\n",
    "-  Event \"MainScreenAppear\",\"OffersScreenAppear\", \"CartScreenAppear\", \"PaymentScreenSuccessful\" and \"Tutorial\" have the percentage of number of events are 48.83%, 19.18%, 17.51%, 14.05% and 0.43% respectively.\n",
    "-  After repartition the event \"MainScreenAppear\",\"OffersScreenAppear\", \"CartScreenAppear\", \"PaymentScreenSuccessful\" and \"Tutorial\" have number of users are 117431, 46350, 42365, 34113 and 1039 respectively.\n",
    "-  After repartiton the number of users unique per events \"MainScreenAppear\",\"OffersScreenAppear\", \"CartScreenAppear\", \"PaymentScreenSuccessful\" and \"Tutorial\" have number of users are 7419, 4593, 3734, 3539 and 840 respectively.\n",
    "-  \"event_types\" \"Tutorial\" has \"number_of_users\" are very less compared to other \"event_types\". That's why I dropped \"event_type\" \"Tutorial\".\n",
    "-  Event \"MainScreenAppear\" has no users left.\n",
    "-  The percentage of users left at \"OffersScreenAppear\" event is more compared to the other events."
   ]
  },
  {
   "cell_type": "markdown",
   "metadata": {},
   "source": [
    "<a id='the_destination5'></a>\n",
    "# Step 5. Study the results of the experiment"
   ]
  },
  {
   "cell_type": "markdown",
   "metadata": {},
   "source": [
    "**Number of users are there in each group:**"
   ]
  },
  {
   "cell_type": "code",
   "execution_count": 26,
   "metadata": {},
   "outputs": [
    {
     "data": {
      "text/html": [
       "<div>\n",
       "<style scoped>\n",
       "    .dataframe tbody tr th:only-of-type {\n",
       "        vertical-align: middle;\n",
       "    }\n",
       "\n",
       "    .dataframe tbody tr th {\n",
       "        vertical-align: top;\n",
       "    }\n",
       "\n",
       "    .dataframe thead th {\n",
       "        text-align: right;\n",
       "    }\n",
       "</style>\n",
       "<table border=\"1\" class=\"dataframe\">\n",
       "  <thead>\n",
       "    <tr style=\"text-align: right;\">\n",
       "      <th></th>\n",
       "      <th>exp_id</th>\n",
       "      <th>device_id</th>\n",
       "    </tr>\n",
       "  </thead>\n",
       "  <tbody>\n",
       "    <tr>\n",
       "      <td>0</td>\n",
       "      <td>246</td>\n",
       "      <td>80304</td>\n",
       "    </tr>\n",
       "    <tr>\n",
       "      <td>1</td>\n",
       "      <td>247</td>\n",
       "      <td>78075</td>\n",
       "    </tr>\n",
       "    <tr>\n",
       "      <td>2</td>\n",
       "      <td>248</td>\n",
       "      <td>85747</td>\n",
       "    </tr>\n",
       "  </tbody>\n",
       "</table>\n",
       "</div>"
      ],
      "text/plain": [
       "   exp_id  device_id\n",
       "0     246      80304\n",
       "1     247      78075\n",
       "2     248      85747"
      ]
     },
     "execution_count": 26,
     "metadata": {},
     "output_type": "execute_result"
    }
   ],
   "source": [
    "logs_exp.groupby('exp_id')['device_id'].count().reset_index()"
   ]
  },
  {
   "cell_type": "markdown",
   "metadata": {},
   "source": [
    "Control groups 246, 247, and 248 have 80304, 78075, and 85747 users respectively."
   ]
  },
  {
   "cell_type": "markdown",
   "metadata": {},
   "source": [
    "**Number of users are there in each group for the \"new_logs\" dataset:**"
   ]
  },
  {
   "cell_type": "code",
   "execution_count": 27,
   "metadata": {},
   "outputs": [
    {
     "data": {
      "text/html": [
       "<div>\n",
       "<style scoped>\n",
       "    .dataframe tbody tr th:only-of-type {\n",
       "        vertical-align: middle;\n",
       "    }\n",
       "\n",
       "    .dataframe tbody tr th {\n",
       "        vertical-align: top;\n",
       "    }\n",
       "\n",
       "    .dataframe thead th {\n",
       "        text-align: right;\n",
       "    }\n",
       "</style>\n",
       "<table border=\"1\" class=\"dataframe\">\n",
       "  <thead>\n",
       "    <tr style=\"text-align: right;\">\n",
       "      <th></th>\n",
       "      <th>exp_id</th>\n",
       "      <th>number_of_users</th>\n",
       "      <th>percentage</th>\n",
       "    </tr>\n",
       "  </thead>\n",
       "  <tbody>\n",
       "    <tr>\n",
       "      <td>0</td>\n",
       "      <td>246</td>\n",
       "      <td>2484</td>\n",
       "      <td>32.97%</td>\n",
       "    </tr>\n",
       "    <tr>\n",
       "      <td>1</td>\n",
       "      <td>247</td>\n",
       "      <td>2513</td>\n",
       "      <td>33.36%</td>\n",
       "    </tr>\n",
       "    <tr>\n",
       "      <td>2</td>\n",
       "      <td>248</td>\n",
       "      <td>2537</td>\n",
       "      <td>33.67%</td>\n",
       "    </tr>\n",
       "  </tbody>\n",
       "</table>\n",
       "</div>"
      ],
      "text/plain": [
       "   exp_id  number_of_users percentage\n",
       "0     246             2484     32.97%\n",
       "1     247             2513     33.36%\n",
       "2     248             2537     33.67%"
      ]
     },
     "metadata": {},
     "output_type": "display_data"
    }
   ],
   "source": [
    "number_of_user_group_one = new_logs.groupby('exp_id')['device_id'].nunique().reset_index()\n",
    "number_of_user_group_one.rename(columns = {'device_id': 'number_of_users'}, inplace=True)\n",
    "number_of_user_group_one['percentage'] = ((number_of_user_group_one['number_of_users'] / number_of_user_group_one['number_of_users'].sum()) * 100).map(\"{:,.2f}%\".format)\n",
    "display(number_of_user_group_one)"
   ]
  },
  {
   "cell_type": "markdown",
   "metadata": {},
   "source": [
    "In the \"new_logs\" dataset, Control groups 246, 247, and 248 have 2484, 2513, and 2537 users respectively."
   ]
  },
  {
   "cell_type": "markdown",
   "metadata": {},
   "source": [
    "**Number of unique users who performed each event:**"
   ]
  },
  {
   "cell_type": "code",
   "execution_count": 28,
   "metadata": {},
   "outputs": [
    {
     "data": {
      "text/html": [
       "<div>\n",
       "<style scoped>\n",
       "    .dataframe tbody tr th:only-of-type {\n",
       "        vertical-align: middle;\n",
       "    }\n",
       "\n",
       "    .dataframe tbody tr th {\n",
       "        vertical-align: top;\n",
       "    }\n",
       "\n",
       "    .dataframe thead th {\n",
       "        text-align: right;\n",
       "    }\n",
       "</style>\n",
       "<table border=\"1\" class=\"dataframe\">\n",
       "  <thead>\n",
       "    <tr style=\"text-align: right;\">\n",
       "      <th>exp_id</th>\n",
       "      <th>event_name</th>\n",
       "      <th>experiment_246</th>\n",
       "      <th>experiment_247</th>\n",
       "      <th>experiment_248</th>\n",
       "    </tr>\n",
       "  </thead>\n",
       "  <tbody>\n",
       "    <tr>\n",
       "      <td>0</td>\n",
       "      <td>CartScreenAppear</td>\n",
       "      <td>1266</td>\n",
       "      <td>1238</td>\n",
       "      <td>1230</td>\n",
       "    </tr>\n",
       "    <tr>\n",
       "      <td>1</td>\n",
       "      <td>MainScreenAppear</td>\n",
       "      <td>2450</td>\n",
       "      <td>2476</td>\n",
       "      <td>2493</td>\n",
       "    </tr>\n",
       "    <tr>\n",
       "      <td>2</td>\n",
       "      <td>OffersScreenAppear</td>\n",
       "      <td>1542</td>\n",
       "      <td>1520</td>\n",
       "      <td>1531</td>\n",
       "    </tr>\n",
       "    <tr>\n",
       "      <td>3</td>\n",
       "      <td>PaymentScreenSuccessful</td>\n",
       "      <td>1200</td>\n",
       "      <td>1158</td>\n",
       "      <td>1181</td>\n",
       "    </tr>\n",
       "    <tr>\n",
       "      <td>4</td>\n",
       "      <td>Tutorial</td>\n",
       "      <td>278</td>\n",
       "      <td>283</td>\n",
       "      <td>279</td>\n",
       "    </tr>\n",
       "  </tbody>\n",
       "</table>\n",
       "</div>"
      ],
      "text/plain": [
       "exp_id               event_name  experiment_246  experiment_247  \\\n",
       "0              CartScreenAppear            1266            1238   \n",
       "1              MainScreenAppear            2450            2476   \n",
       "2            OffersScreenAppear            1542            1520   \n",
       "3       PaymentScreenSuccessful            1200            1158   \n",
       "4                      Tutorial             278             283   \n",
       "\n",
       "exp_id  experiment_248  \n",
       "0                 1230  \n",
       "1                 2493  \n",
       "2                 1531  \n",
       "3                 1181  \n",
       "4                  279  "
      ]
     },
     "metadata": {},
     "output_type": "display_data"
    }
   ],
   "source": [
    "number_of_user_experiment = (new_logs.pivot_table(index = 'event_name', columns = 'exp_id', values = 'device_id', aggfunc = 'nunique')).reset_index()\n",
    "number_of_user_experiment = number_of_user_experiment.rename(columns = {246: 'experiment_246',247:'experiment_247',248:'experiment_248'})\n",
    "display(number_of_user_experiment)"
   ]
  },
  {
   "cell_type": "markdown",
   "metadata": {},
   "source": [
    "**Dropping a row tutorial:**"
   ]
  },
  {
   "cell_type": "code",
   "execution_count": 29,
   "metadata": {},
   "outputs": [
    {
     "data": {
      "text/html": [
       "<div>\n",
       "<style scoped>\n",
       "    .dataframe tbody tr th:only-of-type {\n",
       "        vertical-align: middle;\n",
       "    }\n",
       "\n",
       "    .dataframe tbody tr th {\n",
       "        vertical-align: top;\n",
       "    }\n",
       "\n",
       "    .dataframe thead th {\n",
       "        text-align: right;\n",
       "    }\n",
       "</style>\n",
       "<table border=\"1\" class=\"dataframe\">\n",
       "  <thead>\n",
       "    <tr style=\"text-align: right;\">\n",
       "      <th>exp_id</th>\n",
       "      <th>event_name</th>\n",
       "      <th>experiment_246</th>\n",
       "      <th>experiment_247</th>\n",
       "      <th>experiment_248</th>\n",
       "    </tr>\n",
       "  </thead>\n",
       "  <tbody>\n",
       "    <tr>\n",
       "      <td>1</td>\n",
       "      <td>MainScreenAppear</td>\n",
       "      <td>2450</td>\n",
       "      <td>2476</td>\n",
       "      <td>2493</td>\n",
       "    </tr>\n",
       "    <tr>\n",
       "      <td>2</td>\n",
       "      <td>OffersScreenAppear</td>\n",
       "      <td>1542</td>\n",
       "      <td>1520</td>\n",
       "      <td>1531</td>\n",
       "    </tr>\n",
       "    <tr>\n",
       "      <td>0</td>\n",
       "      <td>CartScreenAppear</td>\n",
       "      <td>1266</td>\n",
       "      <td>1238</td>\n",
       "      <td>1230</td>\n",
       "    </tr>\n",
       "    <tr>\n",
       "      <td>3</td>\n",
       "      <td>PaymentScreenSuccessful</td>\n",
       "      <td>1200</td>\n",
       "      <td>1158</td>\n",
       "      <td>1181</td>\n",
       "    </tr>\n",
       "  </tbody>\n",
       "</table>\n",
       "</div>"
      ],
      "text/plain": [
       "exp_id               event_name  experiment_246  experiment_247  \\\n",
       "1              MainScreenAppear            2450            2476   \n",
       "2            OffersScreenAppear            1542            1520   \n",
       "0              CartScreenAppear            1266            1238   \n",
       "3       PaymentScreenSuccessful            1200            1158   \n",
       "\n",
       "exp_id  experiment_248  \n",
       "1                 2493  \n",
       "2                 1531  \n",
       "0                 1230  \n",
       "3                 1181  "
      ]
     },
     "metadata": {},
     "output_type": "display_data"
    }
   ],
   "source": [
    "number_of_user_experiment = number_of_user_experiment[number_of_user_experiment.event_name != 'Tutorial']\n",
    "number_of_user_experiment = number_of_user_experiment.sort_values(by = 'experiment_246', ascending = False)\n",
    "display(number_of_user_experiment)"
   ]
  },
  {
   "cell_type": "markdown",
   "metadata": {},
   "source": [
    "Event \"Tutorial\" used very less control groups (experiment_246, experiment_247, experiment_248) compared to the other events.That's why we dropped that event."
   ]
  },
  {
   "cell_type": "markdown",
   "metadata": {},
   "source": [
    "**Selecting the most popular event:**"
   ]
  },
  {
   "cell_type": "code",
   "execution_count": 30,
   "metadata": {},
   "outputs": [
    {
     "data": {
      "text/html": [
       "<div>\n",
       "<style scoped>\n",
       "    .dataframe tbody tr th:only-of-type {\n",
       "        vertical-align: middle;\n",
       "    }\n",
       "\n",
       "    .dataframe tbody tr th {\n",
       "        vertical-align: top;\n",
       "    }\n",
       "\n",
       "    .dataframe thead th {\n",
       "        text-align: right;\n",
       "    }\n",
       "</style>\n",
       "<table border=\"1\" class=\"dataframe\">\n",
       "  <thead>\n",
       "    <tr style=\"text-align: right;\">\n",
       "      <th>exp_id</th>\n",
       "      <th>event_name</th>\n",
       "      <th>experiment_246</th>\n",
       "      <th>experiment_247</th>\n",
       "      <th>experiment_248</th>\n",
       "    </tr>\n",
       "  </thead>\n",
       "  <tbody>\n",
       "    <tr>\n",
       "      <td>1</td>\n",
       "      <td>MainScreenAppear</td>\n",
       "      <td>2450</td>\n",
       "      <td>2476</td>\n",
       "      <td>2493</td>\n",
       "    </tr>\n",
       "  </tbody>\n",
       "</table>\n",
       "</div>"
      ],
      "text/plain": [
       "exp_id        event_name  experiment_246  experiment_247  experiment_248\n",
       "1       MainScreenAppear            2450            2476            2493"
      ]
     },
     "metadata": {},
     "output_type": "display_data"
    }
   ],
   "source": [
    "control_group = number_of_user_experiment[number_of_user_experiment['event_name'] == 'MainScreenAppear']\n",
    "display(control_group)"
   ]
  },
  {
   "cell_type": "markdown",
   "metadata": {},
   "source": [
    "The most popular event is \"MainScreenAppear\"."
   ]
  },
  {
   "cell_type": "markdown",
   "metadata": {},
   "source": [
    "**Finding the share in each control group: number of users in each control group / total  number of users in each  group:**"
   ]
  },
  {
   "cell_type": "code",
   "execution_count": 31,
   "metadata": {},
   "outputs": [
    {
     "name": "stderr",
     "output_type": "stream",
     "text": [
      "C:\\ProgramData\\Anaconda3\\lib\\site-packages\\ipykernel_launcher.py:1: SettingWithCopyWarning: \n",
      "A value is trying to be set on a copy of a slice from a DataFrame.\n",
      "Try using .loc[row_indexer,col_indexer] = value instead\n",
      "\n",
      "See the caveats in the documentation: http://pandas.pydata.org/pandas-docs/stable/user_guide/indexing.html#returning-a-view-versus-a-copy\n",
      "  \"\"\"Entry point for launching an IPython kernel.\n",
      "C:\\ProgramData\\Anaconda3\\lib\\site-packages\\ipykernel_launcher.py:2: SettingWithCopyWarning: \n",
      "A value is trying to be set on a copy of a slice from a DataFrame.\n",
      "Try using .loc[row_indexer,col_indexer] = value instead\n",
      "\n",
      "See the caveats in the documentation: http://pandas.pydata.org/pandas-docs/stable/user_guide/indexing.html#returning-a-view-versus-a-copy\n",
      "  \n",
      "C:\\ProgramData\\Anaconda3\\lib\\site-packages\\ipykernel_launcher.py:3: SettingWithCopyWarning: \n",
      "A value is trying to be set on a copy of a slice from a DataFrame.\n",
      "Try using .loc[row_indexer,col_indexer] = value instead\n",
      "\n",
      "See the caveats in the documentation: http://pandas.pydata.org/pandas-docs/stable/user_guide/indexing.html#returning-a-view-versus-a-copy\n",
      "  This is separate from the ipykernel package so we can avoid doing imports until\n"
     ]
    },
    {
     "data": {
      "text/html": [
       "<div>\n",
       "<style scoped>\n",
       "    .dataframe tbody tr th:only-of-type {\n",
       "        vertical-align: middle;\n",
       "    }\n",
       "\n",
       "    .dataframe tbody tr th {\n",
       "        vertical-align: top;\n",
       "    }\n",
       "\n",
       "    .dataframe thead th {\n",
       "        text-align: right;\n",
       "    }\n",
       "</style>\n",
       "<table border=\"1\" class=\"dataframe\">\n",
       "  <thead>\n",
       "    <tr style=\"text-align: right;\">\n",
       "      <th>exp_id</th>\n",
       "      <th>event_name</th>\n",
       "      <th>experiment_246</th>\n",
       "      <th>experiment_247</th>\n",
       "      <th>experiment_248</th>\n",
       "      <th>experiment_246_share</th>\n",
       "      <th>experiment_247_share</th>\n",
       "      <th>experiment_248_share</th>\n",
       "    </tr>\n",
       "  </thead>\n",
       "  <tbody>\n",
       "    <tr>\n",
       "      <td>1</td>\n",
       "      <td>MainScreenAppear</td>\n",
       "      <td>2450</td>\n",
       "      <td>2476</td>\n",
       "      <td>2493</td>\n",
       "      <td>98.63124</td>\n",
       "      <td>98.527656</td>\n",
       "      <td>98.265668</td>\n",
       "    </tr>\n",
       "  </tbody>\n",
       "</table>\n",
       "</div>"
      ],
      "text/plain": [
       "exp_id        event_name  experiment_246  experiment_247  experiment_248  \\\n",
       "1       MainScreenAppear            2450            2476            2493   \n",
       "\n",
       "exp_id  experiment_246_share  experiment_247_share  experiment_248_share  \n",
       "1                   98.63124             98.527656             98.265668  "
      ]
     },
     "metadata": {},
     "output_type": "display_data"
    }
   ],
   "source": [
    "control_group['experiment_246_share'] = (control_group['experiment_246'] / number_of_user_group_one.loc[0,'number_of_users'] )* 100\n",
    "control_group['experiment_247_share'] = (control_group['experiment_247'] / number_of_user_group_one.loc[1,'number_of_users'] )* 100\n",
    "control_group['experiment_248_share'] = (control_group['experiment_248'] / number_of_user_group_one.loc[2,'number_of_users'] )* 100\n",
    "display(control_group)"
   ]
  },
  {
   "cell_type": "markdown",
   "metadata": {},
   "source": [
    "The share in each control group are almost same.\"experiment_246_share\", \"experiment_247_share\" and \"experiment_248_share\" are 98.64, 98.53 and 98.26 respectively."
   ]
  },
  {
   "cell_type": "markdown",
   "metadata": {},
   "source": [
    "**Function set to be compiled in a table:**"
   ]
  },
  {
   "cell_type": "code",
   "execution_count": 32,
   "metadata": {},
   "outputs": [
    {
     "data": {
      "text/html": [
       "<div>\n",
       "<style scoped>\n",
       "    .dataframe tbody tr th:only-of-type {\n",
       "        vertical-align: middle;\n",
       "    }\n",
       "\n",
       "    .dataframe tbody tr th {\n",
       "        vertical-align: top;\n",
       "    }\n",
       "\n",
       "    .dataframe thead th {\n",
       "        text-align: right;\n",
       "    }\n",
       "</style>\n",
       "<table border=\"1\" class=\"dataframe\">\n",
       "  <thead>\n",
       "    <tr style=\"text-align: right;\">\n",
       "      <th></th>\n",
       "      <th>event_name</th>\n",
       "      <th>device_id</th>\n",
       "      <th>event_time_stamp</th>\n",
       "      <th>exp_id</th>\n",
       "      <th>event_date_n_time</th>\n",
       "      <th>Dates</th>\n",
       "      <th>Time</th>\n",
       "    </tr>\n",
       "  </thead>\n",
       "  <tbody>\n",
       "    <tr>\n",
       "      <td>2828</td>\n",
       "      <td>Tutorial</td>\n",
       "      <td>3737462046622621720</td>\n",
       "      <td>1564618048</td>\n",
       "      <td>246</td>\n",
       "      <td>2019-08-01 00:07:28</td>\n",
       "      <td>2019-08-01</td>\n",
       "      <td>00:07:28</td>\n",
       "    </tr>\n",
       "    <tr>\n",
       "      <td>2829</td>\n",
       "      <td>MainScreenAppear</td>\n",
       "      <td>3737462046622621720</td>\n",
       "      <td>1564618080</td>\n",
       "      <td>246</td>\n",
       "      <td>2019-08-01 00:08:00</td>\n",
       "      <td>2019-08-01</td>\n",
       "      <td>00:08:00</td>\n",
       "    </tr>\n",
       "    <tr>\n",
       "      <td>2830</td>\n",
       "      <td>MainScreenAppear</td>\n",
       "      <td>3737462046622621720</td>\n",
       "      <td>1564618135</td>\n",
       "      <td>246</td>\n",
       "      <td>2019-08-01 00:08:55</td>\n",
       "      <td>2019-08-01</td>\n",
       "      <td>00:08:55</td>\n",
       "    </tr>\n",
       "    <tr>\n",
       "      <td>2831</td>\n",
       "      <td>OffersScreenAppear</td>\n",
       "      <td>3737462046622621720</td>\n",
       "      <td>1564618138</td>\n",
       "      <td>246</td>\n",
       "      <td>2019-08-01 00:08:58</td>\n",
       "      <td>2019-08-01</td>\n",
       "      <td>00:08:58</td>\n",
       "    </tr>\n",
       "    <tr>\n",
       "      <td>2832</td>\n",
       "      <td>MainScreenAppear</td>\n",
       "      <td>1433840883824088890</td>\n",
       "      <td>1564618139</td>\n",
       "      <td>247</td>\n",
       "      <td>2019-08-01 00:08:59</td>\n",
       "      <td>2019-08-01</td>\n",
       "      <td>00:08:59</td>\n",
       "    </tr>\n",
       "  </tbody>\n",
       "</table>\n",
       "</div>"
      ],
      "text/plain": [
       "              event_name            device_id  event_time_stamp  exp_id  \\\n",
       "2828            Tutorial  3737462046622621720        1564618048     246   \n",
       "2829    MainScreenAppear  3737462046622621720        1564618080     246   \n",
       "2830    MainScreenAppear  3737462046622621720        1564618135     246   \n",
       "2831  OffersScreenAppear  3737462046622621720        1564618138     246   \n",
       "2832    MainScreenAppear  1433840883824088890        1564618139     247   \n",
       "\n",
       "       event_date_n_time      Dates      Time  \n",
       "2828 2019-08-01 00:07:28 2019-08-01  00:07:28  \n",
       "2829 2019-08-01 00:08:00 2019-08-01  00:08:00  \n",
       "2830 2019-08-01 00:08:55 2019-08-01  00:08:55  \n",
       "2831 2019-08-01 00:08:58 2019-08-01  00:08:58  \n",
       "2832 2019-08-01 00:08:59 2019-08-01  00:08:59  "
      ]
     },
     "execution_count": 32,
     "metadata": {},
     "output_type": "execute_result"
    }
   ],
   "source": [
    "def z_test(trial_1, success_1, trial_2, success_2, alpha):\n",
    "    p1 = success_1 / trial_1\n",
    "    p2 = success_2 / trial_2\n",
    "    p_combined = (p1 * trial_1 + p2 * trial_2) / (trial_1 + trial_2)\n",
    "    difference = p1 - p2\n",
    "    z_value = difference / mth.sqrt(p_combined * (1 - p_combined) * (1 / trial_1 + 1 / trial_2))\n",
    "    distr = st.norm(0,1)\n",
    "    return (1 - distr.cdf(abs(z_value))) * 2\n",
    "newly = new_logs\n",
    "newly.head()"
   ]
  },
  {
   "cell_type": "markdown",
   "metadata": {},
   "source": [
    "**Total number of unique users in each test group:**"
   ]
  },
  {
   "cell_type": "code",
   "execution_count": 33,
   "metadata": {},
   "outputs": [
    {
     "data": {
      "text/plain": [
       "exp_id\n",
       "246         2484\n",
       "247         2513\n",
       "248         2537\n",
       "combined    4997\n",
       "Name: device_id, dtype: int64"
      ]
     },
     "metadata": {},
     "output_type": "display_data"
    }
   ],
   "source": [
    "total_number = newly.groupby('exp_id').agg({'device_id':'nunique'})['device_id']\n",
    "total_number['combined'] = total_number[246] + total_number[247]\n",
    "display(total_number)"
   ]
  },
  {
   "cell_type": "markdown",
   "metadata": {},
   "source": [
    "Control groups 246, 247, 248 have unique users are 2484, 2513, 2537 respectively."
   ]
  },
  {
   "cell_type": "markdown",
   "metadata": {},
   "source": [
    "**Removing tutorial:**"
   ]
  },
  {
   "cell_type": "code",
   "execution_count": 34,
   "metadata": {},
   "outputs": [
    {
     "data": {
      "text/html": [
       "<div>\n",
       "<style scoped>\n",
       "    .dataframe tbody tr th:only-of-type {\n",
       "        vertical-align: middle;\n",
       "    }\n",
       "\n",
       "    .dataframe tbody tr th {\n",
       "        vertical-align: top;\n",
       "    }\n",
       "\n",
       "    .dataframe thead th {\n",
       "        text-align: right;\n",
       "    }\n",
       "</style>\n",
       "<table border=\"1\" class=\"dataframe\">\n",
       "  <thead>\n",
       "    <tr style=\"text-align: right;\">\n",
       "      <th>exp_id</th>\n",
       "      <th>246</th>\n",
       "      <th>247</th>\n",
       "      <th>248</th>\n",
       "      <th>combined</th>\n",
       "    </tr>\n",
       "    <tr>\n",
       "      <th>event_name</th>\n",
       "      <th></th>\n",
       "      <th></th>\n",
       "      <th></th>\n",
       "      <th></th>\n",
       "    </tr>\n",
       "  </thead>\n",
       "  <tbody>\n",
       "    <tr>\n",
       "      <td>CartScreenAppear</td>\n",
       "      <td>1266</td>\n",
       "      <td>1238</td>\n",
       "      <td>1230</td>\n",
       "      <td>2504</td>\n",
       "    </tr>\n",
       "    <tr>\n",
       "      <td>MainScreenAppear</td>\n",
       "      <td>2450</td>\n",
       "      <td>2476</td>\n",
       "      <td>2493</td>\n",
       "      <td>4926</td>\n",
       "    </tr>\n",
       "    <tr>\n",
       "      <td>OffersScreenAppear</td>\n",
       "      <td>1542</td>\n",
       "      <td>1520</td>\n",
       "      <td>1531</td>\n",
       "      <td>3062</td>\n",
       "    </tr>\n",
       "    <tr>\n",
       "      <td>PaymentScreenSuccessful</td>\n",
       "      <td>1200</td>\n",
       "      <td>1158</td>\n",
       "      <td>1181</td>\n",
       "      <td>2358</td>\n",
       "    </tr>\n",
       "  </tbody>\n",
       "</table>\n",
       "</div>"
      ],
      "text/plain": [
       "exp_id                    246   247   248  combined\n",
       "event_name                                         \n",
       "CartScreenAppear         1266  1238  1230      2504\n",
       "MainScreenAppear         2450  2476  2493      4926\n",
       "OffersScreenAppear       1542  1520  1531      3062\n",
       "PaymentScreenSuccessful  1200  1158  1181      2358"
      ]
     },
     "metadata": {},
     "output_type": "display_data"
    }
   ],
   "source": [
    "hypothese = newly.query('event_name != \"Tutorial\"').pivot_table(index='event_name', columns='exp_id', values='device_id', aggfunc='nunique')\n",
    "hypothese['combined'] = hypothese[246] + hypothese[247]\n",
    "display(hypothese)"
   ]
  },
  {
   "cell_type": "markdown",
   "metadata": {},
   "source": [
    "**Setting significance level:**"
   ]
  },
  {
   "cell_type": "code",
   "execution_count": 35,
   "metadata": {},
   "outputs": [
    {
     "data": {
      "text/html": [
       "<div>\n",
       "<style scoped>\n",
       "    .dataframe tbody tr th:only-of-type {\n",
       "        vertical-align: middle;\n",
       "    }\n",
       "\n",
       "    .dataframe tbody tr th {\n",
       "        vertical-align: top;\n",
       "    }\n",
       "\n",
       "    .dataframe thead th {\n",
       "        text-align: right;\n",
       "    }\n",
       "</style>\n",
       "<table border=\"1\" class=\"dataframe\">\n",
       "  <thead>\n",
       "    <tr style=\"text-align: right;\">\n",
       "      <th>exp_id</th>\n",
       "      <th>246</th>\n",
       "      <th>247</th>\n",
       "      <th>248</th>\n",
       "      <th>combined</th>\n",
       "      <th>alpha</th>\n",
       "    </tr>\n",
       "    <tr>\n",
       "      <th>event_name</th>\n",
       "      <th></th>\n",
       "      <th></th>\n",
       "      <th></th>\n",
       "      <th></th>\n",
       "      <th></th>\n",
       "    </tr>\n",
       "  </thead>\n",
       "  <tbody>\n",
       "    <tr>\n",
       "      <td>CartScreenAppear</td>\n",
       "      <td>1266</td>\n",
       "      <td>1238</td>\n",
       "      <td>1230</td>\n",
       "      <td>2504</td>\n",
       "      <td>0.05</td>\n",
       "    </tr>\n",
       "    <tr>\n",
       "      <td>MainScreenAppear</td>\n",
       "      <td>2450</td>\n",
       "      <td>2476</td>\n",
       "      <td>2493</td>\n",
       "      <td>4926</td>\n",
       "      <td>0.05</td>\n",
       "    </tr>\n",
       "    <tr>\n",
       "      <td>OffersScreenAppear</td>\n",
       "      <td>1542</td>\n",
       "      <td>1520</td>\n",
       "      <td>1531</td>\n",
       "      <td>3062</td>\n",
       "      <td>0.05</td>\n",
       "    </tr>\n",
       "    <tr>\n",
       "      <td>PaymentScreenSuccessful</td>\n",
       "      <td>1200</td>\n",
       "      <td>1158</td>\n",
       "      <td>1181</td>\n",
       "      <td>2358</td>\n",
       "      <td>0.05</td>\n",
       "    </tr>\n",
       "  </tbody>\n",
       "</table>\n",
       "</div>"
      ],
      "text/plain": [
       "exp_id                    246   247   248  combined  alpha\n",
       "event_name                                                \n",
       "CartScreenAppear         1266  1238  1230      2504   0.05\n",
       "MainScreenAppear         2450  2476  2493      4926   0.05\n",
       "OffersScreenAppear       1542  1520  1531      3062   0.05\n",
       "PaymentScreenSuccessful  1200  1158  1181      2358   0.05"
      ]
     },
     "metadata": {},
     "output_type": "display_data"
    }
   ],
   "source": [
    "hypothese['alpha'] = 0.05\n",
    "display(hypothese)"
   ]
  },
  {
   "cell_type": "markdown",
   "metadata": {},
   "source": [
    "**First hypothsis formulation:**\n",
    "\n",
    "- Null Hypothesis (H_0) : There is a statistically significant difference between groups 246 and 247 and alpha = 0.05.\n",
    "\n",
    "\n",
    "- Alternative hypothesis (H_1) : There is no statistically significant difference between groups 246 and 247 and alpha = 0.05."
   ]
  },
  {
   "cell_type": "markdown",
   "metadata": {},
   "source": [
    "**Second hypothsis formulation:**\n",
    "\n",
    "- Null Hypothesis (H_0) : There is a statistically significant difference between groups 246 and 248 and alpha = 0.05.\n",
    "\n",
    "\n",
    "- Alternative hypothesis (H_1) : There is no statistically significant difference between groups 246 and 248 and alpha = 0.05."
   ]
  },
  {
   "cell_type": "markdown",
   "metadata": {},
   "source": [
    "**Third hypothsis formulation:**\n",
    "\n",
    "- Null Hypothesis (H_0) : There is a statistically significant difference between groups 247 and 248 and alpha = 0.05.\n",
    "\n",
    "\n",
    "- Alternative hypothesis (H_1) : There is no statistically significant difference between groups 247 and 248 and alpha = 0.05."
   ]
  },
  {
   "cell_type": "markdown",
   "metadata": {},
   "source": [
    "**Fourth hypothsis formulation:**\n",
    "\n",
    "- Null Hypothesis (H_0) : There is a statistically significant difference between groups combined (246 + 247) and 248 and alpha = 0.05.\n",
    "\n",
    "\n",
    "- Alternative hypothesis (H_1) : There is no statistically significant difference between groups combined (246 + 247) and 248 and alpha = 0.05."
   ]
  },
  {
   "cell_type": "code",
   "execution_count": 36,
   "metadata": {
    "scrolled": true
   },
   "outputs": [
    {
     "data": {
      "text/html": [
       "<div>\n",
       "<style scoped>\n",
       "    .dataframe tbody tr th:only-of-type {\n",
       "        vertical-align: middle;\n",
       "    }\n",
       "\n",
       "    .dataframe tbody tr th {\n",
       "        vertical-align: top;\n",
       "    }\n",
       "\n",
       "    .dataframe thead th {\n",
       "        text-align: right;\n",
       "    }\n",
       "</style>\n",
       "<table border=\"1\" class=\"dataframe\">\n",
       "  <thead>\n",
       "    <tr style=\"text-align: right;\">\n",
       "      <th>exp_id</th>\n",
       "      <th>246</th>\n",
       "      <th>247</th>\n",
       "      <th>248</th>\n",
       "      <th>combined</th>\n",
       "      <th>alpha</th>\n",
       "      <th>p-value_246_247</th>\n",
       "      <th>p-value_246_248</th>\n",
       "      <th>p-value_247_248</th>\n",
       "      <th>p-value_combined_248</th>\n",
       "    </tr>\n",
       "    <tr>\n",
       "      <th>event_name</th>\n",
       "      <th></th>\n",
       "      <th></th>\n",
       "      <th></th>\n",
       "      <th></th>\n",
       "      <th></th>\n",
       "      <th></th>\n",
       "      <th></th>\n",
       "      <th></th>\n",
       "      <th></th>\n",
       "    </tr>\n",
       "  </thead>\n",
       "  <tbody>\n",
       "    <tr>\n",
       "      <td>CartScreenAppear</td>\n",
       "      <td>1266</td>\n",
       "      <td>1238</td>\n",
       "      <td>1230</td>\n",
       "      <td>2504</td>\n",
       "      <td>0.05</td>\n",
       "      <td>0.228834</td>\n",
       "      <td>0.078429</td>\n",
       "      <td>0.578620</td>\n",
       "      <td>0.181759</td>\n",
       "    </tr>\n",
       "    <tr>\n",
       "      <td>MainScreenAppear</td>\n",
       "      <td>2450</td>\n",
       "      <td>2476</td>\n",
       "      <td>2493</td>\n",
       "      <td>4926</td>\n",
       "      <td>0.05</td>\n",
       "      <td>0.757060</td>\n",
       "      <td>0.294972</td>\n",
       "      <td>0.458705</td>\n",
       "      <td>0.294245</td>\n",
       "    </tr>\n",
       "    <tr>\n",
       "      <td>OffersScreenAppear</td>\n",
       "      <td>1542</td>\n",
       "      <td>1520</td>\n",
       "      <td>1531</td>\n",
       "      <td>3062</td>\n",
       "      <td>0.05</td>\n",
       "      <td>0.248095</td>\n",
       "      <td>0.208362</td>\n",
       "      <td>0.919782</td>\n",
       "      <td>0.434255</td>\n",
       "    </tr>\n",
       "    <tr>\n",
       "      <td>PaymentScreenSuccessful</td>\n",
       "      <td>1200</td>\n",
       "      <td>1158</td>\n",
       "      <td>1181</td>\n",
       "      <td>2358</td>\n",
       "      <td>0.05</td>\n",
       "      <td>0.114567</td>\n",
       "      <td>0.212255</td>\n",
       "      <td>0.737342</td>\n",
       "      <td>0.600429</td>\n",
       "    </tr>\n",
       "  </tbody>\n",
       "</table>\n",
       "</div>"
      ],
      "text/plain": [
       "exp_id                    246   247   248  combined  alpha  p-value_246_247  \\\n",
       "event_name                                                                    \n",
       "CartScreenAppear         1266  1238  1230      2504   0.05         0.228834   \n",
       "MainScreenAppear         2450  2476  2493      4926   0.05         0.757060   \n",
       "OffersScreenAppear       1542  1520  1531      3062   0.05         0.248095   \n",
       "PaymentScreenSuccessful  1200  1158  1181      2358   0.05         0.114567   \n",
       "\n",
       "exp_id                   p-value_246_248  p-value_247_248  \\\n",
       "event_name                                                  \n",
       "CartScreenAppear                0.078429         0.578620   \n",
       "MainScreenAppear                0.294972         0.458705   \n",
       "OffersScreenAppear              0.208362         0.919782   \n",
       "PaymentScreenSuccessful         0.212255         0.737342   \n",
       "\n",
       "exp_id                   p-value_combined_248  \n",
       "event_name                                     \n",
       "CartScreenAppear                     0.181759  \n",
       "MainScreenAppear                     0.294245  \n",
       "OffersScreenAppear                   0.434255  \n",
       "PaymentScreenSuccessful              0.600429  "
      ]
     },
     "metadata": {},
     "output_type": "display_data"
    }
   ],
   "source": [
    "hypothese['p-value_246_247'] = hypothese.apply(lambda x: z_test(total_number[246], x[246], total_number[247], x[247], hypothese['alpha']), axis=1)\n",
    "hypothese['p-value_246_248'] = hypothese.apply(lambda x: z_test(total_number[246], x[246], total_number[248], x[248], hypothese['alpha']), axis=1)\n",
    "hypothese['p-value_247_248'] = hypothese.apply(lambda x: z_test(total_number[247], x[247], total_number[248], x[248], hypothese['alpha']), axis=1)\n",
    "hypothese['p-value_combined_248'] = hypothese.apply(lambda x: z_test(total_number['combined'], x['combined'], total_number[248], x[248], hypothese['alpha']), axis=1)\n",
    "display(hypothese)"
   ]
  },
  {
   "cell_type": "markdown",
   "metadata": {},
   "source": [
    "For all of the events type II error is a false negative result. This means there is difference between the groups, but the test yielded a p-value greater than α, so there's no reason to reject H₀."
   ]
  },
  {
   "cell_type": "markdown",
   "metadata": {},
   "source": [
    "-  Control groups 246, 247, and 248 have 80304, 78075, and 85747 users respectively.\n",
    "-  In the \"new_logs\" dataset, Control groups 246, 247, and 248 have 2484, 2513, and 2537 users respectively.\n",
    "-  Event \"Tutorial\" used very less control groups (experiment_246, experiment_247, experiment_248) compared to the other events.That's why we dropped that event.\n",
    "-  The most popular event is \"MainScreenAppear\".\n",
    "-  The share in each control group are almost same.\"experiment_246_share\", \"experiment_247_share\" and \"experiment_248_share\" are 98.64, 98.53 and 98.26 respectively.\n",
    "-  Control groups 246, 247, 248 have unique users are 2484, 2513, 2537 respectively.\n",
    "-  For all of the events type II error is a false negative result. This means there is difference between the groups, but the test yielded a p-value greater than α, so there's no reason to reject H₀."
   ]
  },
  {
   "cell_type": "markdown",
   "metadata": {},
   "source": [
    "<a id='the_destination6'></a>\n",
    "# Step 6. Overall conclusion"
   ]
  },
  {
   "cell_type": "markdown",
   "metadata": {},
   "source": [
    "-  In the \"logs_exp\" dataset, there are 244126 rows and 4 columns named \"EventName\", \"DeviceIDHash\", \"EventTimestamp\", \"ExpId\".\n",
    "-  I renamed all of the column names. The new column names are \"event_name\", \"device_id\", \"event_time_stamp\", \"exp_id\".\n",
    "-  In the \"logs_exp\" dataset, \"event_name\" column is the object data type and rest of the columns are integer data types.\n",
    "-  \"event_time_stamp\" column was integer data type. I converted it from integer to \"to_datetime\" format.\n",
    "-  I splitted \"event_date_n_time\" column into separate date and time columns.\n",
    "-  There is no missing values in the \"logs_exp\" dataset.\n",
    "-  There are five events named \"MainScreenAppear\", \"OffersScreenAppear\", \"CartScreenAppear\", \"PaymentScreenSuccessful\" and \"Tutorial\". \"MainScreenAppear\", \"OffersScreenAppear\", \"CartScreenAppear\", \"PaymentScreenSuccessful\" and \"Tutorial\" have 119205, 46825, 42731, 34313, 1052 events respectively.\n",
    "-  In the \"logs_exp\" dataset, there are 244126 users in the logs.\n",
    "-  In the \"logs_exp\" dataset, maximum date is \"2019-08-07\" and minimum date is \"2019-07-25\".\n",
    "-  Number of events are increased from the beginning of August.\n",
    "-  The average number of events per user is 32. \n",
    "-  From the above histogram we can see that, from 25th July to 31st July number of events were very less compared to from 1st of August to 7th of August.\n",
    "-  To get a better representation of the data, let's consider the period from 2019/08/01 to 2019/08/08. We get 241298 events in the month of August.\n",
    "-  Number of events in old distribution and new distribution were 244126 and 241298 respectively.\n",
    "-  We have dropped 2828 data and the percentage of dropped data are 1%.\n",
    "-  Event \"MainScreenAppear\",\"OffersScreenAppear\", \"CartScreenAppear\", \"PaymentScreenSuccessful\" and \"Tutorial\" have number of events are 119205, 46825, 42731, 34313 and 1052 respectively.\n",
    "-  Event \"MainScreenAppear\",\"OffersScreenAppear\", \"CartScreenAppear\", \"PaymentScreenSuccessful\" and \"Tutorial\" have the percentage of number of events are 48.83%, 19.18%, 17.51%, 14.05% and 0.43% respectively.\n",
    "-  After repartition the event \"MainScreenAppear\",\"OffersScreenAppear\", \"CartScreenAppear\", \"PaymentScreenSuccessful\" and \"Tutorial\" have number of users are 117431, 46350, 42365, 34113 and 1039 respectively.\n",
    "-  After repartiton the number of users unique per events \"MainScreenAppear\",\"OffersScreenAppear\", \"CartScreenAppear\", \"PaymentScreenSuccessful\" and \"Tutorial\" have number of users are 7419, 4593, 3734, 3539 and 840 respectively.\n",
    "-  \"event_types\" \"Tutorial\" has \"number_of_users\" are very less compared to other \"event_types\". That's why I dropped \"event_type\" \"Tutorial\".\n",
    "-  Event \"MainScreenAppear\" has no users left.\n",
    "-  The percentage of users left at \"OffersScreenAppear\" event is more compared to the other events.\n",
    "-  Control groups 246, 247, and 248 have 80304, 78075, and 85747 users respectively.\n",
    "-  In the \"new_logs\" dataset, Control groups 246, 247, and 248 have 2484, 2513, and 2537 users respectively.\n",
    "-  Event \"Tutorial\" used very less control groups (experiment_246, experiment_247, experiment_248) compared to the other events.That's why we dropped that event.\n",
    "-  The most popular event is \"MainScreenAppear\".\n",
    "-  The share in each control group are almost same.\"experiment_246_share\", \"experiment_247_share\" and \"experiment_248_share\" are 98.64, 98.53 and 98.26 respectively.\n",
    "-  Control groups 246, 247, 248 have unique users are 2484, 2513, 2537 respectively.\n",
    "-  For all of the events type II error is a false negative result. This means there is difference between the groups, but the test yielded a p-value greater than α, so there's no reason to reject H₀."
   ]
  },
  {
   "cell_type": "code",
   "execution_count": null,
   "metadata": {},
   "outputs": [],
   "source": []
  }
 ],
 "metadata": {
  "ExecuteTimeLog": [
   {
    "duration": 163,
    "start_time": "2021-09-22T11:27:51.306Z"
   },
   {
    "duration": 619,
    "start_time": "2021-09-22T11:31:06.935Z"
   },
   {
    "duration": 2124,
    "start_time": "2021-09-22T11:31:17.174Z"
   },
   {
    "duration": 1910,
    "start_time": "2021-09-22T11:31:25.032Z"
   },
   {
    "duration": 377,
    "start_time": "2021-09-22T11:31:26.945Z"
   },
   {
    "duration": 365,
    "start_time": "2021-09-22T11:33:20.378Z"
   },
   {
    "duration": 366,
    "start_time": "2021-09-22T11:33:32.237Z"
   },
   {
    "duration": 345,
    "start_time": "2021-09-22T11:33:48.520Z"
   },
   {
    "duration": 2051,
    "start_time": "2021-09-22T11:33:56.921Z"
   },
   {
    "duration": 360,
    "start_time": "2021-09-22T11:33:58.974Z"
   },
   {
    "duration": 1420,
    "start_time": "2021-09-23T08:01:34.692Z"
   },
   {
    "duration": 272,
    "start_time": "2021-09-23T08:01:36.114Z"
   },
   {
    "duration": 260,
    "start_time": "2021-09-23T08:01:52.544Z"
   },
   {
    "duration": 6,
    "start_time": "2021-09-23T08:05:52.308Z"
   },
   {
    "duration": 1492,
    "start_time": "2021-09-23T08:15:31.124Z"
   },
   {
    "duration": 273,
    "start_time": "2021-09-23T08:15:32.619Z"
   },
   {
    "duration": 4,
    "start_time": "2021-09-23T08:15:32.894Z"
   },
   {
    "duration": 281,
    "start_time": "2021-09-23T08:22:57.204Z"
   },
   {
    "duration": 262,
    "start_time": "2021-09-23T08:23:23.440Z"
   },
   {
    "duration": 187,
    "start_time": "2021-09-23T08:25:04.330Z"
   },
   {
    "duration": 4,
    "start_time": "2021-09-23T08:25:32.619Z"
   },
   {
    "duration": 47,
    "start_time": "2021-09-23T08:28:39.699Z"
   },
   {
    "duration": 135,
    "start_time": "2021-09-23T08:28:54.737Z"
   },
   {
    "duration": 130,
    "start_time": "2021-09-23T08:29:47.013Z"
   },
   {
    "duration": 15,
    "start_time": "2021-09-23T08:30:35.936Z"
   },
   {
    "duration": 1510,
    "start_time": "2021-09-23T08:33:46.811Z"
   },
   {
    "duration": 143,
    "start_time": "2021-09-23T08:33:48.323Z"
   },
   {
    "duration": 6,
    "start_time": "2021-09-23T08:33:48.469Z"
   },
   {
    "duration": 67,
    "start_time": "2021-09-23T08:33:48.477Z"
   },
   {
    "duration": 16,
    "start_time": "2021-09-23T08:33:48.546Z"
   },
   {
    "duration": 1586,
    "start_time": "2021-09-23T08:35:59.977Z"
   },
   {
    "duration": 153,
    "start_time": "2021-09-23T08:36:01.565Z"
   },
   {
    "duration": 6,
    "start_time": "2021-09-23T08:36:01.720Z"
   },
   {
    "duration": 66,
    "start_time": "2021-09-23T08:36:01.728Z"
   },
   {
    "duration": 15,
    "start_time": "2021-09-23T08:36:01.796Z"
   },
   {
    "duration": 24,
    "start_time": "2021-09-23T08:37:52.408Z"
   },
   {
    "duration": 23,
    "start_time": "2021-09-23T08:38:14.709Z"
   },
   {
    "duration": 23,
    "start_time": "2021-09-23T08:38:20.845Z"
   },
   {
    "duration": 10,
    "start_time": "2021-09-23T08:43:33.286Z"
   },
   {
    "duration": 10,
    "start_time": "2021-09-23T08:43:44.009Z"
   },
   {
    "duration": 9,
    "start_time": "2021-09-23T08:43:57.582Z"
   },
   {
    "duration": 1499,
    "start_time": "2021-09-23T08:44:43.014Z"
   },
   {
    "duration": 137,
    "start_time": "2021-09-23T08:44:44.515Z"
   },
   {
    "duration": 5,
    "start_time": "2021-09-23T08:44:44.654Z"
   },
   {
    "duration": 52,
    "start_time": "2021-09-23T08:44:44.661Z"
   },
   {
    "duration": 31,
    "start_time": "2021-09-23T08:44:44.714Z"
   },
   {
    "duration": 23,
    "start_time": "2021-09-23T08:44:44.747Z"
   },
   {
    "duration": 9,
    "start_time": "2021-09-23T08:44:44.772Z"
   },
   {
    "duration": 283,
    "start_time": "2021-09-23T23:47:52.757Z"
   },
   {
    "duration": 2087,
    "start_time": "2021-09-23T23:48:01.136Z"
   },
   {
    "duration": 207,
    "start_time": "2021-09-23T23:48:03.226Z"
   },
   {
    "duration": 7,
    "start_time": "2021-09-23T23:48:03.437Z"
   },
   {
    "duration": 439,
    "start_time": "2021-09-23T23:48:03.448Z"
   },
   {
    "duration": 655,
    "start_time": "2021-09-23T23:48:03.236Z"
   },
   {
    "duration": 645,
    "start_time": "2021-09-23T23:48:03.247Z"
   },
   {
    "duration": 642,
    "start_time": "2021-09-23T23:48:03.252Z"
   },
   {
    "duration": 271,
    "start_time": "2021-09-23T23:48:33.488Z"
   },
   {
    "duration": 1945,
    "start_time": "2021-09-23T23:48:42.251Z"
   },
   {
    "duration": 195,
    "start_time": "2021-09-23T23:48:44.199Z"
   },
   {
    "duration": 7,
    "start_time": "2021-09-23T23:48:44.397Z"
   },
   {
    "duration": 430,
    "start_time": "2021-09-23T23:48:44.407Z"
   },
   {
    "duration": 702,
    "start_time": "2021-09-23T23:48:44.137Z"
   },
   {
    "duration": 692,
    "start_time": "2021-09-23T23:48:44.149Z"
   },
   {
    "duration": 645,
    "start_time": "2021-09-23T23:48:44.197Z"
   },
   {
    "duration": 1924,
    "start_time": "2021-09-23T23:49:04.577Z"
   },
   {
    "duration": 193,
    "start_time": "2021-09-23T23:49:06.505Z"
   },
   {
    "duration": 7,
    "start_time": "2021-09-23T23:49:06.701Z"
   },
   {
    "duration": 5,
    "start_time": "2021-09-23T23:49:06.711Z"
   },
   {
    "duration": 58,
    "start_time": "2021-09-23T23:49:06.719Z"
   },
   {
    "duration": 29,
    "start_time": "2021-09-23T23:49:06.780Z"
   },
   {
    "duration": 14,
    "start_time": "2021-09-23T23:49:06.812Z"
   },
   {
    "duration": 430,
    "start_time": "2021-09-23T23:52:18.523Z"
   },
   {
    "duration": 435,
    "start_time": "2021-09-23T23:52:49.135Z"
   },
   {
    "duration": 89,
    "start_time": "2021-09-23T23:57:07.556Z"
   },
   {
    "duration": 54,
    "start_time": "2021-09-23T23:58:26.038Z"
   },
   {
    "duration": 15,
    "start_time": "2021-09-23T23:58:43.429Z"
   },
   {
    "duration": 1950,
    "start_time": "2021-09-24T00:00:44.862Z"
   },
   {
    "duration": 196,
    "start_time": "2021-09-24T00:00:46.815Z"
   },
   {
    "duration": 7,
    "start_time": "2021-09-24T00:00:47.014Z"
   },
   {
    "duration": 83,
    "start_time": "2021-09-24T00:00:47.024Z"
   },
   {
    "duration": 20,
    "start_time": "2021-09-24T00:00:47.110Z"
   },
   {
    "duration": 53,
    "start_time": "2021-09-24T00:00:47.133Z"
   },
   {
    "duration": 22,
    "start_time": "2021-09-24T00:00:47.188Z"
   },
   {
    "duration": 231,
    "start_time": "2021-09-24T00:04:17.428Z"
   },
   {
    "duration": 1955,
    "start_time": "2021-09-24T00:05:20.938Z"
   },
   {
    "duration": 200,
    "start_time": "2021-09-24T00:05:22.895Z"
   },
   {
    "duration": 6,
    "start_time": "2021-09-24T00:05:23.098Z"
   },
   {
    "duration": 84,
    "start_time": "2021-09-24T00:05:23.107Z"
   },
   {
    "duration": 243,
    "start_time": "2021-09-24T00:05:23.194Z"
   },
   {
    "duration": 82,
    "start_time": "2021-09-24T00:05:23.440Z"
   },
   {
    "duration": 45,
    "start_time": "2021-09-24T00:05:23.524Z"
   },
   {
    "duration": 13,
    "start_time": "2021-09-24T00:05:23.573Z"
   },
   {
    "duration": 1885,
    "start_time": "2021-09-24T00:07:43.713Z"
   },
   {
    "duration": 202,
    "start_time": "2021-09-24T00:07:45.600Z"
   },
   {
    "duration": 7,
    "start_time": "2021-09-24T00:07:45.805Z"
   },
   {
    "duration": 82,
    "start_time": "2021-09-24T00:07:45.815Z"
   },
   {
    "duration": 236,
    "start_time": "2021-09-24T00:07:45.900Z"
   },
   {
    "duration": 89,
    "start_time": "2021-09-24T00:07:46.139Z"
   },
   {
    "duration": 41,
    "start_time": "2021-09-24T00:07:46.230Z"
   },
   {
    "duration": 10,
    "start_time": "2021-09-24T00:07:46.275Z"
   },
   {
    "duration": 2119,
    "start_time": "2021-09-24T00:15:28.374Z"
   },
   {
    "duration": 204,
    "start_time": "2021-09-24T00:15:30.497Z"
   },
   {
    "duration": 7,
    "start_time": "2021-09-24T00:15:30.705Z"
   },
   {
    "duration": 87,
    "start_time": "2021-09-24T00:15:30.716Z"
   },
   {
    "duration": 257,
    "start_time": "2021-09-24T00:15:30.806Z"
   },
   {
    "duration": 79,
    "start_time": "2021-09-24T00:15:31.068Z"
   },
   {
    "duration": 31,
    "start_time": "2021-09-24T00:15:31.167Z"
   },
   {
    "duration": 22,
    "start_time": "2021-09-24T00:15:31.202Z"
   },
   {
    "duration": 5,
    "start_time": "2021-09-24T00:15:31.227Z"
   },
   {
    "duration": 6,
    "start_time": "2021-09-24T00:16:11.939Z"
   },
   {
    "duration": 530,
    "start_time": "2021-09-24T00:21:58.043Z"
   },
   {
    "duration": 115,
    "start_time": "2021-09-24T00:22:07.300Z"
   },
   {
    "duration": 38,
    "start_time": "2021-09-24T00:30:07.829Z"
   },
   {
    "duration": 50,
    "start_time": "2021-09-24T00:30:31.412Z"
   },
   {
    "duration": 48,
    "start_time": "2021-09-24T00:30:56.660Z"
   },
   {
    "duration": 31,
    "start_time": "2021-09-24T00:32:05.391Z"
   },
   {
    "duration": 42,
    "start_time": "2021-09-24T00:35:40.754Z"
   },
   {
    "duration": 40,
    "start_time": "2021-09-24T00:37:37.627Z"
   },
   {
    "duration": 1472,
    "start_time": "2021-09-24T00:39:58.225Z"
   },
   {
    "duration": 26,
    "start_time": "2021-09-24T00:40:15.647Z"
   },
   {
    "duration": 45,
    "start_time": "2021-09-24T00:40:29.118Z"
   },
   {
    "duration": 248,
    "start_time": "2021-09-24T00:40:46.049Z"
   },
   {
    "duration": 32,
    "start_time": "2021-09-24T00:53:37.872Z"
   },
   {
    "duration": -683,
    "start_time": "2021-09-24T00:54:42.763Z"
   },
   {
    "duration": -691,
    "start_time": "2021-09-24T00:54:42.772Z"
   },
   {
    "duration": -697,
    "start_time": "2021-09-24T00:54:42.780Z"
   },
   {
    "duration": -703,
    "start_time": "2021-09-24T00:54:42.787Z"
   },
   {
    "duration": -710,
    "start_time": "2021-09-24T00:54:42.795Z"
   },
   {
    "duration": -716,
    "start_time": "2021-09-24T00:54:42.803Z"
   },
   {
    "duration": -720,
    "start_time": "2021-09-24T00:54:42.809Z"
   },
   {
    "duration": -724,
    "start_time": "2021-09-24T00:54:42.814Z"
   },
   {
    "duration": -727,
    "start_time": "2021-09-24T00:54:42.818Z"
   },
   {
    "duration": -753,
    "start_time": "2021-09-24T00:54:42.846Z"
   },
   {
    "duration": -757,
    "start_time": "2021-09-24T00:54:42.851Z"
   },
   {
    "duration": 2163,
    "start_time": "2021-09-24T12:59:44.489Z"
   },
   {
    "duration": 1339,
    "start_time": "2021-09-24T12:59:46.654Z"
   },
   {
    "duration": 6,
    "start_time": "2021-09-24T12:59:47.996Z"
   },
   {
    "duration": 77,
    "start_time": "2021-09-24T12:59:48.005Z"
   },
   {
    "duration": 243,
    "start_time": "2021-09-24T12:59:48.084Z"
   },
   {
    "duration": 85,
    "start_time": "2021-09-24T12:59:48.329Z"
   },
   {
    "duration": 40,
    "start_time": "2021-09-24T12:59:48.416Z"
   },
   {
    "duration": 12,
    "start_time": "2021-09-24T12:59:48.460Z"
   },
   {
    "duration": 28,
    "start_time": "2021-09-24T12:59:48.475Z"
   },
   {
    "duration": 72,
    "start_time": "2021-09-24T12:59:48.505Z"
   },
   {
    "duration": 10489,
    "start_time": "2021-09-24T12:59:48.580Z"
   },
   {
    "duration": 261,
    "start_time": "2021-09-24T13:00:25.884Z"
   },
   {
    "duration": 419,
    "start_time": "2021-09-24T14:32:23.812Z"
   },
   {
    "duration": 1934,
    "start_time": "2021-09-24T14:32:32.636Z"
   },
   {
    "duration": 189,
    "start_time": "2021-09-24T14:32:34.573Z"
   },
   {
    "duration": 6,
    "start_time": "2021-09-24T14:32:34.765Z"
   },
   {
    "duration": 541,
    "start_time": "2021-09-24T14:32:34.774Z"
   },
   {
    "duration": 907,
    "start_time": "2021-09-24T14:32:34.411Z"
   },
   {
    "duration": 893,
    "start_time": "2021-09-24T14:32:34.427Z"
   },
   {
    "duration": 887,
    "start_time": "2021-09-24T14:32:34.434Z"
   },
   {
    "duration": 875,
    "start_time": "2021-09-24T14:32:34.447Z"
   },
   {
    "duration": 868,
    "start_time": "2021-09-24T14:32:34.456Z"
   },
   {
    "duration": 864,
    "start_time": "2021-09-24T14:32:34.461Z"
   },
   {
    "duration": 848,
    "start_time": "2021-09-24T14:32:34.478Z"
   },
   {
    "duration": 845,
    "start_time": "2021-09-24T14:32:34.483Z"
   },
   {
    "duration": 17,
    "start_time": "2021-09-24T14:33:20.275Z"
   },
   {
    "duration": 18,
    "start_time": "2021-09-24T14:34:06.704Z"
   },
   {
    "duration": 10065,
    "start_time": "2021-09-24T14:46:49.431Z"
   },
   {
    "duration": 1879,
    "start_time": "2021-09-24T17:18:03.936Z"
   },
   {
    "duration": 191,
    "start_time": "2021-09-24T17:18:05.818Z"
   },
   {
    "duration": 12,
    "start_time": "2021-09-24T17:18:06.012Z"
   },
   {
    "duration": 24,
    "start_time": "2021-09-24T17:18:06.027Z"
   },
   {
    "duration": 18,
    "start_time": "2021-09-24T17:18:06.054Z"
   },
   {
    "duration": 3,
    "start_time": "2021-09-24T17:18:06.074Z"
   },
   {
    "duration": 6,
    "start_time": "2021-09-24T17:18:06.080Z"
   },
   {
    "duration": 3,
    "start_time": "2021-09-24T17:18:06.122Z"
   },
   {
    "duration": 9,
    "start_time": "2021-09-24T17:18:06.128Z"
   },
   {
    "duration": 5,
    "start_time": "2021-09-24T17:18:06.140Z"
   },
   {
    "duration": 7,
    "start_time": "2021-09-24T17:18:06.148Z"
   },
   {
    "duration": 7,
    "start_time": "2021-09-24T17:18:06.158Z"
   },
   {
    "duration": 222,
    "start_time": "2021-09-24T17:19:09.838Z"
   },
   {
    "duration": 104,
    "start_time": "2021-09-24T17:19:24.633Z"
   },
   {
    "duration": 7759,
    "start_time": "2021-09-24T17:19:33.666Z"
   },
   {
    "duration": 29,
    "start_time": "2021-09-24T17:19:48.061Z"
   },
   {
    "duration": 11,
    "start_time": "2021-09-24T17:20:18.014Z"
   },
   {
    "duration": 42,
    "start_time": "2021-09-24T17:20:42.665Z"
   },
   {
    "duration": 44,
    "start_time": "2021-09-24T17:20:54.925Z"
   },
   {
    "duration": 1857,
    "start_time": "2021-09-24T17:26:01.565Z"
   },
   {
    "duration": 191,
    "start_time": "2021-09-24T17:26:03.425Z"
   },
   {
    "duration": 7,
    "start_time": "2021-09-24T17:26:03.622Z"
   },
   {
    "duration": 46,
    "start_time": "2021-09-24T17:26:03.631Z"
   },
   {
    "duration": 44,
    "start_time": "2021-09-24T17:26:03.680Z"
   },
   {
    "duration": 230,
    "start_time": "2021-09-24T17:26:03.726Z"
   },
   {
    "duration": 86,
    "start_time": "2021-09-24T17:26:03.958Z"
   },
   {
    "duration": 30,
    "start_time": "2021-09-24T17:26:04.047Z"
   },
   {
    "duration": 16,
    "start_time": "2021-09-24T17:26:04.080Z"
   },
   {
    "duration": 51,
    "start_time": "2021-09-24T17:26:04.098Z"
   },
   {
    "duration": 46,
    "start_time": "2021-09-24T17:26:04.151Z"
   },
   {
    "duration": 3,
    "start_time": "2021-09-24T17:26:04.223Z"
   },
   {
    "duration": 234,
    "start_time": "2021-09-24T17:26:23.303Z"
   },
   {
    "duration": 225,
    "start_time": "2021-09-24T17:26:33.490Z"
   },
   {
    "duration": 2003,
    "start_time": "2021-09-26T14:50:04.959Z"
   },
   {
    "duration": 194,
    "start_time": "2021-09-26T14:50:06.965Z"
   },
   {
    "duration": 7,
    "start_time": "2021-09-26T14:50:07.162Z"
   },
   {
    "duration": 18,
    "start_time": "2021-09-26T14:50:07.172Z"
   },
   {
    "duration": 19,
    "start_time": "2021-09-26T14:50:07.192Z"
   },
   {
    "duration": 277,
    "start_time": "2021-09-26T14:50:07.213Z"
   },
   {
    "duration": 88,
    "start_time": "2021-09-26T14:50:07.493Z"
   },
   {
    "duration": 31,
    "start_time": "2021-09-26T14:50:07.585Z"
   },
   {
    "duration": 13,
    "start_time": "2021-09-26T14:50:07.618Z"
   },
   {
    "duration": 64,
    "start_time": "2021-09-26T14:50:07.634Z"
   },
   {
    "duration": 86,
    "start_time": "2021-09-26T14:50:07.701Z"
   },
   {
    "duration": 3,
    "start_time": "2021-09-26T14:50:07.791Z"
   },
   {
    "duration": 8,
    "start_time": "2021-09-26T14:51:51.996Z"
   },
   {
    "duration": 478,
    "start_time": "2021-09-26T14:51:55.794Z"
   },
   {
    "duration": 55,
    "start_time": "2021-09-26T14:53:09.684Z"
   },
   {
    "duration": 44,
    "start_time": "2021-09-26T14:53:23.311Z"
   },
   {
    "duration": 1390,
    "start_time": "2021-09-26T14:54:15.954Z"
   },
   {
    "duration": 371,
    "start_time": "2021-09-26T14:54:25.673Z"
   },
   {
    "duration": 681,
    "start_time": "2021-09-26T14:56:01.891Z"
   },
   {
    "duration": 695,
    "start_time": "2021-09-26T14:56:36.536Z"
   },
   {
    "duration": 1304,
    "start_time": "2021-09-26T14:57:02.080Z"
   },
   {
    "duration": 1283,
    "start_time": "2021-09-26T16:47:26.537Z"
   },
   {
    "duration": 145,
    "start_time": "2021-09-26T16:47:27.822Z"
   },
   {
    "duration": 4,
    "start_time": "2021-09-26T16:47:27.969Z"
   },
   {
    "duration": 24,
    "start_time": "2021-09-26T16:47:27.975Z"
   },
   {
    "duration": 16,
    "start_time": "2021-09-26T16:47:28.001Z"
   },
   {
    "duration": 147,
    "start_time": "2021-09-26T16:47:28.019Z"
   },
   {
    "duration": 60,
    "start_time": "2021-09-26T16:47:28.168Z"
   },
   {
    "duration": 24,
    "start_time": "2021-09-26T16:47:28.230Z"
   },
   {
    "duration": 27,
    "start_time": "2021-09-26T16:47:28.256Z"
   },
   {
    "duration": 45,
    "start_time": "2021-09-26T16:47:28.284Z"
   },
   {
    "duration": 41,
    "start_time": "2021-09-26T16:47:28.331Z"
   },
   {
    "duration": 16,
    "start_time": "2021-09-26T16:47:28.374Z"
   },
   {
    "duration": 44,
    "start_time": "2021-09-26T16:47:28.391Z"
   },
   {
    "duration": 240,
    "start_time": "2021-09-26T16:47:28.436Z"
   },
   {
    "duration": 790,
    "start_time": "2021-09-26T16:47:28.678Z"
   },
   {
    "duration": 1992,
    "start_time": "2021-09-27T00:14:36.736Z"
   },
   {
    "duration": 194,
    "start_time": "2021-09-27T00:14:38.731Z"
   },
   {
    "duration": 6,
    "start_time": "2021-09-27T00:14:38.928Z"
   },
   {
    "duration": 37,
    "start_time": "2021-09-27T00:14:38.937Z"
   },
   {
    "duration": 20,
    "start_time": "2021-09-27T00:14:38.976Z"
   },
   {
    "duration": 249,
    "start_time": "2021-09-27T00:14:38.998Z"
   },
   {
    "duration": 84,
    "start_time": "2021-09-27T00:14:39.250Z"
   },
   {
    "duration": 49,
    "start_time": "2021-09-27T00:14:39.339Z"
   },
   {
    "duration": 15,
    "start_time": "2021-09-27T00:14:39.391Z"
   },
   {
    "duration": 60,
    "start_time": "2021-09-27T00:14:39.409Z"
   },
   {
    "duration": 53,
    "start_time": "2021-09-27T00:14:39.471Z"
   },
   {
    "duration": 9,
    "start_time": "2021-09-27T00:14:39.527Z"
   },
   {
    "duration": 81,
    "start_time": "2021-09-27T00:14:39.538Z"
   },
   {
    "duration": 398,
    "start_time": "2021-09-27T00:14:39.622Z"
   },
   {
    "duration": 1258,
    "start_time": "2021-09-27T00:14:40.023Z"
   },
   {
    "duration": 1888,
    "start_time": "2021-09-27T00:16:01.915Z"
   },
   {
    "duration": 205,
    "start_time": "2021-09-27T00:16:03.806Z"
   },
   {
    "duration": 17,
    "start_time": "2021-09-27T00:16:04.015Z"
   },
   {
    "duration": 6,
    "start_time": "2021-09-27T00:16:04.035Z"
   },
   {
    "duration": 39,
    "start_time": "2021-09-27T00:16:04.044Z"
   },
   {
    "duration": 252,
    "start_time": "2021-09-27T00:16:04.086Z"
   },
   {
    "duration": 80,
    "start_time": "2021-09-27T00:16:04.341Z"
   },
   {
    "duration": 43,
    "start_time": "2021-09-27T00:16:04.424Z"
   },
   {
    "duration": 12,
    "start_time": "2021-09-27T00:16:04.470Z"
   },
   {
    "duration": 30,
    "start_time": "2021-09-27T00:16:04.484Z"
   },
   {
    "duration": 73,
    "start_time": "2021-09-27T00:16:04.516Z"
   },
   {
    "duration": 8,
    "start_time": "2021-09-27T00:16:04.591Z"
   },
   {
    "duration": 76,
    "start_time": "2021-09-27T00:16:04.601Z"
   },
   {
    "duration": 388,
    "start_time": "2021-09-27T00:16:04.679Z"
   },
   {
    "duration": 1311,
    "start_time": "2021-09-27T00:16:05.069Z"
   },
   {
    "duration": 1950,
    "start_time": "2021-09-27T00:23:50.346Z"
   },
   {
    "duration": 198,
    "start_time": "2021-09-27T00:23:52.298Z"
   },
   {
    "duration": 19,
    "start_time": "2021-09-27T00:23:52.499Z"
   },
   {
    "duration": 8,
    "start_time": "2021-09-27T00:23:52.520Z"
   },
   {
    "duration": 52,
    "start_time": "2021-09-27T00:23:52.530Z"
   },
   {
    "duration": 245,
    "start_time": "2021-09-27T00:23:52.585Z"
   },
   {
    "duration": 83,
    "start_time": "2021-09-27T00:23:52.833Z"
   },
   {
    "duration": 31,
    "start_time": "2021-09-27T00:23:52.919Z"
   },
   {
    "duration": 12,
    "start_time": "2021-09-27T00:23:52.968Z"
   },
   {
    "duration": 33,
    "start_time": "2021-09-27T00:23:52.982Z"
   },
   {
    "duration": 71,
    "start_time": "2021-09-27T00:23:53.017Z"
   },
   {
    "duration": 8,
    "start_time": "2021-09-27T00:23:53.090Z"
   },
   {
    "duration": 75,
    "start_time": "2021-09-27T00:23:53.100Z"
   },
   {
    "duration": 383,
    "start_time": "2021-09-27T00:23:53.177Z"
   },
   {
    "duration": 1256,
    "start_time": "2021-09-27T00:23:53.567Z"
   },
   {
    "duration": 1909,
    "start_time": "2021-09-27T00:25:37.987Z"
   },
   {
    "duration": 203,
    "start_time": "2021-09-27T00:25:39.898Z"
   },
   {
    "duration": 20,
    "start_time": "2021-09-27T00:25:40.104Z"
   },
   {
    "duration": 7,
    "start_time": "2021-09-27T00:25:40.126Z"
   },
   {
    "duration": 49,
    "start_time": "2021-09-27T00:25:40.135Z"
   },
   {
    "duration": 245,
    "start_time": "2021-09-27T00:25:40.187Z"
   },
   {
    "duration": 82,
    "start_time": "2021-09-27T00:25:40.435Z"
   },
   {
    "duration": 46,
    "start_time": "2021-09-27T00:25:40.521Z"
   },
   {
    "duration": 12,
    "start_time": "2021-09-27T00:25:40.570Z"
   },
   {
    "duration": 38,
    "start_time": "2021-09-27T00:25:40.584Z"
   },
   {
    "duration": 63,
    "start_time": "2021-09-27T00:25:40.625Z"
   },
   {
    "duration": 8,
    "start_time": "2021-09-27T00:25:40.691Z"
   },
   {
    "duration": 78,
    "start_time": "2021-09-27T00:25:40.702Z"
   },
   {
    "duration": 387,
    "start_time": "2021-09-27T00:25:40.783Z"
   },
   {
    "duration": 1223,
    "start_time": "2021-09-27T00:25:41.173Z"
   },
   {
    "duration": 13,
    "start_time": "2021-09-27T00:33:01.320Z"
   },
   {
    "duration": 12,
    "start_time": "2021-09-27T00:33:12.954Z"
   },
   {
    "duration": 13,
    "start_time": "2021-09-27T00:33:26.352Z"
   },
   {
    "duration": 13,
    "start_time": "2021-09-27T00:33:36.188Z"
   },
   {
    "duration": 14,
    "start_time": "2021-09-27T00:34:48.491Z"
   },
   {
    "duration": 15,
    "start_time": "2021-09-27T00:35:01.702Z"
   },
   {
    "duration": 12,
    "start_time": "2021-09-27T00:35:11.789Z"
   },
   {
    "duration": 44,
    "start_time": "2021-09-27T00:39:24.763Z"
   },
   {
    "duration": 45,
    "start_time": "2021-09-27T00:39:52.641Z"
   },
   {
    "duration": 44,
    "start_time": "2021-09-27T00:41:11.558Z"
   },
   {
    "duration": 127,
    "start_time": "2021-09-27T00:42:55.429Z"
   },
   {
    "duration": 121,
    "start_time": "2021-09-27T00:43:17.386Z"
   },
   {
    "duration": 130,
    "start_time": "2021-09-27T00:45:35.149Z"
   },
   {
    "duration": 8,
    "start_time": "2021-09-27T00:51:55.454Z"
   },
   {
    "duration": 9,
    "start_time": "2021-09-27T00:52:09.879Z"
   },
   {
    "duration": 9,
    "start_time": "2021-09-27T00:53:34.400Z"
   },
   {
    "duration": 46,
    "start_time": "2021-09-27T00:55:00.416Z"
   },
   {
    "duration": 46,
    "start_time": "2021-09-27T00:55:38.831Z"
   },
   {
    "duration": 44,
    "start_time": "2021-09-27T00:56:35.174Z"
   },
   {
    "duration": 378,
    "start_time": "2021-09-27T01:00:25.142Z"
   },
   {
    "duration": 48,
    "start_time": "2021-09-27T01:02:55.831Z"
   },
   {
    "duration": 1459,
    "start_time": "2021-09-28T02:16:20.898Z"
   },
   {
    "duration": 671,
    "start_time": "2021-09-28T02:16:22.359Z"
   },
   {
    "duration": 11,
    "start_time": "2021-09-28T02:16:23.033Z"
   },
   {
    "duration": 5,
    "start_time": "2021-09-28T02:16:23.046Z"
   },
   {
    "duration": 30,
    "start_time": "2021-09-28T02:16:23.052Z"
   },
   {
    "duration": 148,
    "start_time": "2021-09-28T02:16:23.084Z"
   },
   {
    "duration": 55,
    "start_time": "2021-09-28T02:16:23.234Z"
   },
   {
    "duration": 23,
    "start_time": "2021-09-28T02:16:23.291Z"
   },
   {
    "duration": 31,
    "start_time": "2021-09-28T02:16:23.316Z"
   },
   {
    "duration": 96,
    "start_time": "2021-09-28T02:16:23.349Z"
   },
   {
    "duration": 6,
    "start_time": "2021-09-28T02:16:23.447Z"
   },
   {
    "duration": 33,
    "start_time": "2021-09-28T02:16:23.455Z"
   },
   {
    "duration": 248,
    "start_time": "2021-09-28T02:16:23.489Z"
   },
   {
    "duration": 756,
    "start_time": "2021-09-28T02:16:23.738Z"
   },
   {
    "duration": 1479,
    "start_time": "2021-09-28T02:24:49.443Z"
   },
   {
    "duration": 147,
    "start_time": "2021-09-28T02:24:50.924Z"
   },
   {
    "duration": 14,
    "start_time": "2021-09-28T02:24:51.074Z"
   },
   {
    "duration": 17,
    "start_time": "2021-09-28T02:24:51.090Z"
   },
   {
    "duration": 28,
    "start_time": "2021-09-28T02:24:51.109Z"
   },
   {
    "duration": 156,
    "start_time": "2021-09-28T02:24:51.139Z"
   },
   {
    "duration": 63,
    "start_time": "2021-09-28T02:24:51.297Z"
   },
   {
    "duration": 23,
    "start_time": "2021-09-28T02:24:51.363Z"
   },
   {
    "duration": 8,
    "start_time": "2021-09-28T02:24:51.388Z"
   },
   {
    "duration": 7,
    "start_time": "2021-09-28T02:24:51.398Z"
   },
   {
    "duration": 68,
    "start_time": "2021-09-28T02:24:51.407Z"
   },
   {
    "duration": 238,
    "start_time": "2021-09-28T02:24:51.477Z"
   },
   {
    "duration": 823,
    "start_time": "2021-09-28T02:24:51.717Z"
   },
   {
    "duration": 407,
    "start_time": "2021-09-28T02:29:16.289Z"
   },
   {
    "duration": 379,
    "start_time": "2021-09-28T02:30:06.163Z"
   },
   {
    "duration": 1470,
    "start_time": "2021-09-28T02:30:25.250Z"
   },
   {
    "duration": 147,
    "start_time": "2021-09-28T02:30:26.722Z"
   },
   {
    "duration": 12,
    "start_time": "2021-09-28T02:30:26.872Z"
   },
   {
    "duration": 9,
    "start_time": "2021-09-28T02:30:26.886Z"
   },
   {
    "duration": 29,
    "start_time": "2021-09-28T02:30:26.897Z"
   },
   {
    "duration": 161,
    "start_time": "2021-09-28T02:30:26.928Z"
   },
   {
    "duration": 63,
    "start_time": "2021-09-28T02:30:27.090Z"
   },
   {
    "duration": 23,
    "start_time": "2021-09-28T02:30:27.156Z"
   },
   {
    "duration": 16,
    "start_time": "2021-09-28T02:30:27.181Z"
   },
   {
    "duration": 16,
    "start_time": "2021-09-28T02:30:27.198Z"
   },
   {
    "duration": 53,
    "start_time": "2021-09-28T02:30:27.217Z"
   },
   {
    "duration": 227,
    "start_time": "2021-09-28T02:30:27.272Z"
   },
   {
    "duration": 416,
    "start_time": "2021-09-28T02:30:27.501Z"
   },
   {
    "duration": 382,
    "start_time": "2021-09-28T02:30:27.919Z"
   },
   {
    "duration": 1931,
    "start_time": "2021-10-02T09:29:11.382Z"
   },
   {
    "duration": 142,
    "start_time": "2021-10-02T09:29:13.314Z"
   },
   {
    "duration": 12,
    "start_time": "2021-10-02T09:29:13.459Z"
   },
   {
    "duration": 5,
    "start_time": "2021-10-02T09:29:13.473Z"
   },
   {
    "duration": 15,
    "start_time": "2021-10-02T09:29:13.480Z"
   },
   {
    "duration": 175,
    "start_time": "2021-10-02T09:29:13.497Z"
   },
   {
    "duration": 53,
    "start_time": "2021-10-02T09:29:13.674Z"
   },
   {
    "duration": 35,
    "start_time": "2021-10-02T09:29:13.730Z"
   },
   {
    "duration": 8,
    "start_time": "2021-10-02T09:29:13.768Z"
   },
   {
    "duration": 7,
    "start_time": "2021-10-02T09:29:13.778Z"
   },
   {
    "duration": 65,
    "start_time": "2021-10-02T09:29:13.787Z"
   },
   {
    "duration": 224,
    "start_time": "2021-10-02T09:29:13.854Z"
   },
   {
    "duration": 387,
    "start_time": "2021-10-02T09:29:14.080Z"
   },
   {
    "duration": 365,
    "start_time": "2021-10-02T09:29:14.469Z"
   },
   {
    "duration": 360,
    "start_time": "2021-10-02T09:32:19.122Z"
   },
   {
    "duration": 18,
    "start_time": "2021-10-02T09:33:02.288Z"
   },
   {
    "duration": 20,
    "start_time": "2021-10-02T09:33:27.220Z"
   },
   {
    "duration": 18,
    "start_time": "2021-10-02T09:33:36.185Z"
   },
   {
    "duration": 18,
    "start_time": "2021-10-02T09:33:48.013Z"
   },
   {
    "duration": 1493,
    "start_time": "2021-10-02T09:38:26.724Z"
   },
   {
    "duration": 140,
    "start_time": "2021-10-02T09:38:28.219Z"
   },
   {
    "duration": 13,
    "start_time": "2021-10-02T09:38:28.360Z"
   },
   {
    "duration": 4,
    "start_time": "2021-10-02T09:38:28.375Z"
   },
   {
    "duration": 14,
    "start_time": "2021-10-02T09:38:28.381Z"
   },
   {
    "duration": 169,
    "start_time": "2021-10-02T09:38:28.397Z"
   },
   {
    "duration": 54,
    "start_time": "2021-10-02T09:38:28.568Z"
   },
   {
    "duration": 34,
    "start_time": "2021-10-02T09:38:28.624Z"
   },
   {
    "duration": 11,
    "start_time": "2021-10-02T09:38:28.660Z"
   },
   {
    "duration": 14,
    "start_time": "2021-10-02T09:38:28.672Z"
   },
   {
    "duration": 36,
    "start_time": "2021-10-02T09:38:28.687Z"
   },
   {
    "duration": 231,
    "start_time": "2021-10-02T09:38:28.725Z"
   },
   {
    "duration": 370,
    "start_time": "2021-10-02T09:38:28.957Z"
   },
   {
    "duration": 363,
    "start_time": "2021-10-02T09:38:29.328Z"
   },
   {
    "duration": 18,
    "start_time": "2021-10-02T09:38:29.693Z"
   },
   {
    "duration": 375,
    "start_time": "2021-10-02T09:39:05.550Z"
   },
   {
    "duration": 1586,
    "start_time": "2021-10-03T06:36:21.568Z"
   },
   {
    "duration": 1253,
    "start_time": "2021-10-03T06:36:23.156Z"
   },
   {
    "duration": 14,
    "start_time": "2021-10-03T06:36:24.411Z"
   },
   {
    "duration": 5,
    "start_time": "2021-10-03T06:36:24.426Z"
   },
   {
    "duration": 14,
    "start_time": "2021-10-03T06:36:24.433Z"
   },
   {
    "duration": 187,
    "start_time": "2021-10-03T06:36:24.448Z"
   },
   {
    "duration": 64,
    "start_time": "2021-10-03T06:36:24.637Z"
   },
   {
    "duration": 24,
    "start_time": "2021-10-03T06:36:24.703Z"
   },
   {
    "duration": 9,
    "start_time": "2021-10-03T06:36:24.730Z"
   },
   {
    "duration": 7,
    "start_time": "2021-10-03T06:36:24.741Z"
   },
   {
    "duration": 64,
    "start_time": "2021-10-03T06:36:24.750Z"
   },
   {
    "duration": 249,
    "start_time": "2021-10-03T06:36:24.815Z"
   },
   {
    "duration": 427,
    "start_time": "2021-10-03T06:36:25.066Z"
   },
   {
    "duration": 393,
    "start_time": "2021-10-03T06:36:25.495Z"
   },
   {
    "duration": 20,
    "start_time": "2021-10-03T06:36:25.890Z"
   },
   {
    "duration": 629,
    "start_time": "2021-10-03T06:36:25.912Z"
   },
   {
    "duration": 2480,
    "start_time": "2021-10-03T06:41:03.439Z"
   },
   {
    "duration": 1710,
    "start_time": "2021-10-03T06:41:32.479Z"
   },
   {
    "duration": 1758,
    "start_time": "2021-10-03T07:06:57.529Z"
   },
   {
    "duration": 1361,
    "start_time": "2021-10-03T07:08:45.488Z"
   },
   {
    "duration": 1495,
    "start_time": "2021-10-03T07:16:45.494Z"
   },
   {
    "duration": 154,
    "start_time": "2021-10-03T07:16:46.992Z"
   },
   {
    "duration": 14,
    "start_time": "2021-10-03T07:16:47.148Z"
   },
   {
    "duration": 17,
    "start_time": "2021-10-03T07:16:47.164Z"
   },
   {
    "duration": 15,
    "start_time": "2021-10-03T07:16:47.183Z"
   },
   {
    "duration": 183,
    "start_time": "2021-10-03T07:16:47.200Z"
   },
   {
    "duration": 56,
    "start_time": "2021-10-03T07:16:47.385Z"
   },
   {
    "duration": 37,
    "start_time": "2021-10-03T07:16:47.443Z"
   },
   {
    "duration": 11,
    "start_time": "2021-10-03T07:16:47.482Z"
   },
   {
    "duration": 7,
    "start_time": "2021-10-03T07:16:47.495Z"
   },
   {
    "duration": 39,
    "start_time": "2021-10-03T07:16:47.504Z"
   },
   {
    "duration": 258,
    "start_time": "2021-10-03T07:16:47.545Z"
   },
   {
    "duration": 401,
    "start_time": "2021-10-03T07:16:47.805Z"
   },
   {
    "duration": 385,
    "start_time": "2021-10-03T07:16:48.208Z"
   },
   {
    "duration": 1496,
    "start_time": "2021-10-03T07:16:48.595Z"
   },
   {
    "duration": 1000,
    "start_time": "2021-10-03T07:16:49.093Z"
   },
   {
    "duration": 988,
    "start_time": "2021-10-03T07:16:49.106Z"
   },
   {
    "duration": 1507,
    "start_time": "2021-10-03T08:08:43.299Z"
   },
   {
    "duration": 148,
    "start_time": "2021-10-03T08:08:44.808Z"
   },
   {
    "duration": 23,
    "start_time": "2021-10-03T08:08:44.958Z"
   },
   {
    "duration": 5,
    "start_time": "2021-10-03T08:08:44.983Z"
   },
   {
    "duration": 16,
    "start_time": "2021-10-03T08:08:44.991Z"
   },
   {
    "duration": 612,
    "start_time": "2021-10-03T08:08:45.009Z"
   },
   {
    "duration": 1499,
    "start_time": "2021-10-03T08:08:44.124Z"
   },
   {
    "duration": 1492,
    "start_time": "2021-10-03T08:08:44.132Z"
   },
   {
    "duration": 1487,
    "start_time": "2021-10-03T08:08:44.138Z"
   },
   {
    "duration": 1481,
    "start_time": "2021-10-03T08:08:44.145Z"
   },
   {
    "duration": 1476,
    "start_time": "2021-10-03T08:08:44.151Z"
   },
   {
    "duration": 888,
    "start_time": "2021-10-03T08:08:44.740Z"
   },
   {
    "duration": 878,
    "start_time": "2021-10-03T08:08:44.751Z"
   },
   {
    "duration": 871,
    "start_time": "2021-10-03T08:08:44.759Z"
   },
   {
    "duration": 858,
    "start_time": "2021-10-03T08:08:44.773Z"
   },
   {
    "duration": 853,
    "start_time": "2021-10-03T08:08:44.779Z"
   },
   {
    "duration": 848,
    "start_time": "2021-10-03T08:08:44.785Z"
   },
   {
    "duration": 209,
    "start_time": "2021-10-03T08:09:50.336Z"
   },
   {
    "duration": 1482,
    "start_time": "2021-10-03T08:10:44.815Z"
   },
   {
    "duration": 148,
    "start_time": "2021-10-03T08:10:46.299Z"
   },
   {
    "duration": 11,
    "start_time": "2021-10-03T08:10:46.449Z"
   },
   {
    "duration": 14,
    "start_time": "2021-10-03T08:10:46.462Z"
   },
   {
    "duration": 13,
    "start_time": "2021-10-03T08:10:46.478Z"
   },
   {
    "duration": 208,
    "start_time": "2021-10-03T08:10:46.493Z"
   },
   {
    "duration": 37,
    "start_time": "2021-10-03T08:10:46.703Z"
   },
   {
    "duration": 38,
    "start_time": "2021-10-03T08:10:46.742Z"
   },
   {
    "duration": 8,
    "start_time": "2021-10-03T08:10:46.784Z"
   },
   {
    "duration": 7,
    "start_time": "2021-10-03T08:10:46.793Z"
   },
   {
    "duration": 25,
    "start_time": "2021-10-03T08:10:46.801Z"
   },
   {
    "duration": 272,
    "start_time": "2021-10-03T08:10:46.828Z"
   },
   {
    "duration": 401,
    "start_time": "2021-10-03T08:10:47.102Z"
   },
   {
    "duration": 528,
    "start_time": "2021-10-03T08:10:47.505Z"
   },
   {
    "duration": 17,
    "start_time": "2021-10-03T08:10:48.036Z"
   },
   {
    "duration": 38,
    "start_time": "2021-10-03T08:10:48.055Z"
   },
   {
    "duration": 33,
    "start_time": "2021-10-03T08:10:48.095Z"
   },
   {
    "duration": 18,
    "start_time": "2021-10-03T08:12:56.295Z"
   },
   {
    "duration": 1482,
    "start_time": "2021-10-03T09:04:40.811Z"
   },
   {
    "duration": 151,
    "start_time": "2021-10-03T09:04:42.294Z"
   },
   {
    "duration": 14,
    "start_time": "2021-10-03T09:04:42.447Z"
   },
   {
    "duration": 4,
    "start_time": "2021-10-03T09:04:42.463Z"
   },
   {
    "duration": 15,
    "start_time": "2021-10-03T09:04:42.477Z"
   },
   {
    "duration": 217,
    "start_time": "2021-10-03T09:04:42.494Z"
   },
   {
    "duration": 39,
    "start_time": "2021-10-03T09:04:42.712Z"
   },
   {
    "duration": 31,
    "start_time": "2021-10-03T09:04:42.753Z"
   },
   {
    "duration": 9,
    "start_time": "2021-10-03T09:04:42.786Z"
   },
   {
    "duration": 6,
    "start_time": "2021-10-03T09:04:42.796Z"
   },
   {
    "duration": 25,
    "start_time": "2021-10-03T09:04:42.804Z"
   },
   {
    "duration": 263,
    "start_time": "2021-10-03T09:04:42.831Z"
   },
   {
    "duration": 408,
    "start_time": "2021-10-03T09:04:43.095Z"
   },
   {
    "duration": 403,
    "start_time": "2021-10-03T09:04:43.505Z"
   },
   {
    "duration": 17,
    "start_time": "2021-10-03T09:04:43.910Z"
   },
   {
    "duration": 24,
    "start_time": "2021-10-03T09:04:43.929Z"
   },
   {
    "duration": 61,
    "start_time": "2021-10-03T09:04:43.956Z"
   },
   {
    "duration": 449,
    "start_time": "2021-10-03T09:07:07.172Z"
   },
   {
    "duration": 354,
    "start_time": "2021-10-03T09:07:39.052Z"
   },
   {
    "duration": 4,
    "start_time": "2021-10-03T09:08:03.684Z"
   },
   {
    "duration": 5,
    "start_time": "2021-10-03T09:08:20.012Z"
   },
   {
    "duration": 4,
    "start_time": "2021-10-03T09:08:32.572Z"
   },
   {
    "duration": 1570,
    "start_time": "2021-10-03T09:21:00.134Z"
   },
   {
    "duration": 160,
    "start_time": "2021-10-03T09:21:01.706Z"
   },
   {
    "duration": 18,
    "start_time": "2021-10-03T09:21:01.868Z"
   },
   {
    "duration": 13,
    "start_time": "2021-10-03T09:21:01.888Z"
   },
   {
    "duration": 52,
    "start_time": "2021-10-03T09:21:01.903Z"
   },
   {
    "duration": 211,
    "start_time": "2021-10-03T09:21:01.957Z"
   },
   {
    "duration": 43,
    "start_time": "2021-10-03T09:21:02.170Z"
   },
   {
    "duration": 25,
    "start_time": "2021-10-03T09:21:02.215Z"
   },
   {
    "duration": 15,
    "start_time": "2021-10-03T09:21:02.242Z"
   },
   {
    "duration": 24,
    "start_time": "2021-10-03T09:21:02.259Z"
   },
   {
    "duration": 45,
    "start_time": "2021-10-03T09:21:02.284Z"
   },
   {
    "duration": 392,
    "start_time": "2021-10-03T09:21:02.331Z"
   },
   {
    "duration": 450,
    "start_time": "2021-10-03T09:21:02.726Z"
   },
   {
    "duration": 398,
    "start_time": "2021-10-03T09:21:03.178Z"
   },
   {
    "duration": 17,
    "start_time": "2021-10-03T09:21:03.578Z"
   },
   {
    "duration": 4,
    "start_time": "2021-10-03T09:21:03.597Z"
   },
   {
    "duration": 23,
    "start_time": "2021-10-03T09:21:03.603Z"
   },
   {
    "duration": 67,
    "start_time": "2021-10-03T09:21:03.629Z"
   },
   {
    "duration": 11358,
    "start_time": "2021-10-03T09:23:12.394Z"
   },
   {
    "duration": 8593,
    "start_time": "2021-10-03T09:23:32.003Z"
   },
   {
    "duration": 26,
    "start_time": "2021-10-03T09:23:45.756Z"
   },
   {
    "duration": 28,
    "start_time": "2021-10-03T09:24:04.173Z"
   },
   {
    "duration": 335,
    "start_time": "2021-10-03T09:25:28.154Z"
   },
   {
    "duration": 58,
    "start_time": "2021-10-03T09:26:03.493Z"
   },
   {
    "duration": 11,
    "start_time": "2021-10-03T09:28:29.713Z"
   },
   {
    "duration": 10,
    "start_time": "2021-10-03T09:28:58.653Z"
   },
   {
    "duration": 26,
    "start_time": "2021-10-03T09:33:27.862Z"
   },
   {
    "duration": 29,
    "start_time": "2021-10-03T09:33:41.613Z"
   },
   {
    "duration": 27,
    "start_time": "2021-10-03T09:33:57.240Z"
   },
   {
    "duration": 28,
    "start_time": "2021-10-03T09:34:54.673Z"
   },
   {
    "duration": 56,
    "start_time": "2021-10-03T09:51:55.464Z"
   },
   {
    "duration": 55,
    "start_time": "2021-10-03T09:53:21.371Z"
   },
   {
    "duration": 4,
    "start_time": "2021-10-03T09:55:15.652Z"
   },
   {
    "duration": 389,
    "start_time": "2021-10-03T09:55:23.871Z"
   },
   {
    "duration": 1507,
    "start_time": "2021-10-03T09:55:48.576Z"
   },
   {
    "duration": 148,
    "start_time": "2021-10-03T09:55:50.085Z"
   },
   {
    "duration": 12,
    "start_time": "2021-10-03T09:55:50.235Z"
   },
   {
    "duration": 5,
    "start_time": "2021-10-03T09:55:50.248Z"
   },
   {
    "duration": 29,
    "start_time": "2021-10-03T09:55:50.254Z"
   },
   {
    "duration": 211,
    "start_time": "2021-10-03T09:55:50.285Z"
   },
   {
    "duration": 40,
    "start_time": "2021-10-03T09:55:50.497Z"
   },
   {
    "duration": 39,
    "start_time": "2021-10-03T09:55:50.539Z"
   },
   {
    "duration": 8,
    "start_time": "2021-10-03T09:55:50.580Z"
   },
   {
    "duration": 16,
    "start_time": "2021-10-03T09:55:50.590Z"
   },
   {
    "duration": 29,
    "start_time": "2021-10-03T09:55:50.608Z"
   },
   {
    "duration": 254,
    "start_time": "2021-10-03T09:55:50.638Z"
   },
   {
    "duration": 386,
    "start_time": "2021-10-03T09:55:50.894Z"
   },
   {
    "duration": 396,
    "start_time": "2021-10-03T09:55:51.282Z"
   },
   {
    "duration": 16,
    "start_time": "2021-10-03T09:55:51.680Z"
   },
   {
    "duration": 4,
    "start_time": "2021-10-03T09:55:51.698Z"
   },
   {
    "duration": 33,
    "start_time": "2021-10-03T09:55:51.704Z"
   },
   {
    "duration": 556,
    "start_time": "2021-10-03T09:55:51.739Z"
   },
   {
    "duration": -2470,
    "start_time": "2021-10-03T09:55:54.767Z"
   },
   {
    "duration": -2472,
    "start_time": "2021-10-03T09:55:54.770Z"
   },
   {
    "duration": 55,
    "start_time": "2021-10-03T09:56:20.408Z"
   },
   {
    "duration": 381,
    "start_time": "2021-10-03T09:56:28.108Z"
   },
   {
    "duration": 11,
    "start_time": "2021-10-03T09:56:42.196Z"
   },
   {
    "duration": 383,
    "start_time": "2021-10-03T09:57:25.537Z"
   },
   {
    "duration": 1701,
    "start_time": "2021-10-03T09:57:40.176Z"
   },
   {
    "duration": 158,
    "start_time": "2021-10-03T09:57:41.879Z"
   },
   {
    "duration": 13,
    "start_time": "2021-10-03T09:57:42.039Z"
   },
   {
    "duration": 5,
    "start_time": "2021-10-03T09:57:42.054Z"
   },
   {
    "duration": 16,
    "start_time": "2021-10-03T09:57:42.077Z"
   },
   {
    "duration": 223,
    "start_time": "2021-10-03T09:57:42.094Z"
   },
   {
    "duration": 63,
    "start_time": "2021-10-03T09:57:42.319Z"
   },
   {
    "duration": 34,
    "start_time": "2021-10-03T09:57:42.385Z"
   },
   {
    "duration": 10,
    "start_time": "2021-10-03T09:57:42.421Z"
   },
   {
    "duration": 8,
    "start_time": "2021-10-03T09:57:42.433Z"
   },
   {
    "duration": 58,
    "start_time": "2021-10-03T09:57:42.443Z"
   },
   {
    "duration": 333,
    "start_time": "2021-10-03T09:57:42.503Z"
   },
   {
    "duration": 430,
    "start_time": "2021-10-03T09:57:42.838Z"
   },
   {
    "duration": 396,
    "start_time": "2021-10-03T09:57:43.270Z"
   },
   {
    "duration": 22,
    "start_time": "2021-10-03T09:57:43.668Z"
   },
   {
    "duration": 4,
    "start_time": "2021-10-03T09:57:43.692Z"
   },
   {
    "duration": 45,
    "start_time": "2021-10-03T09:57:43.697Z"
   },
   {
    "duration": 68,
    "start_time": "2021-10-03T09:57:43.743Z"
   },
   {
    "duration": 10,
    "start_time": "2021-10-03T09:57:43.813Z"
   },
   {
    "duration": 460,
    "start_time": "2021-10-03T09:57:43.824Z"
   },
   {
    "duration": 343,
    "start_time": "2021-10-03T09:59:55.275Z"
   },
   {
    "duration": 9,
    "start_time": "2021-10-03T10:00:02.517Z"
   },
   {
    "duration": 202,
    "start_time": "2021-10-03T10:47:10.841Z"
   },
   {
    "duration": 202,
    "start_time": "2021-10-03T10:47:30.261Z"
   },
   {
    "duration": 336,
    "start_time": "2021-10-03T10:51:06.701Z"
   },
   {
    "duration": 360,
    "start_time": "2021-10-03T10:51:31.521Z"
   },
   {
    "duration": 9119,
    "start_time": "2021-10-03T10:51:51.101Z"
   },
   {
    "duration": 1435,
    "start_time": "2021-10-05T09:03:24.730Z"
   },
   {
    "duration": 1120,
    "start_time": "2021-10-05T09:03:26.167Z"
   },
   {
    "duration": 13,
    "start_time": "2021-10-05T09:03:27.289Z"
   },
   {
    "duration": 4,
    "start_time": "2021-10-05T09:03:27.304Z"
   },
   {
    "duration": 22,
    "start_time": "2021-10-05T09:03:27.310Z"
   },
   {
    "duration": 196,
    "start_time": "2021-10-05T09:03:27.334Z"
   },
   {
    "duration": 49,
    "start_time": "2021-10-05T09:03:27.532Z"
   },
   {
    "duration": 23,
    "start_time": "2021-10-05T09:03:27.583Z"
   },
   {
    "duration": 8,
    "start_time": "2021-10-05T09:03:27.609Z"
   },
   {
    "duration": 5,
    "start_time": "2021-10-05T09:03:27.619Z"
   },
   {
    "duration": 53,
    "start_time": "2021-10-05T09:03:27.626Z"
   },
   {
    "duration": 228,
    "start_time": "2021-10-05T09:03:27.680Z"
   },
   {
    "duration": 377,
    "start_time": "2021-10-05T09:03:27.910Z"
   },
   {
    "duration": 397,
    "start_time": "2021-10-05T09:03:28.289Z"
   },
   {
    "duration": 15,
    "start_time": "2021-10-05T09:03:28.688Z"
   },
   {
    "duration": 4,
    "start_time": "2021-10-05T09:03:28.705Z"
   },
   {
    "duration": 33,
    "start_time": "2021-10-05T09:03:28.710Z"
   },
   {
    "duration": 76,
    "start_time": "2021-10-05T09:03:28.745Z"
   },
   {
    "duration": 8,
    "start_time": "2021-10-05T09:03:28.823Z"
   },
   {
    "duration": 12,
    "start_time": "2021-10-05T09:03:28.833Z"
   },
   {
    "duration": 7595,
    "start_time": "2021-10-05T09:03:28.847Z"
   },
   {
    "duration": 12,
    "start_time": "2021-10-05T09:08:53.369Z"
   },
   {
    "duration": 1459,
    "start_time": "2021-10-06T05:30:06.335Z"
   },
   {
    "duration": 652,
    "start_time": "2021-10-06T05:30:07.796Z"
   },
   {
    "duration": 11,
    "start_time": "2021-10-06T05:30:08.450Z"
   },
   {
    "duration": 12,
    "start_time": "2021-10-06T05:30:08.463Z"
   },
   {
    "duration": 28,
    "start_time": "2021-10-06T05:30:08.477Z"
   },
   {
    "duration": 196,
    "start_time": "2021-10-06T05:30:08.506Z"
   },
   {
    "duration": 35,
    "start_time": "2021-10-06T05:30:08.703Z"
   },
   {
    "duration": 22,
    "start_time": "2021-10-06T05:30:08.748Z"
   },
   {
    "duration": 9,
    "start_time": "2021-10-06T05:30:08.771Z"
   },
   {
    "duration": 7,
    "start_time": "2021-10-06T05:30:08.781Z"
   },
   {
    "duration": 24,
    "start_time": "2021-10-06T05:30:08.789Z"
   },
   {
    "duration": 263,
    "start_time": "2021-10-06T05:30:08.815Z"
   },
   {
    "duration": 369,
    "start_time": "2021-10-06T05:30:09.080Z"
   },
   {
    "duration": 376,
    "start_time": "2021-10-06T05:30:09.450Z"
   },
   {
    "duration": 26,
    "start_time": "2021-10-06T05:30:09.828Z"
   },
   {
    "duration": 5,
    "start_time": "2021-10-06T05:30:09.856Z"
   },
   {
    "duration": 35,
    "start_time": "2021-10-06T05:30:09.863Z"
   },
   {
    "duration": 72,
    "start_time": "2021-10-06T05:30:09.900Z"
   },
   {
    "duration": 9,
    "start_time": "2021-10-06T05:30:09.975Z"
   },
   {
    "duration": 11,
    "start_time": "2021-10-06T05:30:09.986Z"
   },
   {
    "duration": 14,
    "start_time": "2021-10-06T05:30:09.999Z"
   },
   {
    "duration": 351,
    "start_time": "2021-10-06T05:41:14.440Z"
   },
   {
    "duration": 38,
    "start_time": "2021-10-06T05:41:31.791Z"
   },
   {
    "duration": 1469,
    "start_time": "2021-10-07T05:23:07.839Z"
   },
   {
    "duration": 143,
    "start_time": "2021-10-07T05:23:09.310Z"
   },
   {
    "duration": 13,
    "start_time": "2021-10-07T05:23:09.455Z"
   },
   {
    "duration": 4,
    "start_time": "2021-10-07T05:23:09.470Z"
   },
   {
    "duration": 15,
    "start_time": "2021-10-07T05:23:09.476Z"
   },
   {
    "duration": 203,
    "start_time": "2021-10-07T05:23:09.492Z"
   },
   {
    "duration": 48,
    "start_time": "2021-10-07T05:23:09.697Z"
   },
   {
    "duration": 24,
    "start_time": "2021-10-07T05:23:09.747Z"
   },
   {
    "duration": 8,
    "start_time": "2021-10-07T05:23:09.773Z"
   },
   {
    "duration": 7,
    "start_time": "2021-10-07T05:23:09.783Z"
   },
   {
    "duration": 24,
    "start_time": "2021-10-07T05:23:09.791Z"
   },
   {
    "duration": 259,
    "start_time": "2021-10-07T05:23:09.817Z"
   },
   {
    "duration": 379,
    "start_time": "2021-10-07T05:23:10.078Z"
   },
   {
    "duration": 373,
    "start_time": "2021-10-07T05:23:10.459Z"
   },
   {
    "duration": 19,
    "start_time": "2021-10-07T05:23:10.834Z"
   },
   {
    "duration": 4,
    "start_time": "2021-10-07T05:23:10.855Z"
   },
   {
    "duration": 35,
    "start_time": "2021-10-07T05:23:10.860Z"
   },
   {
    "duration": 69,
    "start_time": "2021-10-07T05:23:10.897Z"
   },
   {
    "duration": 8,
    "start_time": "2021-10-07T05:23:10.967Z"
   },
   {
    "duration": 10,
    "start_time": "2021-10-07T05:23:10.977Z"
   },
   {
    "duration": 14,
    "start_time": "2021-10-07T05:23:10.988Z"
   },
   {
    "duration": 52,
    "start_time": "2021-10-07T05:23:11.003Z"
   },
   {
    "duration": 774,
    "start_time": "2021-10-07T05:24:51.559Z"
   },
   {
    "duration": 240,
    "start_time": "2021-10-07T05:25:43.479Z"
   },
   {
    "duration": 25,
    "start_time": "2021-10-07T05:33:56.839Z"
   },
   {
    "duration": 28,
    "start_time": "2021-10-07T05:38:37.120Z"
   },
   {
    "duration": 78,
    "start_time": "2021-10-07T05:39:00.559Z"
   },
   {
    "duration": 10,
    "start_time": "2021-10-07T05:39:19.951Z"
   },
   {
    "duration": 227,
    "start_time": "2021-10-07T05:43:44.318Z"
   },
   {
    "duration": 6191,
    "start_time": "2021-10-07T05:44:09.838Z"
   },
   {
    "duration": 484,
    "start_time": "2021-10-07T05:45:17.758Z"
   },
   {
    "duration": 2001,
    "start_time": "2021-10-07T17:32:34.483Z"
   },
   {
    "duration": 335,
    "start_time": "2021-10-07T17:32:36.487Z"
   },
   {
    "duration": 18,
    "start_time": "2021-10-07T17:32:36.825Z"
   },
   {
    "duration": 20,
    "start_time": "2021-10-07T17:32:36.847Z"
   },
   {
    "duration": 24,
    "start_time": "2021-10-07T17:32:36.869Z"
   },
   {
    "duration": 351,
    "start_time": "2021-10-07T17:32:36.896Z"
   },
   {
    "duration": 63,
    "start_time": "2021-10-07T17:32:37.249Z"
   },
   {
    "duration": 32,
    "start_time": "2021-10-07T17:32:37.315Z"
   },
   {
    "duration": 17,
    "start_time": "2021-10-07T17:32:37.369Z"
   },
   {
    "duration": 9,
    "start_time": "2021-10-07T17:32:37.388Z"
   },
   {
    "duration": 73,
    "start_time": "2021-10-07T17:32:37.400Z"
   },
   {
    "duration": 427,
    "start_time": "2021-10-07T17:32:37.476Z"
   },
   {
    "duration": 659,
    "start_time": "2021-10-07T17:32:37.905Z"
   },
   {
    "duration": 727,
    "start_time": "2021-10-07T17:32:38.567Z"
   },
   {
    "duration": 31,
    "start_time": "2021-10-07T17:32:39.297Z"
   },
   {
    "duration": 7,
    "start_time": "2021-10-07T17:32:39.332Z"
   },
   {
    "duration": 492,
    "start_time": "2021-10-07T17:32:39.341Z"
   },
   {
    "duration": 495,
    "start_time": "2021-10-07T17:32:39.341Z"
   },
   {
    "duration": 483,
    "start_time": "2021-10-07T17:32:39.354Z"
   },
   {
    "duration": 470,
    "start_time": "2021-10-07T17:32:39.369Z"
   },
   {
    "duration": 462,
    "start_time": "2021-10-07T17:32:39.379Z"
   },
   {
    "duration": 354,
    "start_time": "2021-10-07T17:32:39.488Z"
   },
   {
    "duration": 333,
    "start_time": "2021-10-07T17:32:39.511Z"
   },
   {
    "duration": 323,
    "start_time": "2021-10-07T17:32:39.522Z"
   },
   {
    "duration": 317,
    "start_time": "2021-10-07T17:32:39.529Z"
   },
   {
    "duration": 1220,
    "start_time": "2021-10-07T17:33:26.273Z"
   },
   {
    "duration": 2030,
    "start_time": "2021-10-07T17:33:51.575Z"
   },
   {
    "duration": 211,
    "start_time": "2021-10-07T17:33:53.608Z"
   },
   {
    "duration": 17,
    "start_time": "2021-10-07T17:33:53.823Z"
   },
   {
    "duration": 27,
    "start_time": "2021-10-07T17:33:53.843Z"
   },
   {
    "duration": 20,
    "start_time": "2021-10-07T17:33:53.873Z"
   },
   {
    "duration": 347,
    "start_time": "2021-10-07T17:33:53.896Z"
   },
   {
    "duration": 62,
    "start_time": "2021-10-07T17:33:54.246Z"
   },
   {
    "duration": 32,
    "start_time": "2021-10-07T17:33:54.312Z"
   },
   {
    "duration": 35,
    "start_time": "2021-10-07T17:33:54.347Z"
   },
   {
    "duration": 8,
    "start_time": "2021-10-07T17:33:54.384Z"
   },
   {
    "duration": 38,
    "start_time": "2021-10-07T17:33:54.395Z"
   },
   {
    "duration": 428,
    "start_time": "2021-10-07T17:33:54.467Z"
   },
   {
    "duration": 652,
    "start_time": "2021-10-07T17:33:54.897Z"
   },
   {
    "duration": 818,
    "start_time": "2021-10-07T17:33:55.551Z"
   },
   {
    "duration": 27,
    "start_time": "2021-10-07T17:33:56.372Z"
   },
   {
    "duration": 6,
    "start_time": "2021-10-07T17:33:56.401Z"
   },
   {
    "duration": 449,
    "start_time": "2021-10-07T17:33:56.409Z"
   },
   {
    "duration": 195,
    "start_time": "2021-10-07T17:33:56.666Z"
   },
   {
    "duration": 30,
    "start_time": "2021-10-07T17:33:56.833Z"
   },
   {
    "duration": 21,
    "start_time": "2021-10-07T17:33:56.844Z"
   },
   {
    "duration": 13,
    "start_time": "2021-10-07T17:33:56.854Z"
   },
   {
    "duration": 4,
    "start_time": "2021-10-07T17:33:56.864Z"
   },
   {
    "duration": -19,
    "start_time": "2021-10-07T17:33:56.889Z"
   },
   {
    "duration": -22,
    "start_time": "2021-10-07T17:33:56.895Z"
   },
   {
    "duration": -25,
    "start_time": "2021-10-07T17:33:56.901Z"
   },
   {
    "duration": 61,
    "start_time": "2021-10-07T17:34:30.761Z"
   },
   {
    "duration": 2026,
    "start_time": "2021-10-07T17:34:39.399Z"
   },
   {
    "duration": 224,
    "start_time": "2021-10-07T17:34:41.428Z"
   },
   {
    "duration": 31,
    "start_time": "2021-10-07T17:34:41.656Z"
   },
   {
    "duration": 7,
    "start_time": "2021-10-07T17:34:41.690Z"
   },
   {
    "duration": 20,
    "start_time": "2021-10-07T17:34:41.700Z"
   },
   {
    "duration": 370,
    "start_time": "2021-10-07T17:34:41.722Z"
   },
   {
    "duration": 53,
    "start_time": "2021-10-07T17:34:42.095Z"
   },
   {
    "duration": 53,
    "start_time": "2021-10-07T17:34:42.151Z"
   },
   {
    "duration": 13,
    "start_time": "2021-10-07T17:34:42.207Z"
   },
   {
    "duration": 44,
    "start_time": "2021-10-07T17:34:42.223Z"
   },
   {
    "duration": 44,
    "start_time": "2021-10-07T17:34:42.269Z"
   },
   {
    "duration": 471,
    "start_time": "2021-10-07T17:34:42.315Z"
   },
   {
    "duration": 616,
    "start_time": "2021-10-07T17:34:42.790Z"
   },
   {
    "duration": 822,
    "start_time": "2021-10-07T17:34:43.409Z"
   },
   {
    "duration": 42,
    "start_time": "2021-10-07T17:34:44.234Z"
   },
   {
    "duration": 7,
    "start_time": "2021-10-07T17:34:44.280Z"
   },
   {
    "duration": 99,
    "start_time": "2021-10-07T17:34:44.290Z"
   },
   {
    "duration": 7092,
    "start_time": "2021-10-07T17:34:44.391Z"
   },
   {
    "duration": 336,
    "start_time": "2021-10-07T17:34:51.149Z"
   },
   {
    "duration": 322,
    "start_time": "2021-10-07T17:34:51.165Z"
   },
   {
    "duration": 312,
    "start_time": "2021-10-07T17:34:51.177Z"
   },
   {
    "duration": 303,
    "start_time": "2021-10-07T17:34:51.188Z"
   },
   {
    "duration": 298,
    "start_time": "2021-10-07T17:34:51.194Z"
   },
   {
    "duration": 290,
    "start_time": "2021-10-07T17:34:51.204Z"
   },
   {
    "duration": 282,
    "start_time": "2021-10-07T17:34:51.213Z"
   },
   {
    "duration": 1549,
    "start_time": "2021-10-11T06:57:27.050Z"
   },
   {
    "duration": 671,
    "start_time": "2021-10-11T06:57:28.601Z"
   },
   {
    "duration": 13,
    "start_time": "2021-10-11T06:57:29.274Z"
   },
   {
    "duration": 4,
    "start_time": "2021-10-11T06:57:29.289Z"
   },
   {
    "duration": 17,
    "start_time": "2021-10-11T06:57:29.295Z"
   },
   {
    "duration": 216,
    "start_time": "2021-10-11T06:57:29.314Z"
   },
   {
    "duration": 43,
    "start_time": "2021-10-11T06:57:29.531Z"
   },
   {
    "duration": 23,
    "start_time": "2021-10-11T06:57:29.576Z"
   },
   {
    "duration": 11,
    "start_time": "2021-10-11T06:57:29.602Z"
   },
   {
    "duration": 6,
    "start_time": "2021-10-11T06:57:29.614Z"
   },
   {
    "duration": 47,
    "start_time": "2021-10-11T06:57:29.622Z"
   },
   {
    "duration": 238,
    "start_time": "2021-10-11T06:57:29.671Z"
   },
   {
    "duration": 436,
    "start_time": "2021-10-11T06:57:29.911Z"
   },
   {
    "duration": 383,
    "start_time": "2021-10-11T06:57:30.349Z"
   },
   {
    "duration": 22,
    "start_time": "2021-10-11T06:57:30.733Z"
   },
   {
    "duration": 4,
    "start_time": "2021-10-11T06:57:30.757Z"
   },
   {
    "duration": 46,
    "start_time": "2021-10-11T06:57:30.763Z"
   },
   {
    "duration": 6967,
    "start_time": "2021-10-11T06:57:30.811Z"
   },
   {
    "duration": -8728,
    "start_time": "2021-10-11T06:57:46.508Z"
   },
   {
    "duration": -8738,
    "start_time": "2021-10-11T06:57:46.519Z"
   },
   {
    "duration": -8743,
    "start_time": "2021-10-11T06:57:46.526Z"
   },
   {
    "duration": -8748,
    "start_time": "2021-10-11T06:57:46.532Z"
   },
   {
    "duration": -8756,
    "start_time": "2021-10-11T06:57:46.541Z"
   },
   {
    "duration": -8829,
    "start_time": "2021-10-11T06:57:46.616Z"
   },
   {
    "duration": -8940,
    "start_time": "2021-10-11T06:57:46.727Z"
   },
   {
    "duration": 37,
    "start_time": "2021-10-11T07:07:02.536Z"
   },
   {
    "duration": 1487,
    "start_time": "2021-10-11T07:07:12.361Z"
   },
   {
    "duration": 149,
    "start_time": "2021-10-11T07:07:13.850Z"
   },
   {
    "duration": 13,
    "start_time": "2021-10-11T07:07:14.001Z"
   },
   {
    "duration": 5,
    "start_time": "2021-10-11T07:07:14.016Z"
   },
   {
    "duration": 34,
    "start_time": "2021-10-11T07:07:14.023Z"
   },
   {
    "duration": 208,
    "start_time": "2021-10-11T07:07:14.059Z"
   },
   {
    "duration": 40,
    "start_time": "2021-10-11T07:07:14.269Z"
   },
   {
    "duration": 41,
    "start_time": "2021-10-11T07:07:14.311Z"
   },
   {
    "duration": 8,
    "start_time": "2021-10-11T07:07:14.355Z"
   },
   {
    "duration": 6,
    "start_time": "2021-10-11T07:07:14.365Z"
   },
   {
    "duration": 28,
    "start_time": "2021-10-11T07:07:14.373Z"
   },
   {
    "duration": 263,
    "start_time": "2021-10-11T07:07:14.403Z"
   },
   {
    "duration": 400,
    "start_time": "2021-10-11T07:07:14.668Z"
   },
   {
    "duration": 388,
    "start_time": "2021-10-11T07:07:15.070Z"
   },
   {
    "duration": 18,
    "start_time": "2021-10-11T07:07:15.460Z"
   },
   {
    "duration": 5,
    "start_time": "2021-10-11T07:07:15.480Z"
   },
   {
    "duration": 64,
    "start_time": "2021-10-11T07:07:15.487Z"
   },
   {
    "duration": 37,
    "start_time": "2021-10-11T07:07:15.554Z"
   },
   {
    "duration": 31,
    "start_time": "2021-10-11T07:07:15.593Z"
   },
   {
    "duration": 79,
    "start_time": "2021-10-11T07:07:15.626Z"
   },
   {
    "duration": 11,
    "start_time": "2021-10-11T07:07:15.707Z"
   },
   {
    "duration": 34,
    "start_time": "2021-10-11T07:07:15.720Z"
   },
   {
    "duration": 445,
    "start_time": "2021-10-11T07:07:15.757Z"
   },
   {
    "duration": 15,
    "start_time": "2021-10-11T07:07:16.205Z"
   },
   {
    "duration": 64,
    "start_time": "2021-10-11T07:07:16.223Z"
   },
   {
    "duration": 1505,
    "start_time": "2021-10-11T07:11:06.234Z"
   },
   {
    "duration": 150,
    "start_time": "2021-10-11T07:11:07.741Z"
   },
   {
    "duration": 12,
    "start_time": "2021-10-11T07:11:07.893Z"
   },
   {
    "duration": 5,
    "start_time": "2021-10-11T07:11:07.907Z"
   },
   {
    "duration": 16,
    "start_time": "2021-10-11T07:11:07.914Z"
   },
   {
    "duration": 303,
    "start_time": "2021-10-11T07:11:07.950Z"
   },
   {
    "duration": 38,
    "start_time": "2021-10-11T07:11:08.255Z"
   },
   {
    "duration": 24,
    "start_time": "2021-10-11T07:11:08.296Z"
   },
   {
    "duration": 31,
    "start_time": "2021-10-11T07:11:08.322Z"
   },
   {
    "duration": 6,
    "start_time": "2021-10-11T07:11:08.355Z"
   },
   {
    "duration": 26,
    "start_time": "2021-10-11T07:11:08.363Z"
   },
   {
    "duration": 249,
    "start_time": "2021-10-11T07:11:08.391Z"
   },
   {
    "duration": 396,
    "start_time": "2021-10-11T07:11:08.642Z"
   },
   {
    "duration": 388,
    "start_time": "2021-10-11T07:11:09.040Z"
   },
   {
    "duration": 26,
    "start_time": "2021-10-11T07:11:09.430Z"
   },
   {
    "duration": 4,
    "start_time": "2021-10-11T07:11:09.457Z"
   },
   {
    "duration": 38,
    "start_time": "2021-10-11T07:11:09.463Z"
   },
   {
    "duration": 62,
    "start_time": "2021-10-11T07:11:09.503Z"
   },
   {
    "duration": 29,
    "start_time": "2021-10-11T07:11:09.566Z"
   },
   {
    "duration": 69,
    "start_time": "2021-10-11T07:11:09.597Z"
   },
   {
    "duration": 9,
    "start_time": "2021-10-11T07:11:09.667Z"
   },
   {
    "duration": 13,
    "start_time": "2021-10-11T07:11:09.678Z"
   },
   {
    "duration": 440,
    "start_time": "2021-10-11T07:11:09.694Z"
   },
   {
    "duration": 15,
    "start_time": "2021-10-11T07:11:10.136Z"
   },
   {
    "duration": 5878,
    "start_time": "2021-10-11T07:11:10.152Z"
   },
   {
    "duration": -45529,
    "start_time": "2021-10-11T07:12:01.561Z"
   },
   {
    "duration": -45539,
    "start_time": "2021-10-11T07:12:01.572Z"
   },
   {
    "duration": -45552,
    "start_time": "2021-10-11T07:12:01.586Z"
   },
   {
    "duration": 39,
    "start_time": "2021-10-11T07:12:20.647Z"
   },
   {
    "duration": 220,
    "start_time": "2021-10-11T07:12:26.853Z"
   },
   {
    "duration": 9,
    "start_time": "2021-10-11T07:12:35.960Z"
   },
   {
    "duration": 5363,
    "start_time": "2021-10-11T07:12:42.843Z"
   },
   {
    "duration": 15,
    "start_time": "2021-10-11T07:13:06.084Z"
   },
   {
    "duration": 2008,
    "start_time": "2021-10-12T03:43:18.324Z"
   },
   {
    "duration": 288,
    "start_time": "2021-10-12T03:43:20.336Z"
   },
   {
    "duration": 38,
    "start_time": "2021-10-12T03:43:20.629Z"
   },
   {
    "duration": 9,
    "start_time": "2021-10-12T03:43:20.670Z"
   },
   {
    "duration": 25,
    "start_time": "2021-10-12T03:43:20.682Z"
   },
   {
    "duration": 372,
    "start_time": "2021-10-12T03:43:20.709Z"
   },
   {
    "duration": 47,
    "start_time": "2021-10-12T03:43:21.083Z"
   },
   {
    "duration": 59,
    "start_time": "2021-10-12T03:43:21.134Z"
   },
   {
    "duration": 22,
    "start_time": "2021-10-12T03:43:21.196Z"
   },
   {
    "duration": 11,
    "start_time": "2021-10-12T03:43:21.221Z"
   },
   {
    "duration": 61,
    "start_time": "2021-10-12T03:43:21.234Z"
   },
   {
    "duration": 397,
    "start_time": "2021-10-12T03:43:21.298Z"
   },
   {
    "duration": 636,
    "start_time": "2021-10-12T03:43:21.697Z"
   },
   {
    "duration": 671,
    "start_time": "2021-10-12T03:43:22.336Z"
   },
   {
    "duration": 22,
    "start_time": "2021-10-12T03:43:23.010Z"
   },
   {
    "duration": 23,
    "start_time": "2021-10-12T03:43:23.035Z"
   },
   {
    "duration": 58,
    "start_time": "2021-10-12T03:43:23.061Z"
   },
   {
    "duration": 71,
    "start_time": "2021-10-12T03:43:23.121Z"
   },
   {
    "duration": 39,
    "start_time": "2021-10-12T03:43:23.194Z"
   },
   {
    "duration": 96,
    "start_time": "2021-10-12T03:43:23.236Z"
   },
   {
    "duration": 29,
    "start_time": "2021-10-12T03:43:23.335Z"
   },
   {
    "duration": 18,
    "start_time": "2021-10-12T03:43:23.367Z"
   },
   {
    "duration": 751,
    "start_time": "2021-10-12T03:43:23.389Z"
   },
   {
    "duration": 27,
    "start_time": "2021-10-12T03:43:24.143Z"
   },
   {
    "duration": 49,
    "start_time": "2021-10-12T03:43:24.173Z"
   },
   {
    "duration": 344,
    "start_time": "2021-10-12T03:43:24.224Z"
   },
   {
    "duration": 12,
    "start_time": "2021-10-12T03:43:24.572Z"
   },
   {
    "duration": 21,
    "start_time": "2021-10-12T03:43:24.586Z"
   },
   {
    "duration": 56,
    "start_time": "2021-10-12T03:49:30.155Z"
   },
   {
    "duration": 50,
    "start_time": "2021-10-12T03:50:21.655Z"
   },
   {
    "duration": 47,
    "start_time": "2021-10-12T03:52:08.895Z"
   },
   {
    "duration": 47,
    "start_time": "2021-10-12T03:52:37.697Z"
   },
   {
    "duration": 45,
    "start_time": "2021-10-12T03:53:20.515Z"
   },
   {
    "duration": 324,
    "start_time": "2021-10-12T03:55:04.056Z"
   },
   {
    "duration": 5130,
    "start_time": "2021-10-12T03:57:54.277Z"
   },
   {
    "duration": 4563,
    "start_time": "2021-10-12T03:58:24.735Z"
   },
   {
    "duration": 1946,
    "start_time": "2021-10-12T03:59:08.573Z"
   },
   {
    "duration": 203,
    "start_time": "2021-10-12T03:59:10.521Z"
   },
   {
    "duration": 32,
    "start_time": "2021-10-12T03:59:10.727Z"
   },
   {
    "duration": 10,
    "start_time": "2021-10-12T03:59:10.763Z"
   },
   {
    "duration": 19,
    "start_time": "2021-10-12T03:59:10.776Z"
   },
   {
    "duration": 341,
    "start_time": "2021-10-12T03:59:10.797Z"
   },
   {
    "duration": 63,
    "start_time": "2021-10-12T03:59:11.140Z"
   },
   {
    "duration": 59,
    "start_time": "2021-10-12T03:59:11.206Z"
   },
   {
    "duration": 14,
    "start_time": "2021-10-12T03:59:11.269Z"
   },
   {
    "duration": 8,
    "start_time": "2021-10-12T03:59:11.285Z"
   },
   {
    "duration": 35,
    "start_time": "2021-10-12T03:59:11.295Z"
   },
   {
    "duration": 395,
    "start_time": "2021-10-12T03:59:11.332Z"
   },
   {
    "duration": 640,
    "start_time": "2021-10-12T03:59:11.730Z"
   },
   {
    "duration": 857,
    "start_time": "2021-10-12T03:59:12.373Z"
   },
   {
    "duration": 37,
    "start_time": "2021-10-12T03:59:13.232Z"
   },
   {
    "duration": 6,
    "start_time": "2021-10-12T03:59:13.274Z"
   },
   {
    "duration": 76,
    "start_time": "2021-10-12T03:59:13.283Z"
   },
   {
    "duration": 46,
    "start_time": "2021-10-12T03:59:13.363Z"
   },
   {
    "duration": 71,
    "start_time": "2021-10-12T03:59:13.412Z"
   },
   {
    "duration": 89,
    "start_time": "2021-10-12T03:59:13.485Z"
   },
   {
    "duration": 13,
    "start_time": "2021-10-12T03:59:13.577Z"
   },
   {
    "duration": 11,
    "start_time": "2021-10-12T03:59:13.593Z"
   },
   {
    "duration": 787,
    "start_time": "2021-10-12T03:59:13.608Z"
   },
   {
    "duration": 20,
    "start_time": "2021-10-12T03:59:14.398Z"
   },
   {
    "duration": 5464,
    "start_time": "2021-10-12T03:59:14.421Z"
   },
   {
    "duration": -1572,
    "start_time": "2021-10-12T03:59:21.460Z"
   },
   {
    "duration": -1581,
    "start_time": "2021-10-12T03:59:21.471Z"
   },
   {
    "duration": -1590,
    "start_time": "2021-10-12T03:59:21.481Z"
   },
   {
    "duration": 48,
    "start_time": "2021-10-12T04:00:07.589Z"
   },
   {
    "duration": 2017,
    "start_time": "2021-10-12T04:00:49.757Z"
   },
   {
    "duration": 204,
    "start_time": "2021-10-12T04:00:51.777Z"
   },
   {
    "duration": 18,
    "start_time": "2021-10-12T04:00:51.985Z"
   },
   {
    "duration": 7,
    "start_time": "2021-10-12T04:00:52.006Z"
   },
   {
    "duration": 54,
    "start_time": "2021-10-12T04:00:52.016Z"
   },
   {
    "duration": 332,
    "start_time": "2021-10-12T04:00:52.073Z"
   },
   {
    "duration": 62,
    "start_time": "2021-10-12T04:00:52.407Z"
   },
   {
    "duration": 30,
    "start_time": "2021-10-12T04:00:52.473Z"
   },
   {
    "duration": 14,
    "start_time": "2021-10-12T04:00:52.506Z"
   },
   {
    "duration": 35,
    "start_time": "2021-10-12T04:00:52.523Z"
   },
   {
    "duration": 38,
    "start_time": "2021-10-12T04:00:52.561Z"
   },
   {
    "duration": 415,
    "start_time": "2021-10-12T04:00:52.602Z"
   },
   {
    "duration": 597,
    "start_time": "2021-10-12T04:00:53.019Z"
   },
   {
    "duration": 683,
    "start_time": "2021-10-12T04:00:53.619Z"
   },
   {
    "duration": 27,
    "start_time": "2021-10-12T04:00:54.305Z"
   },
   {
    "duration": 7,
    "start_time": "2021-10-12T04:00:54.361Z"
   },
   {
    "duration": 51,
    "start_time": "2021-10-12T04:00:54.371Z"
   },
   {
    "duration": 83,
    "start_time": "2021-10-12T04:00:54.426Z"
   },
   {
    "duration": 55,
    "start_time": "2021-10-12T04:00:54.512Z"
   },
   {
    "duration": 90,
    "start_time": "2021-10-12T04:00:54.570Z"
   },
   {
    "duration": 20,
    "start_time": "2021-10-12T04:00:54.663Z"
   },
   {
    "duration": 21,
    "start_time": "2021-10-12T04:00:54.686Z"
   },
   {
    "duration": 1108,
    "start_time": "2021-10-12T04:00:54.713Z"
   },
   {
    "duration": 20,
    "start_time": "2021-10-12T04:00:55.824Z"
   },
   {
    "duration": 52,
    "start_time": "2021-10-12T04:00:55.859Z"
   },
   {
    "duration": 338,
    "start_time": "2021-10-12T04:00:55.914Z"
   },
   {
    "duration": 539,
    "start_time": "2021-10-12T04:00:56.257Z"
   },
   {
    "duration": -677,
    "start_time": "2021-10-12T04:00:57.476Z"
   },
   {
    "duration": 11,
    "start_time": "2021-10-12T04:01:38.710Z"
   },
   {
    "duration": 1983,
    "start_time": "2021-10-12T04:03:32.561Z"
   },
   {
    "duration": 207,
    "start_time": "2021-10-12T04:03:34.547Z"
   },
   {
    "duration": 23,
    "start_time": "2021-10-12T04:03:34.757Z"
   },
   {
    "duration": 7,
    "start_time": "2021-10-12T04:03:34.783Z"
   },
   {
    "duration": 23,
    "start_time": "2021-10-12T04:03:34.793Z"
   },
   {
    "duration": 338,
    "start_time": "2021-10-12T04:03:34.819Z"
   },
   {
    "duration": 54,
    "start_time": "2021-10-12T04:03:35.162Z"
   },
   {
    "duration": 51,
    "start_time": "2021-10-12T04:03:35.219Z"
   },
   {
    "duration": 13,
    "start_time": "2021-10-12T04:03:35.274Z"
   },
   {
    "duration": 8,
    "start_time": "2021-10-12T04:03:35.289Z"
   },
   {
    "duration": 80,
    "start_time": "2021-10-12T04:03:35.299Z"
   },
   {
    "duration": 391,
    "start_time": "2021-10-12T04:03:35.381Z"
   },
   {
    "duration": 572,
    "start_time": "2021-10-12T04:03:35.775Z"
   },
   {
    "duration": 676,
    "start_time": "2021-10-12T04:03:36.350Z"
   },
   {
    "duration": 46,
    "start_time": "2021-10-12T04:03:37.029Z"
   },
   {
    "duration": 6,
    "start_time": "2021-10-12T04:03:37.078Z"
   },
   {
    "duration": 80,
    "start_time": "2021-10-12T04:03:37.087Z"
   },
   {
    "duration": 47,
    "start_time": "2021-10-12T04:03:37.170Z"
   },
   {
    "duration": 70,
    "start_time": "2021-10-12T04:03:37.220Z"
   },
   {
    "duration": 101,
    "start_time": "2021-10-12T04:03:37.293Z"
   },
   {
    "duration": 15,
    "start_time": "2021-10-12T04:03:37.397Z"
   },
   {
    "duration": 25,
    "start_time": "2021-10-12T04:03:37.415Z"
   },
   {
    "duration": 780,
    "start_time": "2021-10-12T04:03:37.460Z"
   },
   {
    "duration": 30,
    "start_time": "2021-10-12T04:03:38.244Z"
   },
   {
    "duration": 46,
    "start_time": "2021-10-12T04:03:38.277Z"
   },
   {
    "duration": 350,
    "start_time": "2021-10-12T04:03:38.325Z"
   },
   {
    "duration": 11,
    "start_time": "2021-10-12T04:03:38.677Z"
   },
   {
    "duration": 643,
    "start_time": "2021-10-12T04:03:38.690Z"
   },
   {
    "duration": 9126,
    "start_time": "2021-10-12T04:04:38.330Z"
   },
   {
    "duration": 1919,
    "start_time": "2021-10-12T04:05:31.274Z"
   },
   {
    "duration": 204,
    "start_time": "2021-10-12T04:05:33.196Z"
   },
   {
    "duration": 16,
    "start_time": "2021-10-12T04:05:33.403Z"
   },
   {
    "duration": 7,
    "start_time": "2021-10-12T04:05:33.422Z"
   },
   {
    "duration": 24,
    "start_time": "2021-10-12T04:05:33.457Z"
   },
   {
    "duration": 327,
    "start_time": "2021-10-12T04:05:33.485Z"
   },
   {
    "duration": 67,
    "start_time": "2021-10-12T04:05:33.815Z"
   },
   {
    "duration": 30,
    "start_time": "2021-10-12T04:05:33.885Z"
   },
   {
    "duration": 12,
    "start_time": "2021-10-12T04:05:33.918Z"
   },
   {
    "duration": 10,
    "start_time": "2021-10-12T04:05:33.958Z"
   },
   {
    "duration": 38,
    "start_time": "2021-10-12T04:05:33.971Z"
   },
   {
    "duration": 421,
    "start_time": "2021-10-12T04:05:34.012Z"
   },
   {
    "duration": 606,
    "start_time": "2021-10-12T04:05:34.435Z"
   },
   {
    "duration": 680,
    "start_time": "2021-10-12T04:05:35.043Z"
   },
   {
    "duration": 38,
    "start_time": "2021-10-12T04:05:35.726Z"
   },
   {
    "duration": 8,
    "start_time": "2021-10-12T04:05:35.767Z"
   },
   {
    "duration": 47,
    "start_time": "2021-10-12T04:05:35.778Z"
   },
   {
    "duration": 80,
    "start_time": "2021-10-12T04:05:35.827Z"
   },
   {
    "duration": 60,
    "start_time": "2021-10-12T04:05:35.909Z"
   },
   {
    "duration": 89,
    "start_time": "2021-10-12T04:05:35.973Z"
   },
   {
    "duration": 17,
    "start_time": "2021-10-12T04:05:36.065Z"
   },
   {
    "duration": 31,
    "start_time": "2021-10-12T04:05:36.085Z"
   },
   {
    "duration": 719,
    "start_time": "2021-10-12T04:05:36.120Z"
   },
   {
    "duration": 28,
    "start_time": "2021-10-12T04:05:36.842Z"
   },
   {
    "duration": 47,
    "start_time": "2021-10-12T04:05:36.874Z"
   },
   {
    "duration": 358,
    "start_time": "2021-10-12T04:05:36.923Z"
   },
   {
    "duration": 11,
    "start_time": "2021-10-12T04:05:37.284Z"
   },
   {
    "duration": 9865,
    "start_time": "2021-10-12T04:05:37.297Z"
   },
   {
    "duration": 25,
    "start_time": "2021-10-12T04:06:10.657Z"
   },
   {
    "duration": 315,
    "start_time": "2021-10-12T04:09:02.132Z"
   },
   {
    "duration": 329,
    "start_time": "2021-10-12T04:09:22.270Z"
   },
   {
    "duration": 373,
    "start_time": "2021-10-12T04:12:20.290Z"
   },
   {
    "duration": 13,
    "start_time": "2021-10-12T04:12:32.308Z"
   },
   {
    "duration": 2041,
    "start_time": "2021-10-12T04:13:49.525Z"
   },
   {
    "duration": 209,
    "start_time": "2021-10-12T04:13:51.569Z"
   },
   {
    "duration": 16,
    "start_time": "2021-10-12T04:13:51.781Z"
   },
   {
    "duration": 9,
    "start_time": "2021-10-12T04:13:51.799Z"
   },
   {
    "duration": 21,
    "start_time": "2021-10-12T04:13:51.811Z"
   },
   {
    "duration": 343,
    "start_time": "2021-10-12T04:13:51.834Z"
   },
   {
    "duration": 50,
    "start_time": "2021-10-12T04:13:52.180Z"
   },
   {
    "duration": 53,
    "start_time": "2021-10-12T04:13:52.233Z"
   },
   {
    "duration": 13,
    "start_time": "2021-10-12T04:13:52.289Z"
   },
   {
    "duration": 8,
    "start_time": "2021-10-12T04:13:52.305Z"
   },
   {
    "duration": 73,
    "start_time": "2021-10-12T04:13:52.316Z"
   },
   {
    "duration": 416,
    "start_time": "2021-10-12T04:13:52.392Z"
   },
   {
    "duration": 610,
    "start_time": "2021-10-12T04:13:52.810Z"
   },
   {
    "duration": 676,
    "start_time": "2021-10-12T04:13:53.423Z"
   },
   {
    "duration": 23,
    "start_time": "2021-10-12T04:13:54.101Z"
   },
   {
    "duration": 5,
    "start_time": "2021-10-12T04:13:54.126Z"
   },
   {
    "duration": 53,
    "start_time": "2021-10-12T04:13:54.158Z"
   },
   {
    "duration": 67,
    "start_time": "2021-10-12T04:13:54.213Z"
   },
   {
    "duration": 43,
    "start_time": "2021-10-12T04:13:54.283Z"
   },
   {
    "duration": 112,
    "start_time": "2021-10-12T04:13:54.330Z"
   },
   {
    "duration": 21,
    "start_time": "2021-10-12T04:13:54.444Z"
   },
   {
    "duration": 16,
    "start_time": "2021-10-12T04:13:54.468Z"
   },
   {
    "duration": 727,
    "start_time": "2021-10-12T04:13:54.489Z"
   },
   {
    "duration": 18,
    "start_time": "2021-10-12T04:13:55.219Z"
   },
   {
    "duration": 61,
    "start_time": "2021-10-12T04:13:55.239Z"
   },
   {
    "duration": 450,
    "start_time": "2021-10-12T04:13:55.302Z"
   },
   {
    "duration": 19,
    "start_time": "2021-10-12T04:13:55.755Z"
   },
   {
    "duration": 12,
    "start_time": "2021-10-12T04:13:55.777Z"
   },
   {
    "duration": 10004,
    "start_time": "2021-10-12T04:13:55.792Z"
   },
   {
    "duration": 19,
    "start_time": "2021-10-12T04:15:14.128Z"
   },
   {
    "duration": 1954,
    "start_time": "2021-10-12T04:15:37.037Z"
   },
   {
    "duration": 205,
    "start_time": "2021-10-12T04:15:38.993Z"
   },
   {
    "duration": 19,
    "start_time": "2021-10-12T04:15:39.202Z"
   },
   {
    "duration": 7,
    "start_time": "2021-10-12T04:15:39.224Z"
   },
   {
    "duration": 21,
    "start_time": "2021-10-12T04:15:39.262Z"
   },
   {
    "duration": 329,
    "start_time": "2021-10-12T04:15:39.285Z"
   },
   {
    "duration": 72,
    "start_time": "2021-10-12T04:15:39.617Z"
   },
   {
    "duration": 29,
    "start_time": "2021-10-12T04:15:39.693Z"
   },
   {
    "duration": 14,
    "start_time": "2021-10-12T04:15:39.725Z"
   },
   {
    "duration": 15,
    "start_time": "2021-10-12T04:15:39.757Z"
   },
   {
    "duration": 37,
    "start_time": "2021-10-12T04:15:39.774Z"
   },
   {
    "duration": 419,
    "start_time": "2021-10-12T04:15:39.813Z"
   },
   {
    "duration": 599,
    "start_time": "2021-10-12T04:15:40.235Z"
   },
   {
    "duration": 677,
    "start_time": "2021-10-12T04:15:40.837Z"
   },
   {
    "duration": 22,
    "start_time": "2021-10-12T04:15:41.516Z"
   },
   {
    "duration": 10,
    "start_time": "2021-10-12T04:15:41.556Z"
   },
   {
    "duration": 53,
    "start_time": "2021-10-12T04:15:41.569Z"
   },
   {
    "duration": 81,
    "start_time": "2021-10-12T04:15:41.625Z"
   },
   {
    "duration": 57,
    "start_time": "2021-10-12T04:15:41.709Z"
   },
   {
    "duration": 90,
    "start_time": "2021-10-12T04:15:41.768Z"
   },
   {
    "duration": 19,
    "start_time": "2021-10-12T04:15:41.861Z"
   },
   {
    "duration": 13,
    "start_time": "2021-10-12T04:15:41.882Z"
   },
   {
    "duration": 1542,
    "start_time": "2021-10-12T04:15:41.900Z"
   },
   {
    "duration": 26,
    "start_time": "2021-10-12T04:15:43.445Z"
   },
   {
    "duration": 46,
    "start_time": "2021-10-12T04:15:43.474Z"
   },
   {
    "duration": 338,
    "start_time": "2021-10-12T04:15:43.522Z"
   },
   {
    "duration": 19,
    "start_time": "2021-10-12T04:15:43.863Z"
   },
   {
    "duration": 11,
    "start_time": "2021-10-12T04:15:43.885Z"
   },
   {
    "duration": 20,
    "start_time": "2021-10-12T04:15:43.898Z"
   },
   {
    "duration": 12,
    "start_time": "2021-10-12T04:18:05.553Z"
   },
   {
    "duration": 1462,
    "start_time": "2021-10-17T06:41:15.351Z"
   },
   {
    "duration": 136,
    "start_time": "2021-10-17T06:41:16.815Z"
   },
   {
    "duration": 12,
    "start_time": "2021-10-17T06:41:16.953Z"
   },
   {
    "duration": 4,
    "start_time": "2021-10-17T06:41:16.967Z"
   },
   {
    "duration": 14,
    "start_time": "2021-10-17T06:41:16.973Z"
   },
   {
    "duration": 219,
    "start_time": "2021-10-17T06:41:16.989Z"
   },
   {
    "duration": 45,
    "start_time": "2021-10-17T06:41:17.210Z"
   },
   {
    "duration": 24,
    "start_time": "2021-10-17T06:41:17.259Z"
   },
   {
    "duration": 9,
    "start_time": "2021-10-17T06:41:17.286Z"
   },
   {
    "duration": 8,
    "start_time": "2021-10-17T06:41:17.296Z"
   },
   {
    "duration": 56,
    "start_time": "2021-10-17T06:41:17.305Z"
   },
   {
    "duration": 233,
    "start_time": "2021-10-17T06:41:17.362Z"
   },
   {
    "duration": 437,
    "start_time": "2021-10-17T06:41:17.597Z"
   },
   {
    "duration": 378,
    "start_time": "2021-10-17T06:41:18.036Z"
   },
   {
    "duration": 17,
    "start_time": "2021-10-17T06:41:18.416Z"
   },
   {
    "duration": 13,
    "start_time": "2021-10-17T06:41:18.434Z"
   },
   {
    "duration": 35,
    "start_time": "2021-10-17T06:41:18.449Z"
   },
   {
    "duration": 33,
    "start_time": "2021-10-17T06:41:18.486Z"
   },
   {
    "duration": 48,
    "start_time": "2021-10-17T06:41:18.521Z"
   },
   {
    "duration": 52,
    "start_time": "2021-10-17T06:41:18.571Z"
   },
   {
    "duration": 26,
    "start_time": "2021-10-17T06:41:18.625Z"
   },
   {
    "duration": 9,
    "start_time": "2021-10-17T06:41:18.652Z"
   },
   {
    "duration": 498,
    "start_time": "2021-10-17T06:41:18.665Z"
   },
   {
    "duration": 13,
    "start_time": "2021-10-17T06:41:19.165Z"
   },
   {
    "duration": 34,
    "start_time": "2021-10-17T06:41:19.180Z"
   },
   {
    "duration": 234,
    "start_time": "2021-10-17T06:41:19.216Z"
   },
   {
    "duration": 8,
    "start_time": "2021-10-17T06:41:19.452Z"
   },
   {
    "duration": 11,
    "start_time": "2021-10-17T06:41:19.461Z"
   },
   {
    "duration": 13,
    "start_time": "2021-10-17T06:41:19.474Z"
   },
   {
    "duration": 6,
    "start_time": "2021-10-17T06:43:27.623Z"
   },
   {
    "duration": 1392,
    "start_time": "2021-10-17T06:45:24.689Z"
   },
   {
    "duration": 137,
    "start_time": "2021-10-17T06:45:26.083Z"
   },
   {
    "duration": 10,
    "start_time": "2021-10-17T06:45:26.222Z"
   },
   {
    "duration": 13,
    "start_time": "2021-10-17T06:45:26.234Z"
   },
   {
    "duration": 15,
    "start_time": "2021-10-17T06:45:26.248Z"
   },
   {
    "duration": 209,
    "start_time": "2021-10-17T06:45:26.265Z"
   },
   {
    "duration": 36,
    "start_time": "2021-10-17T06:45:26.475Z"
   },
   {
    "duration": 37,
    "start_time": "2021-10-17T06:45:26.514Z"
   },
   {
    "duration": 9,
    "start_time": "2021-10-17T06:45:26.555Z"
   },
   {
    "duration": 7,
    "start_time": "2021-10-17T06:45:26.567Z"
   },
   {
    "duration": 26,
    "start_time": "2021-10-17T06:45:26.576Z"
   },
   {
    "duration": 260,
    "start_time": "2021-10-17T06:45:26.604Z"
   },
   {
    "duration": 372,
    "start_time": "2021-10-17T06:45:26.866Z"
   },
   {
    "duration": 367,
    "start_time": "2021-10-17T06:45:27.244Z"
   },
   {
    "duration": 17,
    "start_time": "2021-10-17T06:45:27.613Z"
   },
   {
    "duration": 4,
    "start_time": "2021-10-17T06:45:27.645Z"
   },
   {
    "duration": 38,
    "start_time": "2021-10-17T06:45:27.651Z"
   },
   {
    "duration": 33,
    "start_time": "2021-10-17T06:45:27.691Z"
   },
   {
    "duration": 44,
    "start_time": "2021-10-17T06:45:27.725Z"
   },
   {
    "duration": 53,
    "start_time": "2021-10-17T06:45:27.771Z"
   },
   {
    "duration": 10,
    "start_time": "2021-10-17T06:45:27.845Z"
   },
   {
    "duration": 12,
    "start_time": "2021-10-17T06:45:27.857Z"
   },
   {
    "duration": 495,
    "start_time": "2021-10-17T06:45:27.871Z"
   },
   {
    "duration": 14,
    "start_time": "2021-10-17T06:45:28.368Z"
   },
   {
    "duration": 36,
    "start_time": "2021-10-17T06:45:28.383Z"
   },
   {
    "duration": 233,
    "start_time": "2021-10-17T06:45:28.421Z"
   },
   {
    "duration": 8,
    "start_time": "2021-10-17T06:45:28.657Z"
   },
   {
    "duration": 10,
    "start_time": "2021-10-17T06:45:28.667Z"
   },
   {
    "duration": 14,
    "start_time": "2021-10-17T06:45:28.678Z"
   },
   {
    "duration": 12,
    "start_time": "2021-10-17T06:52:08.789Z"
   },
   {
    "duration": 30,
    "start_time": "2021-10-17T06:52:42.088Z"
   },
   {
    "duration": 219,
    "start_time": "2021-10-17T06:53:00.529Z"
   },
   {
    "duration": 1356,
    "start_time": "2021-10-17T06:57:22.656Z"
   },
   {
    "duration": 139,
    "start_time": "2021-10-17T06:57:24.014Z"
   },
   {
    "duration": 11,
    "start_time": "2021-10-17T06:57:24.156Z"
   },
   {
    "duration": 5,
    "start_time": "2021-10-17T06:57:24.169Z"
   },
   {
    "duration": 16,
    "start_time": "2021-10-17T06:57:24.175Z"
   },
   {
    "duration": 210,
    "start_time": "2021-10-17T06:57:24.193Z"
   },
   {
    "duration": 44,
    "start_time": "2021-10-17T06:57:24.404Z"
   },
   {
    "duration": 22,
    "start_time": "2021-10-17T06:57:24.450Z"
   },
   {
    "duration": 8,
    "start_time": "2021-10-17T06:57:24.474Z"
   },
   {
    "duration": 5,
    "start_time": "2021-10-17T06:57:24.484Z"
   },
   {
    "duration": 27,
    "start_time": "2021-10-17T06:57:24.491Z"
   },
   {
    "duration": 227,
    "start_time": "2021-10-17T06:57:24.544Z"
   },
   {
    "duration": 351,
    "start_time": "2021-10-17T06:57:24.773Z"
   },
   {
    "duration": 352,
    "start_time": "2021-10-17T06:57:25.125Z"
   },
   {
    "duration": 14,
    "start_time": "2021-10-17T06:57:25.479Z"
   },
   {
    "duration": 3,
    "start_time": "2021-10-17T06:57:25.495Z"
   },
   {
    "duration": 57,
    "start_time": "2021-10-17T06:57:25.500Z"
   },
   {
    "duration": 35,
    "start_time": "2021-10-17T06:57:25.558Z"
   },
   {
    "duration": 27,
    "start_time": "2021-10-17T06:57:25.594Z"
   },
   {
    "duration": 68,
    "start_time": "2021-10-17T06:57:25.623Z"
   },
   {
    "duration": 8,
    "start_time": "2021-10-17T06:57:25.693Z"
   },
   {
    "duration": 12,
    "start_time": "2021-10-17T06:57:25.702Z"
   },
   {
    "duration": 518,
    "start_time": "2021-10-17T06:57:25.715Z"
   },
   {
    "duration": 13,
    "start_time": "2021-10-17T06:57:26.235Z"
   },
   {
    "duration": 34,
    "start_time": "2021-10-17T06:57:26.249Z"
   },
   {
    "duration": 227,
    "start_time": "2021-10-17T06:57:26.285Z"
   },
   {
    "duration": 8,
    "start_time": "2021-10-17T06:57:26.515Z"
   },
   {
    "duration": 22,
    "start_time": "2021-10-17T06:57:26.525Z"
   },
   {
    "duration": 14,
    "start_time": "2021-10-17T06:57:26.549Z"
   },
   {
    "duration": 11,
    "start_time": "2021-10-17T06:57:26.564Z"
   },
   {
    "duration": 34,
    "start_time": "2021-10-17T06:57:26.576Z"
   },
   {
    "duration": 248,
    "start_time": "2021-10-17T06:57:26.612Z"
   },
   {
    "duration": 11,
    "start_time": "2021-10-17T07:00:50.700Z"
   },
   {
    "duration": 31,
    "start_time": "2021-10-17T07:01:57.336Z"
   },
   {
    "duration": 35,
    "start_time": "2021-10-17T07:09:21.523Z"
   },
   {
    "duration": 43,
    "start_time": "2021-10-17T07:10:40.204Z"
   },
   {
    "duration": 37,
    "start_time": "2021-10-17T07:11:53.763Z"
   },
   {
    "duration": 27,
    "start_time": "2021-10-17T07:15:42.244Z"
   },
   {
    "duration": 30,
    "start_time": "2021-10-17T07:15:56.596Z"
   },
   {
    "duration": 81,
    "start_time": "2021-10-17T07:50:47.869Z"
   },
   {
    "duration": 86,
    "start_time": "2021-10-17T07:51:01.862Z"
   },
   {
    "duration": 82,
    "start_time": "2021-10-17T07:51:13.274Z"
   },
   {
    "duration": 17,
    "start_time": "2021-10-17T07:52:33.274Z"
   },
   {
    "duration": 19,
    "start_time": "2021-10-17T07:53:22.628Z"
   },
   {
    "duration": 9,
    "start_time": "2021-10-17T07:53:44.430Z"
   },
   {
    "duration": 1443,
    "start_time": "2021-10-17T07:54:02.420Z"
   },
   {
    "duration": 138,
    "start_time": "2021-10-17T07:54:03.865Z"
   },
   {
    "duration": 13,
    "start_time": "2021-10-17T07:54:04.005Z"
   },
   {
    "duration": 5,
    "start_time": "2021-10-17T07:54:04.019Z"
   },
   {
    "duration": 28,
    "start_time": "2021-10-17T07:54:04.025Z"
   },
   {
    "duration": 195,
    "start_time": "2021-10-17T07:54:04.054Z"
   },
   {
    "duration": 35,
    "start_time": "2021-10-17T07:54:04.251Z"
   },
   {
    "duration": 23,
    "start_time": "2021-10-17T07:54:04.289Z"
   },
   {
    "duration": 38,
    "start_time": "2021-10-17T07:54:04.314Z"
   },
   {
    "duration": 16,
    "start_time": "2021-10-17T07:54:04.354Z"
   },
   {
    "duration": 55,
    "start_time": "2021-10-17T07:54:04.372Z"
   },
   {
    "duration": 267,
    "start_time": "2021-10-17T07:54:04.429Z"
   },
   {
    "duration": 441,
    "start_time": "2021-10-17T07:54:04.698Z"
   },
   {
    "duration": 388,
    "start_time": "2021-10-17T07:54:05.144Z"
   },
   {
    "duration": 19,
    "start_time": "2021-10-17T07:54:05.533Z"
   },
   {
    "duration": 24,
    "start_time": "2021-10-17T07:54:05.554Z"
   },
   {
    "duration": 46,
    "start_time": "2021-10-17T07:54:05.580Z"
   },
   {
    "duration": 35,
    "start_time": "2021-10-17T07:54:05.628Z"
   },
   {
    "duration": 28,
    "start_time": "2021-10-17T07:54:05.664Z"
   },
   {
    "duration": 68,
    "start_time": "2021-10-17T07:54:05.693Z"
   },
   {
    "duration": 8,
    "start_time": "2021-10-17T07:54:05.763Z"
   },
   {
    "duration": 21,
    "start_time": "2021-10-17T07:54:05.773Z"
   },
   {
    "duration": 512,
    "start_time": "2021-10-17T07:54:05.797Z"
   },
   {
    "duration": 13,
    "start_time": "2021-10-17T07:54:06.311Z"
   },
   {
    "duration": 52,
    "start_time": "2021-10-17T07:54:06.326Z"
   },
   {
    "duration": 216,
    "start_time": "2021-10-17T07:54:06.380Z"
   },
   {
    "duration": 8,
    "start_time": "2021-10-17T07:54:06.598Z"
   },
   {
    "duration": 27,
    "start_time": "2021-10-17T07:54:06.607Z"
   },
   {
    "duration": 14,
    "start_time": "2021-10-17T07:54:06.636Z"
   },
   {
    "duration": 27,
    "start_time": "2021-10-17T07:54:06.652Z"
   },
   {
    "duration": 43,
    "start_time": "2021-10-17T07:54:06.680Z"
   },
   {
    "duration": 231,
    "start_time": "2021-10-17T07:54:06.725Z"
   },
   {
    "duration": 84,
    "start_time": "2021-10-17T07:56:50.476Z"
   },
   {
    "duration": 17,
    "start_time": "2021-10-17T07:56:59.456Z"
   },
   {
    "duration": 1355,
    "start_time": "2021-10-17T08:03:56.535Z"
   },
   {
    "duration": 138,
    "start_time": "2021-10-17T08:03:57.892Z"
   },
   {
    "duration": 20,
    "start_time": "2021-10-17T08:03:58.032Z"
   },
   {
    "duration": 5,
    "start_time": "2021-10-17T08:03:58.054Z"
   },
   {
    "duration": 13,
    "start_time": "2021-10-17T08:03:58.060Z"
   },
   {
    "duration": 201,
    "start_time": "2021-10-17T08:03:58.075Z"
   },
   {
    "duration": 33,
    "start_time": "2021-10-17T08:03:58.278Z"
   },
   {
    "duration": 34,
    "start_time": "2021-10-17T08:03:58.313Z"
   },
   {
    "duration": 7,
    "start_time": "2021-10-17T08:03:58.350Z"
   },
   {
    "duration": 9,
    "start_time": "2021-10-17T08:03:58.358Z"
   },
   {
    "duration": 23,
    "start_time": "2021-10-17T08:03:58.368Z"
   },
   {
    "duration": 244,
    "start_time": "2021-10-17T08:03:58.392Z"
   },
   {
    "duration": 402,
    "start_time": "2021-10-17T08:03:58.638Z"
   },
   {
    "duration": 361,
    "start_time": "2021-10-17T08:03:59.041Z"
   },
   {
    "duration": 16,
    "start_time": "2021-10-17T08:03:59.404Z"
   },
   {
    "duration": 4,
    "start_time": "2021-10-17T08:03:59.422Z"
   },
   {
    "duration": 54,
    "start_time": "2021-10-17T08:03:59.428Z"
   },
   {
    "duration": 35,
    "start_time": "2021-10-17T08:03:59.484Z"
   },
   {
    "duration": 43,
    "start_time": "2021-10-17T08:03:59.521Z"
   },
   {
    "duration": 50,
    "start_time": "2021-10-17T08:03:59.566Z"
   },
   {
    "duration": 7,
    "start_time": "2021-10-17T08:03:59.618Z"
   },
   {
    "duration": 24,
    "start_time": "2021-10-17T08:03:59.627Z"
   },
   {
    "duration": 490,
    "start_time": "2021-10-17T08:03:59.653Z"
   },
   {
    "duration": 12,
    "start_time": "2021-10-17T08:04:00.144Z"
   },
   {
    "duration": 36,
    "start_time": "2021-10-17T08:04:00.158Z"
   },
   {
    "duration": 217,
    "start_time": "2021-10-17T08:04:00.195Z"
   },
   {
    "duration": 7,
    "start_time": "2021-10-17T08:04:00.414Z"
   },
   {
    "duration": 20,
    "start_time": "2021-10-17T08:04:00.422Z"
   },
   {
    "duration": 23,
    "start_time": "2021-10-17T08:04:00.444Z"
   },
   {
    "duration": 11,
    "start_time": "2021-10-17T08:04:00.469Z"
   },
   {
    "duration": 40,
    "start_time": "2021-10-17T08:04:00.482Z"
   },
   {
    "duration": 222,
    "start_time": "2021-10-17T08:04:00.523Z"
   },
   {
    "duration": 1359,
    "start_time": "2021-10-17T08:56:27.554Z"
   },
   {
    "duration": 136,
    "start_time": "2021-10-17T08:56:28.915Z"
   },
   {
    "duration": 11,
    "start_time": "2021-10-17T08:56:29.053Z"
   },
   {
    "duration": 11,
    "start_time": "2021-10-17T08:56:29.066Z"
   },
   {
    "duration": 16,
    "start_time": "2021-10-17T08:56:29.079Z"
   },
   {
    "duration": 194,
    "start_time": "2021-10-17T08:56:29.097Z"
   },
   {
    "duration": 34,
    "start_time": "2021-10-17T08:56:29.292Z"
   },
   {
    "duration": 30,
    "start_time": "2021-10-17T08:56:29.328Z"
   },
   {
    "duration": 18,
    "start_time": "2021-10-17T08:56:29.360Z"
   },
   {
    "duration": 7,
    "start_time": "2021-10-17T08:56:29.379Z"
   },
   {
    "duration": 26,
    "start_time": "2021-10-17T08:56:29.387Z"
   },
   {
    "duration": 231,
    "start_time": "2021-10-17T08:56:29.415Z"
   },
   {
    "duration": 376,
    "start_time": "2021-10-17T08:56:29.647Z"
   },
   {
    "duration": 369,
    "start_time": "2021-10-17T08:56:30.024Z"
   },
   {
    "duration": 17,
    "start_time": "2021-10-17T08:56:30.395Z"
   },
   {
    "duration": 4,
    "start_time": "2021-10-17T08:56:30.414Z"
   },
   {
    "duration": 59,
    "start_time": "2021-10-17T08:56:30.420Z"
   },
   {
    "duration": 32,
    "start_time": "2021-10-17T08:56:30.481Z"
   },
   {
    "duration": 43,
    "start_time": "2021-10-17T08:56:30.515Z"
   },
   {
    "duration": 52,
    "start_time": "2021-10-17T08:56:30.560Z"
   },
   {
    "duration": 9,
    "start_time": "2021-10-17T08:56:30.614Z"
   },
   {
    "duration": 9,
    "start_time": "2021-10-17T08:56:30.644Z"
   },
   {
    "duration": 509,
    "start_time": "2021-10-17T08:56:30.656Z"
   },
   {
    "duration": 13,
    "start_time": "2021-10-17T08:56:31.168Z"
   },
   {
    "duration": 38,
    "start_time": "2021-10-17T08:56:31.182Z"
   },
   {
    "duration": 215,
    "start_time": "2021-10-17T08:56:31.222Z"
   },
   {
    "duration": 9,
    "start_time": "2021-10-17T08:56:31.439Z"
   },
   {
    "duration": 27,
    "start_time": "2021-10-17T08:56:31.450Z"
   },
   {
    "duration": 24,
    "start_time": "2021-10-17T08:56:31.479Z"
   },
   {
    "duration": 26,
    "start_time": "2021-10-17T08:56:31.505Z"
   },
   {
    "duration": 42,
    "start_time": "2021-10-17T08:56:31.533Z"
   },
   {
    "duration": 221,
    "start_time": "2021-10-17T08:56:31.576Z"
   },
   {
    "duration": 11,
    "start_time": "2021-10-17T09:06:30.865Z"
   },
   {
    "duration": 12,
    "start_time": "2021-10-17T09:08:37.323Z"
   },
   {
    "duration": 563,
    "start_time": "2021-10-17T09:12:22.214Z"
   },
   {
    "duration": 690,
    "start_time": "2021-10-17T09:12:54.354Z"
   },
   {
    "duration": 1386,
    "start_time": "2021-10-17T09:14:12.051Z"
   },
   {
    "duration": 133,
    "start_time": "2021-10-17T09:14:13.439Z"
   },
   {
    "duration": 9,
    "start_time": "2021-10-17T09:14:13.574Z"
   },
   {
    "duration": 4,
    "start_time": "2021-10-17T09:14:13.585Z"
   },
   {
    "duration": 17,
    "start_time": "2021-10-17T09:14:13.591Z"
   },
   {
    "duration": 199,
    "start_time": "2021-10-17T09:14:13.609Z"
   },
   {
    "duration": 41,
    "start_time": "2021-10-17T09:14:13.810Z"
   },
   {
    "duration": 22,
    "start_time": "2021-10-17T09:14:13.853Z"
   },
   {
    "duration": 11,
    "start_time": "2021-10-17T09:14:13.876Z"
   },
   {
    "duration": 5,
    "start_time": "2021-10-17T09:14:13.888Z"
   },
   {
    "duration": 24,
    "start_time": "2021-10-17T09:14:13.895Z"
   },
   {
    "duration": 219,
    "start_time": "2021-10-17T09:14:13.944Z"
   },
   {
    "duration": 379,
    "start_time": "2021-10-17T09:14:14.164Z"
   },
   {
    "duration": 373,
    "start_time": "2021-10-17T09:14:14.545Z"
   },
   {
    "duration": 15,
    "start_time": "2021-10-17T09:14:14.920Z"
   },
   {
    "duration": 3,
    "start_time": "2021-10-17T09:14:14.944Z"
   },
   {
    "duration": 37,
    "start_time": "2021-10-17T09:14:14.949Z"
   },
   {
    "duration": 32,
    "start_time": "2021-10-17T09:14:14.987Z"
   },
   {
    "duration": 38,
    "start_time": "2021-10-17T09:14:15.021Z"
   },
   {
    "duration": 50,
    "start_time": "2021-10-17T09:14:15.060Z"
   },
   {
    "duration": 8,
    "start_time": "2021-10-17T09:14:15.112Z"
   },
   {
    "duration": 25,
    "start_time": "2021-10-17T09:14:15.122Z"
   },
   {
    "duration": 871,
    "start_time": "2021-10-17T09:14:15.150Z"
   },
   {
    "duration": 13,
    "start_time": "2021-10-17T09:14:16.023Z"
   },
   {
    "duration": 34,
    "start_time": "2021-10-17T09:14:16.038Z"
   },
   {
    "duration": 213,
    "start_time": "2021-10-17T09:14:16.074Z"
   },
   {
    "duration": 7,
    "start_time": "2021-10-17T09:14:16.289Z"
   },
   {
    "duration": 20,
    "start_time": "2021-10-17T09:14:16.298Z"
   },
   {
    "duration": 14,
    "start_time": "2021-10-17T09:14:16.319Z"
   },
   {
    "duration": 17,
    "start_time": "2021-10-17T09:14:16.334Z"
   },
   {
    "duration": 29,
    "start_time": "2021-10-17T09:14:16.352Z"
   },
   {
    "duration": 235,
    "start_time": "2021-10-17T09:14:16.382Z"
   },
   {
    "duration": 886,
    "start_time": "2021-10-17T09:14:16.619Z"
   },
   {
    "duration": 221,
    "start_time": "2021-10-17T09:29:18.102Z"
   },
   {
    "duration": 732,
    "start_time": "2021-10-17T09:29:33.550Z"
   },
   {
    "duration": 7,
    "start_time": "2021-10-17T09:29:56.676Z"
   },
   {
    "duration": 756,
    "start_time": "2021-10-17T09:30:26.455Z"
   },
   {
    "duration": 1451,
    "start_time": "2021-10-17T09:32:20.577Z"
   },
   {
    "duration": 145,
    "start_time": "2021-10-17T09:32:22.030Z"
   },
   {
    "duration": 13,
    "start_time": "2021-10-17T09:32:22.177Z"
   },
   {
    "duration": 5,
    "start_time": "2021-10-17T09:32:22.192Z"
   },
   {
    "duration": 23,
    "start_time": "2021-10-17T09:32:22.198Z"
   },
   {
    "duration": 207,
    "start_time": "2021-10-17T09:32:22.222Z"
   },
   {
    "duration": 40,
    "start_time": "2021-10-17T09:32:22.430Z"
   },
   {
    "duration": 23,
    "start_time": "2021-10-17T09:32:22.473Z"
   },
   {
    "duration": 16,
    "start_time": "2021-10-17T09:32:22.498Z"
   },
   {
    "duration": 28,
    "start_time": "2021-10-17T09:32:22.516Z"
   },
   {
    "duration": 47,
    "start_time": "2021-10-17T09:32:22.546Z"
   },
   {
    "duration": 217,
    "start_time": "2021-10-17T09:32:22.594Z"
   },
   {
    "duration": 397,
    "start_time": "2021-10-17T09:32:22.812Z"
   },
   {
    "duration": 371,
    "start_time": "2021-10-17T09:32:23.211Z"
   },
   {
    "duration": 14,
    "start_time": "2021-10-17T09:32:23.584Z"
   },
   {
    "duration": 4,
    "start_time": "2021-10-17T09:32:23.600Z"
   },
   {
    "duration": 53,
    "start_time": "2021-10-17T09:32:23.605Z"
   },
   {
    "duration": 34,
    "start_time": "2021-10-17T09:32:23.660Z"
   },
   {
    "duration": 29,
    "start_time": "2021-10-17T09:32:23.696Z"
   },
   {
    "duration": 69,
    "start_time": "2021-10-17T09:32:23.726Z"
   },
   {
    "duration": 9,
    "start_time": "2021-10-17T09:32:23.796Z"
   },
   {
    "duration": 22,
    "start_time": "2021-10-17T09:32:23.806Z"
   },
   {
    "duration": 506,
    "start_time": "2021-10-17T09:32:23.831Z"
   },
   {
    "duration": 15,
    "start_time": "2021-10-17T09:32:24.339Z"
   },
   {
    "duration": 36,
    "start_time": "2021-10-17T09:32:24.356Z"
   },
   {
    "duration": 266,
    "start_time": "2021-10-17T09:32:24.394Z"
   },
   {
    "duration": 9,
    "start_time": "2021-10-17T09:32:24.662Z"
   },
   {
    "duration": 11,
    "start_time": "2021-10-17T09:32:24.673Z"
   },
   {
    "duration": 16,
    "start_time": "2021-10-17T09:32:24.686Z"
   },
   {
    "duration": 15,
    "start_time": "2021-10-17T09:32:24.704Z"
   },
   {
    "duration": 35,
    "start_time": "2021-10-17T09:32:24.746Z"
   },
   {
    "duration": 237,
    "start_time": "2021-10-17T09:32:24.782Z"
   },
   {
    "duration": 7,
    "start_time": "2021-10-17T09:32:25.021Z"
   },
   {
    "duration": 830,
    "start_time": "2021-10-17T09:32:25.029Z"
   },
   {
    "duration": 1453,
    "start_time": "2021-10-17T09:36:04.593Z"
   },
   {
    "duration": 161,
    "start_time": "2021-10-17T09:36:06.048Z"
   },
   {
    "duration": 12,
    "start_time": "2021-10-17T09:36:06.212Z"
   },
   {
    "duration": 5,
    "start_time": "2021-10-17T09:36:06.226Z"
   },
   {
    "duration": 14,
    "start_time": "2021-10-17T09:36:06.245Z"
   },
   {
    "duration": 210,
    "start_time": "2021-10-17T09:36:06.260Z"
   },
   {
    "duration": 37,
    "start_time": "2021-10-17T09:36:06.471Z"
   },
   {
    "duration": 38,
    "start_time": "2021-10-17T09:36:06.510Z"
   },
   {
    "duration": 8,
    "start_time": "2021-10-17T09:36:06.549Z"
   },
   {
    "duration": 6,
    "start_time": "2021-10-17T09:36:06.558Z"
   },
   {
    "duration": 26,
    "start_time": "2021-10-17T09:36:06.566Z"
   },
   {
    "duration": 251,
    "start_time": "2021-10-17T09:36:06.593Z"
   },
   {
    "duration": 398,
    "start_time": "2021-10-17T09:36:06.846Z"
   },
   {
    "duration": 371,
    "start_time": "2021-10-17T09:36:07.246Z"
   },
   {
    "duration": 26,
    "start_time": "2021-10-17T09:36:07.619Z"
   },
   {
    "duration": 4,
    "start_time": "2021-10-17T09:36:07.647Z"
   },
   {
    "duration": 38,
    "start_time": "2021-10-17T09:36:07.653Z"
   },
   {
    "duration": 33,
    "start_time": "2021-10-17T09:36:07.692Z"
   },
   {
    "duration": 43,
    "start_time": "2021-10-17T09:36:07.727Z"
   },
   {
    "duration": 52,
    "start_time": "2021-10-17T09:36:07.772Z"
   },
   {
    "duration": 26,
    "start_time": "2021-10-17T09:36:07.825Z"
   },
   {
    "duration": 14,
    "start_time": "2021-10-17T09:36:07.853Z"
   },
   {
    "duration": 508,
    "start_time": "2021-10-17T09:36:07.870Z"
   },
   {
    "duration": 13,
    "start_time": "2021-10-17T09:36:08.380Z"
   },
   {
    "duration": 55,
    "start_time": "2021-10-17T09:36:08.395Z"
   },
   {
    "duration": 218,
    "start_time": "2021-10-17T09:36:08.452Z"
   },
   {
    "duration": 8,
    "start_time": "2021-10-17T09:36:08.672Z"
   },
   {
    "duration": 13,
    "start_time": "2021-10-17T09:36:08.681Z"
   },
   {
    "duration": 15,
    "start_time": "2021-10-17T09:36:08.696Z"
   },
   {
    "duration": 33,
    "start_time": "2021-10-17T09:36:08.713Z"
   },
   {
    "duration": 35,
    "start_time": "2021-10-17T09:36:08.747Z"
   },
   {
    "duration": 243,
    "start_time": "2021-10-17T09:36:08.783Z"
   },
   {
    "duration": 7,
    "start_time": "2021-10-17T09:36:09.028Z"
   },
   {
    "duration": 862,
    "start_time": "2021-10-17T09:36:09.044Z"
   },
   {
    "duration": 1443,
    "start_time": "2021-10-17T09:45:39.171Z"
   },
   {
    "duration": 142,
    "start_time": "2021-10-17T09:45:40.616Z"
   },
   {
    "duration": 10,
    "start_time": "2021-10-17T09:45:40.760Z"
   },
   {
    "duration": 5,
    "start_time": "2021-10-17T09:45:40.772Z"
   },
   {
    "duration": 17,
    "start_time": "2021-10-17T09:45:40.779Z"
   },
   {
    "duration": 210,
    "start_time": "2021-10-17T09:45:40.798Z"
   },
   {
    "duration": 42,
    "start_time": "2021-10-17T09:45:41.010Z"
   },
   {
    "duration": 22,
    "start_time": "2021-10-17T09:45:41.053Z"
   },
   {
    "duration": 24,
    "start_time": "2021-10-17T09:45:41.077Z"
   },
   {
    "duration": 24,
    "start_time": "2021-10-17T09:45:41.103Z"
   },
   {
    "duration": 49,
    "start_time": "2021-10-17T09:45:41.128Z"
   },
   {
    "duration": 224,
    "start_time": "2021-10-17T09:45:41.179Z"
   },
   {
    "duration": 433,
    "start_time": "2021-10-17T09:45:41.405Z"
   },
   {
    "duration": 367,
    "start_time": "2021-10-17T09:45:41.839Z"
   },
   {
    "duration": 16,
    "start_time": "2021-10-17T09:45:42.207Z"
   },
   {
    "duration": 4,
    "start_time": "2021-10-17T09:45:42.224Z"
   },
   {
    "duration": 47,
    "start_time": "2021-10-17T09:45:42.229Z"
   },
   {
    "duration": 33,
    "start_time": "2021-10-17T09:45:42.277Z"
   },
   {
    "duration": 46,
    "start_time": "2021-10-17T09:45:42.312Z"
   },
   {
    "duration": 52,
    "start_time": "2021-10-17T09:45:42.359Z"
   },
   {
    "duration": 9,
    "start_time": "2021-10-17T09:45:42.412Z"
   },
   {
    "duration": 26,
    "start_time": "2021-10-17T09:45:42.422Z"
   },
   {
    "duration": 488,
    "start_time": "2021-10-17T09:45:42.449Z"
   },
   {
    "duration": 12,
    "start_time": "2021-10-17T09:45:42.939Z"
   },
   {
    "duration": 43,
    "start_time": "2021-10-17T09:45:42.953Z"
   },
   {
    "duration": 205,
    "start_time": "2021-10-17T09:45:42.998Z"
   },
   {
    "duration": 8,
    "start_time": "2021-10-17T09:45:43.206Z"
   },
   {
    "duration": 12,
    "start_time": "2021-10-17T09:45:43.215Z"
   },
   {
    "duration": 26,
    "start_time": "2021-10-17T09:45:43.228Z"
   },
   {
    "duration": 37,
    "start_time": "2021-10-17T09:45:43.256Z"
   },
   {
    "duration": 52,
    "start_time": "2021-10-17T09:45:43.295Z"
   },
   {
    "duration": 215,
    "start_time": "2021-10-17T09:45:43.348Z"
   },
   {
    "duration": 7,
    "start_time": "2021-10-17T09:45:43.564Z"
   },
   {
    "duration": 862,
    "start_time": "2021-10-17T09:45:43.573Z"
   },
   {
    "duration": 1943,
    "start_time": "2021-10-17T13:45:56.218Z"
   },
   {
    "duration": 748,
    "start_time": "2021-10-17T13:45:58.164Z"
   },
   {
    "duration": 19,
    "start_time": "2021-10-17T13:45:58.915Z"
   },
   {
    "duration": 11,
    "start_time": "2021-10-17T13:45:58.937Z"
   },
   {
    "duration": 48,
    "start_time": "2021-10-17T13:45:58.950Z"
   },
   {
    "duration": 306,
    "start_time": "2021-10-17T13:45:59.000Z"
   },
   {
    "duration": 59,
    "start_time": "2021-10-17T13:45:59.309Z"
   },
   {
    "duration": 32,
    "start_time": "2021-10-17T13:45:59.372Z"
   },
   {
    "duration": 28,
    "start_time": "2021-10-17T13:45:59.423Z"
   },
   {
    "duration": 22,
    "start_time": "2021-10-17T13:45:59.453Z"
   },
   {
    "duration": 49,
    "start_time": "2021-10-17T13:45:59.478Z"
   },
   {
    "duration": 395,
    "start_time": "2021-10-17T13:45:59.530Z"
   },
   {
    "duration": 564,
    "start_time": "2021-10-17T13:45:59.927Z"
   },
   {
    "duration": 690,
    "start_time": "2021-10-17T13:46:00.494Z"
   },
   {
    "duration": 36,
    "start_time": "2021-10-17T13:46:01.187Z"
   },
   {
    "duration": 19,
    "start_time": "2021-10-17T13:46:01.226Z"
   },
   {
    "duration": 71,
    "start_time": "2021-10-17T13:46:01.248Z"
   },
   {
    "duration": 75,
    "start_time": "2021-10-17T13:46:01.322Z"
   },
   {
    "duration": 84,
    "start_time": "2021-10-17T13:46:01.399Z"
   },
   {
    "duration": 108,
    "start_time": "2021-10-17T13:46:01.485Z"
   },
   {
    "duration": 29,
    "start_time": "2021-10-17T13:46:01.595Z"
   },
   {
    "duration": 53,
    "start_time": "2021-10-17T13:46:01.627Z"
   },
   {
    "duration": 854,
    "start_time": "2021-10-17T13:46:01.685Z"
   },
   {
    "duration": 18,
    "start_time": "2021-10-17T13:46:02.543Z"
   },
   {
    "duration": 71,
    "start_time": "2021-10-17T13:46:02.564Z"
   },
   {
    "duration": 329,
    "start_time": "2021-10-17T13:46:02.638Z"
   },
   {
    "duration": 13,
    "start_time": "2021-10-17T13:46:02.970Z"
   },
   {
    "duration": 50,
    "start_time": "2021-10-17T13:46:02.985Z"
   },
   {
    "duration": 35,
    "start_time": "2021-10-17T13:46:03.038Z"
   },
   {
    "duration": 36,
    "start_time": "2021-10-17T13:46:03.076Z"
   },
   {
    "duration": 74,
    "start_time": "2021-10-17T13:46:03.115Z"
   },
   {
    "duration": 335,
    "start_time": "2021-10-17T13:46:03.191Z"
   },
   {
    "duration": 12,
    "start_time": "2021-10-17T13:46:03.529Z"
   },
   {
    "duration": 999,
    "start_time": "2021-10-17T13:46:03.543Z"
   },
   {
    "duration": 5,
    "start_time": "2021-10-17T14:20:02.305Z"
   },
   {
    "duration": 213,
    "start_time": "2021-10-17T14:20:02.313Z"
   },
   {
    "duration": 19,
    "start_time": "2021-10-17T14:20:02.529Z"
   },
   {
    "duration": 7,
    "start_time": "2021-10-17T14:20:02.550Z"
   },
   {
    "duration": 20,
    "start_time": "2021-10-17T14:20:02.559Z"
   },
   {
    "duration": 347,
    "start_time": "2021-10-17T14:20:02.582Z"
   },
   {
    "duration": 50,
    "start_time": "2021-10-17T14:20:02.931Z"
   },
   {
    "duration": 53,
    "start_time": "2021-10-17T14:20:02.983Z"
   },
   {
    "duration": 33,
    "start_time": "2021-10-17T14:20:03.040Z"
   },
   {
    "duration": 11,
    "start_time": "2021-10-17T14:20:03.076Z"
   },
   {
    "duration": 59,
    "start_time": "2021-10-17T14:20:03.090Z"
   },
   {
    "duration": 413,
    "start_time": "2021-10-17T14:20:03.151Z"
   },
   {
    "duration": 626,
    "start_time": "2021-10-17T14:20:03.568Z"
   },
   {
    "duration": 2113,
    "start_time": "2021-10-17T14:20:09.300Z"
   },
   {
    "duration": 191,
    "start_time": "2021-10-17T14:20:11.416Z"
   },
   {
    "duration": 26,
    "start_time": "2021-10-17T14:20:11.610Z"
   },
   {
    "duration": 30,
    "start_time": "2021-10-17T14:20:11.638Z"
   },
   {
    "duration": 33,
    "start_time": "2021-10-17T14:20:11.670Z"
   },
   {
    "duration": 305,
    "start_time": "2021-10-17T14:20:11.706Z"
   },
   {
    "duration": 55,
    "start_time": "2021-10-17T14:20:12.013Z"
   },
   {
    "duration": 53,
    "start_time": "2021-10-17T14:20:12.071Z"
   },
   {
    "duration": 16,
    "start_time": "2021-10-17T14:20:12.128Z"
   },
   {
    "duration": 9,
    "start_time": "2021-10-17T14:20:12.148Z"
   },
   {
    "duration": 76,
    "start_time": "2021-10-17T14:20:12.160Z"
   },
   {
    "duration": 383,
    "start_time": "2021-10-17T14:20:12.239Z"
   },
   {
    "duration": 598,
    "start_time": "2021-10-17T14:20:12.624Z"
   },
   {
    "duration": 646,
    "start_time": "2021-10-17T14:20:13.224Z"
   },
   {
    "duration": 21,
    "start_time": "2021-10-17T14:20:13.872Z"
   },
   {
    "duration": 6,
    "start_time": "2021-10-17T14:20:13.895Z"
   },
   {
    "duration": 48,
    "start_time": "2021-10-17T14:20:13.923Z"
   },
   {
    "duration": 70,
    "start_time": "2021-10-17T14:20:13.974Z"
   },
   {
    "duration": 43,
    "start_time": "2021-10-17T14:20:14.046Z"
   },
   {
    "duration": 92,
    "start_time": "2021-10-17T14:20:14.092Z"
   },
   {
    "duration": 14,
    "start_time": "2021-10-17T14:20:14.187Z"
   },
   {
    "duration": 14,
    "start_time": "2021-10-17T14:20:14.223Z"
   },
   {
    "duration": 873,
    "start_time": "2021-10-17T14:20:14.240Z"
   },
   {
    "duration": 19,
    "start_time": "2021-10-17T14:20:15.123Z"
   },
   {
    "duration": 48,
    "start_time": "2021-10-17T14:20:15.145Z"
   },
   {
    "duration": 329,
    "start_time": "2021-10-17T14:20:15.195Z"
   },
   {
    "duration": 13,
    "start_time": "2021-10-17T14:20:15.529Z"
   },
   {
    "duration": 20,
    "start_time": "2021-10-17T14:20:15.544Z"
   },
   {
    "duration": 27,
    "start_time": "2021-10-17T14:20:15.567Z"
   },
   {
    "duration": 33,
    "start_time": "2021-10-17T14:20:15.597Z"
   },
   {
    "duration": 43,
    "start_time": "2021-10-17T14:20:15.633Z"
   },
   {
    "duration": 354,
    "start_time": "2021-10-17T14:20:15.678Z"
   },
   {
    "duration": 12,
    "start_time": "2021-10-17T14:20:16.034Z"
   },
   {
    "duration": 924,
    "start_time": "2021-10-17T14:20:16.048Z"
   },
   {
    "duration": 1874,
    "start_time": "2021-10-17T14:22:49.021Z"
   },
   {
    "duration": 194,
    "start_time": "2021-10-17T14:22:50.898Z"
   },
   {
    "duration": 31,
    "start_time": "2021-10-17T14:22:51.095Z"
   },
   {
    "duration": 7,
    "start_time": "2021-10-17T14:22:51.129Z"
   },
   {
    "duration": 22,
    "start_time": "2021-10-17T14:22:51.138Z"
   },
   {
    "duration": 314,
    "start_time": "2021-10-17T14:22:51.162Z"
   },
   {
    "duration": 57,
    "start_time": "2021-10-17T14:22:51.479Z"
   },
   {
    "duration": 32,
    "start_time": "2021-10-17T14:22:51.538Z"
   },
   {
    "duration": 10,
    "start_time": "2021-10-17T14:22:51.574Z"
   },
   {
    "duration": 37,
    "start_time": "2021-10-17T14:22:51.587Z"
   },
   {
    "duration": 37,
    "start_time": "2021-10-17T14:22:51.627Z"
   },
   {
    "duration": 389,
    "start_time": "2021-10-17T14:22:51.667Z"
   },
   {
    "duration": 609,
    "start_time": "2021-10-17T14:22:52.058Z"
   },
   {
    "duration": 647,
    "start_time": "2021-10-17T14:22:52.670Z"
   },
   {
    "duration": 23,
    "start_time": "2021-10-17T14:22:53.323Z"
   },
   {
    "duration": 5,
    "start_time": "2021-10-17T14:22:53.348Z"
   },
   {
    "duration": 94,
    "start_time": "2021-10-17T14:22:53.356Z"
   },
   {
    "duration": 49,
    "start_time": "2021-10-17T14:22:53.453Z"
   },
   {
    "duration": 56,
    "start_time": "2021-10-17T14:22:53.505Z"
   },
   {
    "duration": 95,
    "start_time": "2021-10-17T14:22:53.563Z"
   },
   {
    "duration": 13,
    "start_time": "2021-10-17T14:22:53.660Z"
   },
   {
    "duration": 12,
    "start_time": "2021-10-17T14:22:53.675Z"
   },
   {
    "duration": 640,
    "start_time": "2021-10-17T14:22:53.690Z"
   },
   {
    "duration": 21,
    "start_time": "2021-10-17T14:22:54.333Z"
   },
   {
    "duration": 78,
    "start_time": "2021-10-17T14:22:54.358Z"
   },
   {
    "duration": 305,
    "start_time": "2021-10-17T14:22:54.438Z"
   },
   {
    "duration": 13,
    "start_time": "2021-10-17T14:22:54.748Z"
   },
   {
    "duration": 18,
    "start_time": "2021-10-17T14:22:54.763Z"
   },
   {
    "duration": 48,
    "start_time": "2021-10-17T14:22:54.784Z"
   },
   {
    "duration": 17,
    "start_time": "2021-10-17T14:22:54.835Z"
   },
   {
    "duration": 41,
    "start_time": "2021-10-17T14:22:54.855Z"
   },
   {
    "duration": 425,
    "start_time": "2021-10-17T14:22:54.923Z"
   },
   {
    "duration": 12,
    "start_time": "2021-10-17T14:22:55.351Z"
   },
   {
    "duration": 30,
    "start_time": "2021-10-17T14:22:55.365Z"
   },
   {
    "duration": 13,
    "start_time": "2021-10-17T14:33:38.689Z"
   },
   {
    "duration": 20,
    "start_time": "2021-10-17T14:33:51.336Z"
   },
   {
    "duration": 1996,
    "start_time": "2021-10-17T14:56:39.431Z"
   },
   {
    "duration": 191,
    "start_time": "2021-10-17T14:56:41.429Z"
   },
   {
    "duration": 18,
    "start_time": "2021-10-17T14:56:41.623Z"
   },
   {
    "duration": 7,
    "start_time": "2021-10-17T14:56:41.644Z"
   },
   {
    "duration": 20,
    "start_time": "2021-10-17T14:56:41.653Z"
   },
   {
    "duration": 321,
    "start_time": "2021-10-17T14:56:41.675Z"
   },
   {
    "duration": 62,
    "start_time": "2021-10-17T14:56:41.998Z"
   },
   {
    "duration": 29,
    "start_time": "2021-10-17T14:56:42.063Z"
   },
   {
    "duration": 31,
    "start_time": "2021-10-17T14:56:42.095Z"
   },
   {
    "duration": 7,
    "start_time": "2021-10-17T14:56:42.128Z"
   },
   {
    "duration": 39,
    "start_time": "2021-10-17T14:56:42.138Z"
   },
   {
    "duration": 404,
    "start_time": "2021-10-17T14:56:42.179Z"
   },
   {
    "duration": 572,
    "start_time": "2021-10-17T14:56:42.585Z"
   },
   {
    "duration": 650,
    "start_time": "2021-10-17T14:56:43.159Z"
   },
   {
    "duration": 29,
    "start_time": "2021-10-17T14:56:43.812Z"
   },
   {
    "duration": 5,
    "start_time": "2021-10-17T14:56:43.843Z"
   },
   {
    "duration": 71,
    "start_time": "2021-10-17T14:56:43.851Z"
   },
   {
    "duration": 45,
    "start_time": "2021-10-17T14:56:43.924Z"
   },
   {
    "duration": 56,
    "start_time": "2021-10-17T14:56:43.971Z"
   },
   {
    "duration": 74,
    "start_time": "2021-10-17T14:56:44.030Z"
   },
   {
    "duration": 13,
    "start_time": "2021-10-17T14:56:44.122Z"
   },
   {
    "duration": 13,
    "start_time": "2021-10-17T14:56:44.138Z"
   },
   {
    "duration": 644,
    "start_time": "2021-10-17T14:56:44.158Z"
   },
   {
    "duration": 27,
    "start_time": "2021-10-17T14:56:44.805Z"
   },
   {
    "duration": 47,
    "start_time": "2021-10-17T14:56:44.834Z"
   },
   {
    "duration": 327,
    "start_time": "2021-10-17T14:56:44.884Z"
   },
   {
    "duration": 17,
    "start_time": "2021-10-17T14:56:45.214Z"
   },
   {
    "duration": 13,
    "start_time": "2021-10-17T14:56:45.233Z"
   },
   {
    "duration": 18,
    "start_time": "2021-10-17T14:56:45.249Z"
   },
   {
    "duration": 55,
    "start_time": "2021-10-17T14:56:45.269Z"
   },
   {
    "duration": 42,
    "start_time": "2021-10-17T14:56:45.327Z"
   },
   {
    "duration": 347,
    "start_time": "2021-10-17T14:56:45.371Z"
   },
   {
    "duration": 10,
    "start_time": "2021-10-17T14:56:45.723Z"
   },
   {
    "duration": 21,
    "start_time": "2021-10-17T14:56:45.736Z"
   },
   {
    "duration": 1933,
    "start_time": "2021-10-17T14:57:24.597Z"
   },
   {
    "duration": 193,
    "start_time": "2021-10-17T14:57:26.534Z"
   },
   {
    "duration": 18,
    "start_time": "2021-10-17T14:57:26.731Z"
   },
   {
    "duration": 7,
    "start_time": "2021-10-17T14:57:26.751Z"
   },
   {
    "duration": 24,
    "start_time": "2021-10-17T14:57:26.760Z"
   },
   {
    "duration": 329,
    "start_time": "2021-10-17T14:57:26.786Z"
   },
   {
    "duration": 47,
    "start_time": "2021-10-17T14:57:27.122Z"
   },
   {
    "duration": 29,
    "start_time": "2021-10-17T14:57:27.172Z"
   },
   {
    "duration": 11,
    "start_time": "2021-10-17T14:57:27.224Z"
   },
   {
    "duration": 11,
    "start_time": "2021-10-17T14:57:27.238Z"
   },
   {
    "duration": 41,
    "start_time": "2021-10-17T14:57:27.251Z"
   },
   {
    "duration": 397,
    "start_time": "2021-10-17T14:57:27.294Z"
   },
   {
    "duration": 578,
    "start_time": "2021-10-17T14:57:27.694Z"
   },
   {
    "duration": 648,
    "start_time": "2021-10-17T14:57:28.274Z"
   },
   {
    "duration": 23,
    "start_time": "2021-10-17T14:57:28.925Z"
   },
   {
    "duration": 6,
    "start_time": "2021-10-17T14:57:28.950Z"
   },
   {
    "duration": 77,
    "start_time": "2021-10-17T14:57:28.959Z"
   },
   {
    "duration": 46,
    "start_time": "2021-10-17T14:57:29.038Z"
   },
   {
    "duration": 60,
    "start_time": "2021-10-17T14:57:29.086Z"
   },
   {
    "duration": 85,
    "start_time": "2021-10-17T14:57:29.148Z"
   },
   {
    "duration": 13,
    "start_time": "2021-10-17T14:57:29.236Z"
   },
   {
    "duration": 12,
    "start_time": "2021-10-17T14:57:29.252Z"
   },
   {
    "duration": 680,
    "start_time": "2021-10-17T14:57:29.266Z"
   },
   {
    "duration": 18,
    "start_time": "2021-10-17T14:57:29.949Z"
   },
   {
    "duration": 77,
    "start_time": "2021-10-17T14:57:29.969Z"
   },
   {
    "duration": 319,
    "start_time": "2021-10-17T14:57:30.049Z"
   },
   {
    "duration": 15,
    "start_time": "2021-10-17T14:57:30.375Z"
   },
   {
    "duration": 34,
    "start_time": "2021-10-17T14:57:30.394Z"
   },
   {
    "duration": 22,
    "start_time": "2021-10-17T14:57:30.431Z"
   },
   {
    "duration": 20,
    "start_time": "2021-10-17T14:57:30.457Z"
   },
   {
    "duration": 83,
    "start_time": "2021-10-17T14:57:30.480Z"
   },
   {
    "duration": 358,
    "start_time": "2021-10-17T14:57:30.566Z"
   },
   {
    "duration": 15,
    "start_time": "2021-10-17T14:57:30.927Z"
   },
   {
    "duration": 34,
    "start_time": "2021-10-17T14:57:30.945Z"
   },
   {
    "duration": 2048,
    "start_time": "2021-10-17T14:58:57.987Z"
   },
   {
    "duration": 202,
    "start_time": "2021-10-17T14:59:00.038Z"
   },
   {
    "duration": 18,
    "start_time": "2021-10-17T14:59:00.244Z"
   },
   {
    "duration": 8,
    "start_time": "2021-10-17T14:59:00.266Z"
   },
   {
    "duration": 63,
    "start_time": "2021-10-17T14:59:00.277Z"
   },
   {
    "duration": 322,
    "start_time": "2021-10-17T14:59:00.343Z"
   },
   {
    "duration": 68,
    "start_time": "2021-10-17T14:59:00.668Z"
   },
   {
    "duration": 32,
    "start_time": "2021-10-17T14:59:00.740Z"
   },
   {
    "duration": 33,
    "start_time": "2021-10-17T14:59:00.775Z"
   },
   {
    "duration": 20,
    "start_time": "2021-10-17T14:59:00.810Z"
   },
   {
    "duration": 75,
    "start_time": "2021-10-17T14:59:00.833Z"
   },
   {
    "duration": 392,
    "start_time": "2021-10-17T14:59:00.911Z"
   },
   {
    "duration": 593,
    "start_time": "2021-10-17T14:59:01.306Z"
   },
   {
    "duration": 766,
    "start_time": "2021-10-17T14:59:01.902Z"
   },
   {
    "duration": 24,
    "start_time": "2021-10-17T14:59:02.672Z"
   },
   {
    "duration": 5,
    "start_time": "2021-10-17T14:59:02.698Z"
   },
   {
    "duration": 55,
    "start_time": "2021-10-17T14:59:02.724Z"
   },
   {
    "duration": 75,
    "start_time": "2021-10-17T14:59:02.781Z"
   },
   {
    "duration": 42,
    "start_time": "2021-10-17T14:59:02.858Z"
   },
   {
    "duration": 97,
    "start_time": "2021-10-17T14:59:02.902Z"
   },
   {
    "duration": 36,
    "start_time": "2021-10-17T14:59:03.001Z"
   },
   {
    "duration": 29,
    "start_time": "2021-10-17T14:59:03.040Z"
   },
   {
    "duration": 673,
    "start_time": "2021-10-17T14:59:03.074Z"
   },
   {
    "duration": 21,
    "start_time": "2021-10-17T14:59:03.751Z"
   },
   {
    "duration": 78,
    "start_time": "2021-10-17T14:59:03.775Z"
   },
   {
    "duration": 329,
    "start_time": "2021-10-17T14:59:03.856Z"
   },
   {
    "duration": 15,
    "start_time": "2021-10-17T14:59:04.188Z"
   },
   {
    "duration": 13,
    "start_time": "2021-10-17T14:59:04.222Z"
   },
   {
    "duration": 48,
    "start_time": "2021-10-17T14:59:04.238Z"
   },
   {
    "duration": 31,
    "start_time": "2021-10-17T14:59:04.288Z"
   },
   {
    "duration": 53,
    "start_time": "2021-10-17T14:59:04.323Z"
   },
   {
    "duration": 348,
    "start_time": "2021-10-17T14:59:04.378Z"
   },
   {
    "duration": 16,
    "start_time": "2021-10-17T14:59:04.728Z"
   },
   {
    "duration": 45,
    "start_time": "2021-10-17T14:59:04.746Z"
   },
   {
    "duration": 1938,
    "start_time": "2021-10-17T15:00:07.107Z"
   },
   {
    "duration": 200,
    "start_time": "2021-10-17T15:00:09.048Z"
   },
   {
    "duration": 17,
    "start_time": "2021-10-17T15:00:09.251Z"
   },
   {
    "duration": 7,
    "start_time": "2021-10-17T15:00:09.270Z"
   },
   {
    "duration": 49,
    "start_time": "2021-10-17T15:00:09.279Z"
   },
   {
    "duration": 313,
    "start_time": "2021-10-17T15:00:09.331Z"
   },
   {
    "duration": 52,
    "start_time": "2021-10-17T15:00:09.646Z"
   },
   {
    "duration": 53,
    "start_time": "2021-10-17T15:00:09.701Z"
   },
   {
    "duration": 12,
    "start_time": "2021-10-17T15:00:09.758Z"
   },
   {
    "duration": 7,
    "start_time": "2021-10-17T15:00:09.774Z"
   },
   {
    "duration": 75,
    "start_time": "2021-10-17T15:00:09.784Z"
   },
   {
    "duration": 408,
    "start_time": "2021-10-17T15:00:09.862Z"
   },
   {
    "duration": 712,
    "start_time": "2021-10-17T15:00:10.273Z"
   },
   {
    "duration": 678,
    "start_time": "2021-10-17T15:00:10.987Z"
   },
   {
    "duration": 22,
    "start_time": "2021-10-17T15:00:11.667Z"
   },
   {
    "duration": 5,
    "start_time": "2021-10-17T15:00:11.691Z"
   },
   {
    "duration": 56,
    "start_time": "2021-10-17T15:00:11.722Z"
   },
   {
    "duration": 74,
    "start_time": "2021-10-17T15:00:11.782Z"
   },
   {
    "duration": 43,
    "start_time": "2021-10-17T15:00:11.859Z"
   },
   {
    "duration": 78,
    "start_time": "2021-10-17T15:00:11.922Z"
   },
   {
    "duration": 28,
    "start_time": "2021-10-17T15:00:12.003Z"
   },
   {
    "duration": 29,
    "start_time": "2021-10-17T15:00:12.034Z"
   },
   {
    "duration": 700,
    "start_time": "2021-10-17T15:00:12.066Z"
   },
   {
    "duration": 21,
    "start_time": "2021-10-17T15:00:12.769Z"
   },
   {
    "duration": 76,
    "start_time": "2021-10-17T15:00:12.793Z"
   },
   {
    "duration": 334,
    "start_time": "2021-10-17T15:00:12.872Z"
   },
   {
    "duration": 23,
    "start_time": "2021-10-17T15:00:13.212Z"
   },
   {
    "duration": 30,
    "start_time": "2021-10-17T15:00:13.239Z"
   },
   {
    "duration": 40,
    "start_time": "2021-10-17T15:00:13.272Z"
   },
   {
    "duration": 35,
    "start_time": "2021-10-17T15:00:13.314Z"
   },
   {
    "duration": 58,
    "start_time": "2021-10-17T15:00:13.351Z"
   },
   {
    "duration": 338,
    "start_time": "2021-10-17T15:00:13.411Z"
   },
   {
    "duration": 11,
    "start_time": "2021-10-17T15:00:13.752Z"
   },
   {
    "duration": 54,
    "start_time": "2021-10-17T15:00:13.766Z"
   },
   {
    "duration": 6106,
    "start_time": "2021-10-18T13:16:44.329Z"
   },
   {
    "duration": 189,
    "start_time": "2021-10-18T13:16:50.438Z"
   },
   {
    "duration": 33,
    "start_time": "2021-10-18T13:16:50.630Z"
   },
   {
    "duration": 7,
    "start_time": "2021-10-18T13:16:50.666Z"
   },
   {
    "duration": 24,
    "start_time": "2021-10-18T13:16:50.675Z"
   },
   {
    "duration": 320,
    "start_time": "2021-10-18T13:16:50.701Z"
   },
   {
    "duration": 63,
    "start_time": "2021-10-18T13:16:51.024Z"
   },
   {
    "duration": 32,
    "start_time": "2021-10-18T13:16:51.089Z"
   },
   {
    "duration": 12,
    "start_time": "2021-10-18T13:16:51.125Z"
   },
   {
    "duration": 8,
    "start_time": "2021-10-18T13:16:51.161Z"
   },
   {
    "duration": 35,
    "start_time": "2021-10-18T13:16:51.172Z"
   },
   {
    "duration": 412,
    "start_time": "2021-10-18T13:16:51.209Z"
   },
   {
    "duration": 627,
    "start_time": "2021-10-18T13:16:51.624Z"
   },
   {
    "duration": 741,
    "start_time": "2021-10-18T13:16:52.254Z"
   },
   {
    "duration": 21,
    "start_time": "2021-10-18T13:16:52.998Z"
   },
   {
    "duration": 6,
    "start_time": "2021-10-18T13:16:53.021Z"
   },
   {
    "duration": 76,
    "start_time": "2021-10-18T13:16:53.030Z"
   },
   {
    "duration": 67,
    "start_time": "2021-10-18T13:16:53.109Z"
   },
   {
    "duration": 42,
    "start_time": "2021-10-18T13:16:53.179Z"
   },
   {
    "duration": 94,
    "start_time": "2021-10-18T13:16:53.224Z"
   },
   {
    "duration": 13,
    "start_time": "2021-10-18T13:16:53.320Z"
   },
   {
    "duration": 31,
    "start_time": "2021-10-18T13:16:53.335Z"
   },
   {
    "duration": 870,
    "start_time": "2021-10-18T13:16:53.368Z"
   },
   {
    "duration": 26,
    "start_time": "2021-10-18T13:16:54.241Z"
   },
   {
    "duration": 49,
    "start_time": "2021-10-18T13:16:54.270Z"
   },
   {
    "duration": 325,
    "start_time": "2021-10-18T13:16:54.322Z"
   },
   {
    "duration": 13,
    "start_time": "2021-10-18T13:16:54.661Z"
   },
   {
    "duration": 28,
    "start_time": "2021-10-18T13:16:54.677Z"
   },
   {
    "duration": 28,
    "start_time": "2021-10-18T13:16:54.708Z"
   },
   {
    "duration": 29,
    "start_time": "2021-10-18T13:16:54.739Z"
   },
   {
    "duration": 48,
    "start_time": "2021-10-18T13:16:54.771Z"
   },
   {
    "duration": 362,
    "start_time": "2021-10-18T13:16:54.822Z"
   },
   {
    "duration": 12,
    "start_time": "2021-10-18T13:16:55.187Z"
   },
   {
    "duration": 23,
    "start_time": "2021-10-18T13:16:55.201Z"
   },
   {
    "duration": 5,
    "start_time": "2021-10-18T13:30:13.762Z"
   },
   {
    "duration": 231,
    "start_time": "2021-10-18T13:30:13.771Z"
   },
   {
    "duration": 18,
    "start_time": "2021-10-18T13:30:14.007Z"
   },
   {
    "duration": 35,
    "start_time": "2021-10-18T13:30:14.028Z"
   },
   {
    "duration": 20,
    "start_time": "2021-10-18T13:30:14.066Z"
   },
   {
    "duration": 314,
    "start_time": "2021-10-18T13:30:14.088Z"
   },
   {
    "duration": 65,
    "start_time": "2021-10-18T13:30:14.405Z"
   },
   {
    "duration": 31,
    "start_time": "2021-10-18T13:30:14.472Z"
   },
   {
    "duration": 14,
    "start_time": "2021-10-18T13:30:14.507Z"
   },
   {
    "duration": 39,
    "start_time": "2021-10-18T13:30:14.524Z"
   },
   {
    "duration": 34,
    "start_time": "2021-10-18T13:30:14.565Z"
   },
   {
    "duration": 611,
    "start_time": "2021-10-18T13:30:14.602Z"
   },
   {
    "duration": 672,
    "start_time": "2021-10-18T13:30:15.215Z"
   },
   {
    "duration": 672,
    "start_time": "2021-10-18T13:30:15.889Z"
   },
   {
    "duration": 21,
    "start_time": "2021-10-18T13:30:16.564Z"
   },
   {
    "duration": 5,
    "start_time": "2021-10-18T13:30:16.588Z"
   },
   {
    "duration": 78,
    "start_time": "2021-10-18T13:30:16.596Z"
   },
   {
    "duration": 38,
    "start_time": "2021-10-18T13:30:16.676Z"
   },
   {
    "duration": 63,
    "start_time": "2021-10-18T13:30:16.717Z"
   },
   {
    "duration": 87,
    "start_time": "2021-10-18T13:30:16.782Z"
   },
   {
    "duration": 12,
    "start_time": "2021-10-18T13:30:16.871Z"
   },
   {
    "duration": 13,
    "start_time": "2021-10-18T13:30:16.886Z"
   },
   {
    "duration": 27,
    "start_time": "2021-10-18T13:30:16.901Z"
   },
   {
    "duration": 15,
    "start_time": "2021-10-18T13:30:16.963Z"
   },
   {
    "duration": 44,
    "start_time": "2021-10-18T13:30:16.980Z"
   },
   {
    "duration": 334,
    "start_time": "2021-10-18T13:30:17.026Z"
   },
   {
    "duration": 13,
    "start_time": "2021-10-18T13:30:17.364Z"
   },
   {
    "duration": 17,
    "start_time": "2021-10-18T13:30:17.379Z"
   },
   {
    "duration": 19,
    "start_time": "2021-10-18T13:30:17.398Z"
   },
   {
    "duration": 45,
    "start_time": "2021-10-18T13:30:17.419Z"
   },
   {
    "duration": 47,
    "start_time": "2021-10-18T13:30:17.466Z"
   },
   {
    "duration": 350,
    "start_time": "2021-10-18T13:30:17.515Z"
   },
   {
    "duration": 12,
    "start_time": "2021-10-18T13:30:17.868Z"
   },
   {
    "duration": 20,
    "start_time": "2021-10-18T13:30:17.882Z"
   },
   {
    "duration": 221,
    "start_time": "2021-10-21T05:59:28.427Z"
   },
   {
    "duration": 1386,
    "start_time": "2021-10-21T05:59:45.104Z"
   },
   {
    "duration": 168,
    "start_time": "2021-10-21T05:59:46.492Z"
   },
   {
    "duration": 13,
    "start_time": "2021-10-21T05:59:46.662Z"
   },
   {
    "duration": 4,
    "start_time": "2021-10-21T05:59:46.677Z"
   },
   {
    "duration": 16,
    "start_time": "2021-10-21T05:59:46.682Z"
   },
   {
    "duration": 200,
    "start_time": "2021-10-21T05:59:46.699Z"
   },
   {
    "duration": 37,
    "start_time": "2021-10-21T05:59:46.900Z"
   },
   {
    "duration": 22,
    "start_time": "2021-10-21T05:59:46.939Z"
   },
   {
    "duration": 29,
    "start_time": "2021-10-21T05:59:46.963Z"
   },
   {
    "duration": 6,
    "start_time": "2021-10-21T05:59:46.993Z"
   },
   {
    "duration": 26,
    "start_time": "2021-10-21T05:59:47.000Z"
   },
   {
    "duration": 19,
    "start_time": "2021-10-21T05:59:47.027Z"
   },
   {
    "duration": 2,
    "start_time": "2021-10-21T05:59:47.047Z"
   },
   {
    "duration": 270,
    "start_time": "2021-10-21T05:59:47.051Z"
   },
   {
    "duration": 397,
    "start_time": "2021-10-21T05:59:47.322Z"
   },
   {
    "duration": 408,
    "start_time": "2021-10-21T05:59:47.721Z"
   },
   {
    "duration": 15,
    "start_time": "2021-10-21T05:59:48.131Z"
   },
   {
    "duration": 4,
    "start_time": "2021-10-21T05:59:48.148Z"
   },
   {
    "duration": 57,
    "start_time": "2021-10-21T05:59:48.153Z"
   },
   {
    "duration": 31,
    "start_time": "2021-10-21T05:59:48.211Z"
   },
   {
    "duration": 28,
    "start_time": "2021-10-21T05:59:48.244Z"
   },
   {
    "duration": 54,
    "start_time": "2021-10-21T05:59:48.292Z"
   },
   {
    "duration": 9,
    "start_time": "2021-10-21T05:59:48.349Z"
   },
   {
    "duration": 32,
    "start_time": "2021-10-21T05:59:48.360Z"
   },
   {
    "duration": 292,
    "start_time": "2021-10-21T05:59:48.394Z"
   },
   {
    "duration": 20,
    "start_time": "2021-10-21T05:59:48.688Z"
   },
   {
    "duration": 34,
    "start_time": "2021-10-21T05:59:48.709Z"
   },
   {
    "duration": 237,
    "start_time": "2021-10-21T05:59:48.745Z"
   },
   {
    "duration": 12,
    "start_time": "2021-10-21T05:59:48.984Z"
   },
   {
    "duration": 9,
    "start_time": "2021-10-21T05:59:48.998Z"
   },
   {
    "duration": 13,
    "start_time": "2021-10-21T05:59:49.009Z"
   },
   {
    "duration": 12,
    "start_time": "2021-10-21T05:59:49.023Z"
   },
   {
    "duration": 58,
    "start_time": "2021-10-21T05:59:49.036Z"
   },
   {
    "duration": 235,
    "start_time": "2021-10-21T05:59:49.096Z"
   },
   {
    "duration": 7,
    "start_time": "2021-10-21T05:59:49.333Z"
   },
   {
    "duration": 16,
    "start_time": "2021-10-21T05:59:49.342Z"
   },
   {
    "duration": 1476,
    "start_time": "2021-10-21T06:00:01.390Z"
   },
   {
    "duration": 147,
    "start_time": "2021-10-21T06:00:02.868Z"
   },
   {
    "duration": 14,
    "start_time": "2021-10-21T06:00:03.017Z"
   },
   {
    "duration": 5,
    "start_time": "2021-10-21T06:00:03.034Z"
   },
   {
    "duration": 16,
    "start_time": "2021-10-21T06:00:03.040Z"
   },
   {
    "duration": 234,
    "start_time": "2021-10-21T06:00:03.058Z"
   },
   {
    "duration": 40,
    "start_time": "2021-10-21T06:00:03.294Z"
   },
   {
    "duration": 23,
    "start_time": "2021-10-21T06:00:03.336Z"
   },
   {
    "duration": 10,
    "start_time": "2021-10-21T06:00:03.361Z"
   },
   {
    "duration": 6,
    "start_time": "2021-10-21T06:00:03.392Z"
   },
   {
    "duration": 28,
    "start_time": "2021-10-21T06:00:03.400Z"
   },
   {
    "duration": 21,
    "start_time": "2021-10-21T06:00:03.429Z"
   },
   {
    "duration": 2,
    "start_time": "2021-10-21T06:00:03.452Z"
   },
   {
    "duration": 283,
    "start_time": "2021-10-21T06:00:03.455Z"
   },
   {
    "duration": 418,
    "start_time": "2021-10-21T06:00:03.740Z"
   },
   {
    "duration": 413,
    "start_time": "2021-10-21T06:00:04.159Z"
   },
   {
    "duration": 23,
    "start_time": "2021-10-21T06:00:04.574Z"
   },
   {
    "duration": 4,
    "start_time": "2021-10-21T06:00:04.599Z"
   },
   {
    "duration": 37,
    "start_time": "2021-10-21T06:00:04.605Z"
   },
   {
    "duration": 50,
    "start_time": "2021-10-21T06:00:04.644Z"
   },
   {
    "duration": 31,
    "start_time": "2021-10-21T06:00:04.696Z"
   },
   {
    "duration": 70,
    "start_time": "2021-10-21T06:00:04.729Z"
   },
   {
    "duration": 9,
    "start_time": "2021-10-21T06:00:04.803Z"
   },
   {
    "duration": 12,
    "start_time": "2021-10-21T06:00:04.815Z"
   },
   {
    "duration": 334,
    "start_time": "2021-10-21T06:00:04.829Z"
   },
   {
    "duration": 15,
    "start_time": "2021-10-21T06:00:05.165Z"
   },
   {
    "duration": 45,
    "start_time": "2021-10-21T06:00:05.182Z"
   },
   {
    "duration": 233,
    "start_time": "2021-10-21T06:00:05.229Z"
   },
   {
    "duration": 9,
    "start_time": "2021-10-21T06:00:05.464Z"
   },
   {
    "duration": 17,
    "start_time": "2021-10-21T06:00:05.475Z"
   },
   {
    "duration": 14,
    "start_time": "2021-10-21T06:00:05.494Z"
   },
   {
    "duration": 12,
    "start_time": "2021-10-21T06:00:05.510Z"
   },
   {
    "duration": 45,
    "start_time": "2021-10-21T06:00:05.525Z"
   },
   {
    "duration": 244,
    "start_time": "2021-10-21T06:00:05.592Z"
   },
   {
    "duration": 7,
    "start_time": "2021-10-21T06:00:05.838Z"
   },
   {
    "duration": 18,
    "start_time": "2021-10-21T06:00:05.847Z"
   },
   {
    "duration": 23,
    "start_time": "2021-10-21T06:01:08.949Z"
   },
   {
    "duration": 23,
    "start_time": "2021-10-21T06:01:27.609Z"
   },
   {
    "duration": 327,
    "start_time": "2021-10-21T06:01:46.550Z"
   },
   {
    "duration": 18,
    "start_time": "2021-10-21T06:02:12.760Z"
   },
   {
    "duration": 187,
    "start_time": "2021-10-21T06:02:25.989Z"
   },
   {
    "duration": 67,
    "start_time": "2021-10-21T06:02:38.361Z"
   },
   {
    "duration": 19,
    "start_time": "2021-10-21T06:02:45.469Z"
   },
   {
    "duration": 19,
    "start_time": "2021-10-21T06:08:03.569Z"
   },
   {
    "duration": 60,
    "start_time": "2021-10-21T06:10:53.477Z"
   },
   {
    "duration": 20,
    "start_time": "2021-10-21T06:16:18.269Z"
   },
   {
    "duration": 201,
    "start_time": "2021-10-21T06:16:50.741Z"
   },
   {
    "duration": 20,
    "start_time": "2021-10-21T06:16:57.289Z"
   },
   {
    "duration": 20,
    "start_time": "2021-10-21T06:17:11.829Z"
   },
   {
    "duration": 234,
    "start_time": "2021-10-21T06:18:45.689Z"
   },
   {
    "duration": 20,
    "start_time": "2021-10-21T06:18:54.069Z"
   },
   {
    "duration": 21,
    "start_time": "2021-10-21T06:19:39.929Z"
   },
   {
    "duration": 20,
    "start_time": "2021-10-21T06:19:47.769Z"
   },
   {
    "duration": 19,
    "start_time": "2021-10-21T06:20:01.909Z"
   },
   {
    "duration": 20,
    "start_time": "2021-10-21T06:25:38.089Z"
   },
   {
    "duration": 182,
    "start_time": "2021-10-21T06:27:36.621Z"
   },
   {
    "duration": 5,
    "start_time": "2021-10-21T06:28:07.009Z"
   },
   {
    "duration": 182,
    "start_time": "2021-10-21T06:28:21.469Z"
   },
   {
    "duration": 3,
    "start_time": "2021-10-21T06:28:30.749Z"
   },
   {
    "duration": 3,
    "start_time": "2021-10-21T06:29:47.349Z"
   },
   {
    "duration": 4,
    "start_time": "2021-10-21T06:30:56.449Z"
   },
   {
    "duration": 4,
    "start_time": "2021-10-21T06:31:21.637Z"
   },
   {
    "duration": 4,
    "start_time": "2021-10-21T06:31:58.169Z"
   },
   {
    "duration": 4,
    "start_time": "2021-10-21T06:34:39.649Z"
   },
   {
    "duration": 189,
    "start_time": "2021-10-21T06:35:50.921Z"
   },
   {
    "duration": 65,
    "start_time": "2021-10-21T06:36:21.062Z"
   },
   {
    "duration": 4,
    "start_time": "2021-10-21T06:36:27.398Z"
   },
   {
    "duration": 4,
    "start_time": "2021-10-21T06:41:19.929Z"
   },
   {
    "duration": 5,
    "start_time": "2021-10-21T06:41:37.468Z"
   },
   {
    "duration": 4,
    "start_time": "2021-10-21T06:41:57.468Z"
   },
   {
    "duration": 4,
    "start_time": "2021-10-21T06:42:58.041Z"
   },
   {
    "duration": 4,
    "start_time": "2021-10-21T06:45:35.800Z"
   },
   {
    "duration": 1367,
    "start_time": "2021-10-21T06:47:14.426Z"
   },
   {
    "duration": 143,
    "start_time": "2021-10-21T06:47:15.795Z"
   },
   {
    "duration": 12,
    "start_time": "2021-10-21T06:47:15.941Z"
   },
   {
    "duration": 5,
    "start_time": "2021-10-21T06:47:15.954Z"
   },
   {
    "duration": 33,
    "start_time": "2021-10-21T06:47:15.960Z"
   },
   {
    "duration": 191,
    "start_time": "2021-10-21T06:47:15.995Z"
   },
   {
    "duration": 38,
    "start_time": "2021-10-21T06:47:16.192Z"
   },
   {
    "duration": 23,
    "start_time": "2021-10-21T06:47:16.232Z"
   },
   {
    "duration": 10,
    "start_time": "2021-10-21T06:47:16.257Z"
   },
   {
    "duration": 28,
    "start_time": "2021-10-21T06:47:16.268Z"
   },
   {
    "duration": 25,
    "start_time": "2021-10-21T06:47:16.298Z"
   },
   {
    "duration": 19,
    "start_time": "2021-10-21T06:47:16.325Z"
   },
   {
    "duration": 276,
    "start_time": "2021-10-21T06:47:16.346Z"
   },
   {
    "duration": 374,
    "start_time": "2021-10-21T06:47:16.623Z"
   },
   {
    "duration": 402,
    "start_time": "2021-10-21T06:47:16.999Z"
   },
   {
    "duration": 18,
    "start_time": "2021-10-21T06:47:17.403Z"
   },
   {
    "duration": 4,
    "start_time": "2021-10-21T06:47:17.423Z"
   },
   {
    "duration": 5,
    "start_time": "2021-10-21T06:47:17.429Z"
   },
   {
    "duration": 62,
    "start_time": "2021-10-21T06:47:17.435Z"
   },
   {
    "duration": 30,
    "start_time": "2021-10-21T06:47:17.499Z"
   },
   {
    "duration": 27,
    "start_time": "2021-10-21T06:47:17.531Z"
   },
   {
    "duration": 78,
    "start_time": "2021-10-21T06:47:17.559Z"
   },
   {
    "duration": 9,
    "start_time": "2021-10-21T06:47:17.641Z"
   },
   {
    "duration": 10,
    "start_time": "2021-10-21T06:47:17.652Z"
   },
   {
    "duration": 331,
    "start_time": "2021-10-21T06:47:17.664Z"
   },
   {
    "duration": 13,
    "start_time": "2021-10-21T06:47:17.997Z"
   },
   {
    "duration": 35,
    "start_time": "2021-10-21T06:47:18.012Z"
   },
   {
    "duration": 231,
    "start_time": "2021-10-21T06:47:18.049Z"
   },
   {
    "duration": 12,
    "start_time": "2021-10-21T06:47:18.282Z"
   },
   {
    "duration": 11,
    "start_time": "2021-10-21T06:47:18.296Z"
   },
   {
    "duration": 13,
    "start_time": "2021-10-21T06:47:18.309Z"
   },
   {
    "duration": 10,
    "start_time": "2021-10-21T06:47:18.324Z"
   },
   {
    "duration": 55,
    "start_time": "2021-10-21T06:47:18.336Z"
   },
   {
    "duration": 235,
    "start_time": "2021-10-21T06:47:18.393Z"
   },
   {
    "duration": 8,
    "start_time": "2021-10-21T06:47:18.630Z"
   },
   {
    "duration": 17,
    "start_time": "2021-10-21T06:47:18.640Z"
   },
   {
    "duration": 1329,
    "start_time": "2021-10-21T06:52:17.674Z"
   },
   {
    "duration": 142,
    "start_time": "2021-10-21T06:52:19.004Z"
   },
   {
    "duration": 13,
    "start_time": "2021-10-21T06:52:19.148Z"
   },
   {
    "duration": 5,
    "start_time": "2021-10-21T06:52:19.163Z"
   },
   {
    "duration": 33,
    "start_time": "2021-10-21T06:52:19.170Z"
   },
   {
    "duration": 194,
    "start_time": "2021-10-21T06:52:19.205Z"
   },
   {
    "duration": 38,
    "start_time": "2021-10-21T06:52:19.401Z"
   },
   {
    "duration": 23,
    "start_time": "2021-10-21T06:52:19.440Z"
   },
   {
    "duration": 28,
    "start_time": "2021-10-21T06:52:19.466Z"
   },
   {
    "duration": 5,
    "start_time": "2021-10-21T06:52:19.497Z"
   },
   {
    "duration": 26,
    "start_time": "2021-10-21T06:52:19.504Z"
   },
   {
    "duration": 17,
    "start_time": "2021-10-21T06:52:19.531Z"
   },
   {
    "duration": 266,
    "start_time": "2021-10-21T06:52:19.549Z"
   },
   {
    "duration": 411,
    "start_time": "2021-10-21T06:52:19.816Z"
   },
   {
    "duration": 388,
    "start_time": "2021-10-21T06:52:20.228Z"
   },
   {
    "duration": 17,
    "start_time": "2021-10-21T06:52:20.617Z"
   },
   {
    "duration": 4,
    "start_time": "2021-10-21T06:52:20.636Z"
   },
   {
    "duration": 6,
    "start_time": "2021-10-21T06:52:20.641Z"
   },
   {
    "duration": 58,
    "start_time": "2021-10-21T06:52:20.649Z"
   },
   {
    "duration": 28,
    "start_time": "2021-10-21T06:52:20.708Z"
   },
   {
    "duration": 25,
    "start_time": "2021-10-21T06:52:20.738Z"
   },
   {
    "duration": 71,
    "start_time": "2021-10-21T06:52:20.765Z"
   },
   {
    "duration": 9,
    "start_time": "2021-10-21T06:52:20.837Z"
   },
   {
    "duration": 7,
    "start_time": "2021-10-21T06:52:20.847Z"
   },
   {
    "duration": 303,
    "start_time": "2021-10-21T06:52:20.856Z"
   },
   {
    "duration": 13,
    "start_time": "2021-10-21T06:52:21.161Z"
   },
   {
    "duration": 41,
    "start_time": "2021-10-21T06:52:21.177Z"
   },
   {
    "duration": 216,
    "start_time": "2021-10-21T06:52:21.220Z"
   },
   {
    "duration": 8,
    "start_time": "2021-10-21T06:52:21.437Z"
   },
   {
    "duration": 20,
    "start_time": "2021-10-21T06:52:21.446Z"
   },
   {
    "duration": 15,
    "start_time": "2021-10-21T06:52:21.467Z"
   },
   {
    "duration": 15,
    "start_time": "2021-10-21T06:52:21.484Z"
   },
   {
    "duration": 33,
    "start_time": "2021-10-21T06:52:21.500Z"
   },
   {
    "duration": 243,
    "start_time": "2021-10-21T06:52:21.535Z"
   },
   {
    "duration": 14,
    "start_time": "2021-10-21T06:52:21.779Z"
   },
   {
    "duration": 18,
    "start_time": "2021-10-21T06:52:21.794Z"
   },
   {
    "duration": 1653,
    "start_time": "2021-11-01T17:46:29.965Z"
   },
   {
    "duration": 158,
    "start_time": "2021-11-01T17:46:31.620Z"
   },
   {
    "duration": 15,
    "start_time": "2021-11-01T17:46:31.780Z"
   },
   {
    "duration": 5,
    "start_time": "2021-11-01T17:46:31.798Z"
   },
   {
    "duration": 15,
    "start_time": "2021-11-01T17:46:31.806Z"
   },
   {
    "duration": 236,
    "start_time": "2021-11-01T17:46:31.823Z"
   },
   {
    "duration": 48,
    "start_time": "2021-11-01T17:46:32.061Z"
   },
   {
    "duration": 25,
    "start_time": "2021-11-01T17:46:32.111Z"
   },
   {
    "duration": 9,
    "start_time": "2021-11-01T17:46:32.140Z"
   },
   {
    "duration": 31,
    "start_time": "2021-11-01T17:46:32.151Z"
   },
   {
    "duration": 30,
    "start_time": "2021-11-01T17:46:32.184Z"
   },
   {
    "duration": 21,
    "start_time": "2021-11-01T17:46:32.216Z"
   },
   {
    "duration": 274,
    "start_time": "2021-11-01T17:46:32.240Z"
   },
   {
    "duration": 414,
    "start_time": "2021-11-01T17:46:32.516Z"
   },
   {
    "duration": 401,
    "start_time": "2021-11-01T17:46:32.932Z"
   },
   {
    "duration": 16,
    "start_time": "2021-11-01T17:46:33.335Z"
   },
   {
    "duration": 4,
    "start_time": "2021-11-01T17:46:33.353Z"
   },
   {
    "duration": 19,
    "start_time": "2021-11-01T17:46:33.358Z"
   },
   {
    "duration": 38,
    "start_time": "2021-11-01T17:46:33.379Z"
   },
   {
    "duration": 59,
    "start_time": "2021-11-01T17:46:33.419Z"
   },
   {
    "duration": 28,
    "start_time": "2021-11-01T17:46:33.480Z"
   },
   {
    "duration": 73,
    "start_time": "2021-11-01T17:46:33.510Z"
   },
   {
    "duration": 8,
    "start_time": "2021-11-01T17:46:33.585Z"
   },
   {
    "duration": 10,
    "start_time": "2021-11-01T17:46:33.595Z"
   },
   {
    "duration": 564,
    "start_time": "2021-11-01T17:46:33.607Z"
   },
   {
    "duration": 14,
    "start_time": "2021-11-01T17:46:34.173Z"
   },
   {
    "duration": 38,
    "start_time": "2021-11-01T17:46:34.190Z"
   },
   {
    "duration": 243,
    "start_time": "2021-11-01T17:46:34.230Z"
   },
   {
    "duration": 9,
    "start_time": "2021-11-01T17:46:34.477Z"
   },
   {
    "duration": 19,
    "start_time": "2021-11-01T17:46:34.488Z"
   },
   {
    "duration": 14,
    "start_time": "2021-11-01T17:46:34.509Z"
   },
   {
    "duration": 11,
    "start_time": "2021-11-01T17:46:34.525Z"
   },
   {
    "duration": 52,
    "start_time": "2021-11-01T17:46:34.538Z"
   },
   {
    "duration": 245,
    "start_time": "2021-11-01T17:46:34.592Z"
   },
   {
    "duration": 8,
    "start_time": "2021-11-01T17:46:34.838Z"
   },
   {
    "duration": 30,
    "start_time": "2021-11-01T17:46:34.848Z"
   },
   {
    "duration": 20,
    "start_time": "2021-11-01T17:47:37.594Z"
   },
   {
    "duration": 20,
    "start_time": "2021-11-01T17:47:43.659Z"
   },
   {
    "duration": 1571,
    "start_time": "2021-11-02T07:09:27.375Z"
   },
   {
    "duration": 708,
    "start_time": "2021-11-02T07:09:28.948Z"
   },
   {
    "duration": 11,
    "start_time": "2021-11-02T07:09:29.658Z"
   },
   {
    "duration": 5,
    "start_time": "2021-11-02T07:09:29.671Z"
   },
   {
    "duration": 16,
    "start_time": "2021-11-02T07:09:29.677Z"
   },
   {
    "duration": 213,
    "start_time": "2021-11-02T07:09:29.695Z"
   },
   {
    "duration": 44,
    "start_time": "2021-11-02T07:09:29.909Z"
   },
   {
    "duration": 24,
    "start_time": "2021-11-02T07:09:29.956Z"
   },
   {
    "duration": 11,
    "start_time": "2021-11-02T07:09:29.982Z"
   },
   {
    "duration": 7,
    "start_time": "2021-11-02T07:09:29.994Z"
   },
   {
    "duration": 51,
    "start_time": "2021-11-02T07:09:30.002Z"
   },
   {
    "duration": 17,
    "start_time": "2021-11-02T07:09:30.055Z"
   },
   {
    "duration": 239,
    "start_time": "2021-11-02T07:09:30.074Z"
   },
   {
    "duration": 433,
    "start_time": "2021-11-02T07:09:30.315Z"
   },
   {
    "duration": 500,
    "start_time": "2021-11-02T07:09:30.750Z"
   },
   {
    "duration": 16,
    "start_time": "2021-11-02T07:09:31.251Z"
   },
   {
    "duration": 4,
    "start_time": "2021-11-02T07:09:31.269Z"
   },
   {
    "duration": 13,
    "start_time": "2021-11-02T07:09:31.274Z"
   },
   {
    "duration": 44,
    "start_time": "2021-11-02T07:09:31.289Z"
   },
   {
    "duration": 32,
    "start_time": "2021-11-02T07:09:31.345Z"
   },
   {
    "duration": 29,
    "start_time": "2021-11-02T07:09:31.378Z"
   },
   {
    "duration": 71,
    "start_time": "2021-11-02T07:09:31.408Z"
   },
   {
    "duration": 9,
    "start_time": "2021-11-02T07:09:31.482Z"
   },
   {
    "duration": 35,
    "start_time": "2021-11-02T07:09:31.493Z"
   },
   {
    "duration": 753,
    "start_time": "2021-11-02T07:09:31.529Z"
   },
   {
    "duration": 14,
    "start_time": "2021-11-02T07:09:32.284Z"
   },
   {
    "duration": 53,
    "start_time": "2021-11-02T07:09:32.300Z"
   },
   {
    "duration": 228,
    "start_time": "2021-11-02T07:09:32.354Z"
   },
   {
    "duration": 8,
    "start_time": "2021-11-02T07:09:32.584Z"
   },
   {
    "duration": 14,
    "start_time": "2021-11-02T07:09:32.593Z"
   },
   {
    "duration": 15,
    "start_time": "2021-11-02T07:09:32.609Z"
   },
   {
    "duration": 28,
    "start_time": "2021-11-02T07:09:32.625Z"
   },
   {
    "duration": 33,
    "start_time": "2021-11-02T07:09:32.655Z"
   },
   {
    "duration": 255,
    "start_time": "2021-11-02T07:09:32.690Z"
   },
   {
    "duration": 8,
    "start_time": "2021-11-02T07:09:32.947Z"
   },
   {
    "duration": 16,
    "start_time": "2021-11-02T07:09:32.956Z"
   },
   {
    "duration": 229,
    "start_time": "2021-11-02T07:48:21.555Z"
   },
   {
    "duration": 223,
    "start_time": "2021-11-02T07:48:34.949Z"
   },
   {
    "duration": 7934,
    "start_time": "2021-11-02T09:24:20.985Z"
   },
   {
    "duration": 1560,
    "start_time": "2021-11-02T09:24:44.092Z"
   },
   {
    "duration": 158,
    "start_time": "2021-11-02T09:24:45.655Z"
   },
   {
    "duration": 11,
    "start_time": "2021-11-02T09:24:45.816Z"
   },
   {
    "duration": 8,
    "start_time": "2021-11-02T09:24:45.829Z"
   },
   {
    "duration": 18,
    "start_time": "2021-11-02T09:24:45.845Z"
   },
   {
    "duration": 222,
    "start_time": "2021-11-02T09:24:45.866Z"
   },
   {
    "duration": 36,
    "start_time": "2021-11-02T09:24:46.090Z"
   },
   {
    "duration": 42,
    "start_time": "2021-11-02T09:24:46.129Z"
   },
   {
    "duration": 16,
    "start_time": "2021-11-02T09:24:46.173Z"
   },
   {
    "duration": 9,
    "start_time": "2021-11-02T09:24:46.191Z"
   },
   {
    "duration": 33,
    "start_time": "2021-11-02T09:24:46.202Z"
   },
   {
    "duration": 24,
    "start_time": "2021-11-02T09:24:46.245Z"
   },
   {
    "duration": 269,
    "start_time": "2021-11-02T09:24:46.271Z"
   },
   {
    "duration": 442,
    "start_time": "2021-11-02T09:24:46.544Z"
   },
   {
    "duration": 439,
    "start_time": "2021-11-02T09:24:46.988Z"
   },
   {
    "duration": 26,
    "start_time": "2021-11-02T09:24:47.429Z"
   },
   {
    "duration": 5,
    "start_time": "2021-11-02T09:24:47.457Z"
   },
   {
    "duration": 8,
    "start_time": "2021-11-02T09:24:47.464Z"
   },
   {
    "duration": 41,
    "start_time": "2021-11-02T09:24:47.474Z"
   },
   {
    "duration": 60,
    "start_time": "2021-11-02T09:24:47.517Z"
   },
   {
    "duration": 28,
    "start_time": "2021-11-02T09:24:47.579Z"
   },
   {
    "duration": 75,
    "start_time": "2021-11-02T09:24:47.608Z"
   },
   {
    "duration": 9,
    "start_time": "2021-11-02T09:24:47.686Z"
   },
   {
    "duration": 14,
    "start_time": "2021-11-02T09:24:47.697Z"
   },
   {
    "duration": 551,
    "start_time": "2021-11-02T09:24:47.712Z"
   },
   {
    "duration": 13,
    "start_time": "2021-11-02T09:24:48.265Z"
   },
   {
    "duration": 37,
    "start_time": "2021-11-02T09:24:48.280Z"
   },
   {
    "duration": 259,
    "start_time": "2021-11-02T09:24:48.319Z"
   },
   {
    "duration": 8,
    "start_time": "2021-11-02T09:24:48.580Z"
   },
   {
    "duration": 25,
    "start_time": "2021-11-02T09:24:48.590Z"
   },
   {
    "duration": 23,
    "start_time": "2021-11-02T09:24:48.617Z"
   },
   {
    "duration": 25,
    "start_time": "2021-11-02T09:24:48.642Z"
   },
   {
    "duration": 39,
    "start_time": "2021-11-02T09:24:48.669Z"
   },
   {
    "duration": 265,
    "start_time": "2021-11-02T09:24:48.709Z"
   },
   {
    "duration": 8,
    "start_time": "2021-11-02T09:24:48.975Z"
   },
   {
    "duration": 30,
    "start_time": "2021-11-02T09:24:48.985Z"
   },
   {
    "duration": 28,
    "start_time": "2021-11-02T09:27:38.428Z"
   },
   {
    "duration": 31,
    "start_time": "2021-11-02T09:30:02.084Z"
   },
   {
    "duration": 1564,
    "start_time": "2021-11-02T09:31:09.639Z"
   },
   {
    "duration": 172,
    "start_time": "2021-11-02T09:31:11.204Z"
   },
   {
    "duration": 14,
    "start_time": "2021-11-02T09:31:11.378Z"
   },
   {
    "duration": 5,
    "start_time": "2021-11-02T09:31:11.395Z"
   },
   {
    "duration": 16,
    "start_time": "2021-11-02T09:31:11.402Z"
   },
   {
    "duration": 257,
    "start_time": "2021-11-02T09:31:11.447Z"
   },
   {
    "duration": 42,
    "start_time": "2021-11-02T09:31:11.706Z"
   },
   {
    "duration": 35,
    "start_time": "2021-11-02T09:31:11.752Z"
   },
   {
    "duration": 22,
    "start_time": "2021-11-02T09:31:11.789Z"
   },
   {
    "duration": 7,
    "start_time": "2021-11-02T09:31:11.812Z"
   },
   {
    "duration": 60,
    "start_time": "2021-11-02T09:31:11.820Z"
   },
   {
    "duration": 18,
    "start_time": "2021-11-02T09:31:11.882Z"
   },
   {
    "duration": 293,
    "start_time": "2021-11-02T09:31:11.902Z"
   },
   {
    "duration": 442,
    "start_time": "2021-11-02T09:31:12.197Z"
   },
   {
    "duration": 465,
    "start_time": "2021-11-02T09:31:12.641Z"
   },
   {
    "duration": 15,
    "start_time": "2021-11-02T09:31:13.108Z"
   },
   {
    "duration": 26,
    "start_time": "2021-11-02T09:31:13.125Z"
   },
   {
    "duration": 8,
    "start_time": "2021-11-02T09:31:13.154Z"
   },
   {
    "duration": 45,
    "start_time": "2021-11-02T09:31:13.164Z"
   },
   {
    "duration": 68,
    "start_time": "2021-11-02T09:31:13.210Z"
   },
   {
    "duration": 31,
    "start_time": "2021-11-02T09:31:13.281Z"
   },
   {
    "duration": 75,
    "start_time": "2021-11-02T09:31:13.314Z"
   },
   {
    "duration": 9,
    "start_time": "2021-11-02T09:31:13.392Z"
   },
   {
    "duration": 14,
    "start_time": "2021-11-02T09:31:13.404Z"
   },
   {
    "duration": 781,
    "start_time": "2021-11-02T09:31:13.420Z"
   },
   {
    "duration": 13,
    "start_time": "2021-11-02T09:31:14.203Z"
   },
   {
    "duration": 70,
    "start_time": "2021-11-02T09:31:14.219Z"
   },
   {
    "duration": 284,
    "start_time": "2021-11-02T09:31:14.292Z"
   },
   {
    "duration": 11,
    "start_time": "2021-11-02T09:31:14.579Z"
   },
   {
    "duration": 13,
    "start_time": "2021-11-02T09:31:14.592Z"
   },
   {
    "duration": 14,
    "start_time": "2021-11-02T09:31:14.607Z"
   },
   {
    "duration": 35,
    "start_time": "2021-11-02T09:31:14.623Z"
   },
   {
    "duration": 38,
    "start_time": "2021-11-02T09:31:14.661Z"
   },
   {
    "duration": 291,
    "start_time": "2021-11-02T09:31:14.701Z"
   },
   {
    "duration": 8,
    "start_time": "2021-11-02T09:31:14.994Z"
   },
   {
    "duration": 69,
    "start_time": "2021-11-02T09:31:15.005Z"
   },
   {
    "duration": 86,
    "start_time": "2021-11-02T09:46:23.364Z"
   },
   {
    "duration": 414,
    "start_time": "2021-11-02T09:46:57.548Z"
   },
   {
    "duration": 1576,
    "start_time": "2021-11-02T09:54:54.547Z"
   },
   {
    "duration": 161,
    "start_time": "2021-11-02T09:54:56.125Z"
   },
   {
    "duration": 11,
    "start_time": "2021-11-02T09:54:56.288Z"
   },
   {
    "duration": 6,
    "start_time": "2021-11-02T09:54:56.302Z"
   },
   {
    "duration": 41,
    "start_time": "2021-11-02T09:54:56.310Z"
   },
   {
    "duration": 230,
    "start_time": "2021-11-02T09:54:56.354Z"
   },
   {
    "duration": 36,
    "start_time": "2021-11-02T09:54:56.586Z"
   },
   {
    "duration": 43,
    "start_time": "2021-11-02T09:54:56.624Z"
   },
   {
    "duration": 15,
    "start_time": "2021-11-02T09:54:56.670Z"
   },
   {
    "duration": 6,
    "start_time": "2021-11-02T09:54:56.687Z"
   },
   {
    "duration": 25,
    "start_time": "2021-11-02T09:54:56.695Z"
   },
   {
    "duration": 46,
    "start_time": "2021-11-02T09:54:56.722Z"
   },
   {
    "duration": 270,
    "start_time": "2021-11-02T09:54:56.770Z"
   },
   {
    "duration": 445,
    "start_time": "2021-11-02T09:54:57.042Z"
   },
   {
    "duration": 424,
    "start_time": "2021-11-02T09:54:57.489Z"
   },
   {
    "duration": 31,
    "start_time": "2021-11-02T09:54:57.915Z"
   },
   {
    "duration": 5,
    "start_time": "2021-11-02T09:54:57.948Z"
   },
   {
    "duration": 12,
    "start_time": "2021-11-02T09:54:57.955Z"
   },
   {
    "duration": 50,
    "start_time": "2021-11-02T09:54:57.970Z"
   },
   {
    "duration": 57,
    "start_time": "2021-11-02T09:54:58.021Z"
   },
   {
    "duration": 28,
    "start_time": "2021-11-02T09:54:58.080Z"
   },
   {
    "duration": 78,
    "start_time": "2021-11-02T09:54:58.109Z"
   },
   {
    "duration": 9,
    "start_time": "2021-11-02T09:54:58.189Z"
   },
   {
    "duration": 25,
    "start_time": "2021-11-02T09:54:58.199Z"
   },
   {
    "duration": 526,
    "start_time": "2021-11-02T09:54:58.226Z"
   },
   {
    "duration": 17,
    "start_time": "2021-11-02T09:54:58.755Z"
   },
   {
    "duration": 37,
    "start_time": "2021-11-02T09:54:58.775Z"
   },
   {
    "duration": 251,
    "start_time": "2021-11-02T09:54:58.813Z"
   },
   {
    "duration": 10,
    "start_time": "2021-11-02T09:54:59.066Z"
   },
   {
    "duration": 23,
    "start_time": "2021-11-02T09:54:59.078Z"
   },
   {
    "duration": 25,
    "start_time": "2021-11-02T09:54:59.104Z"
   },
   {
    "duration": 21,
    "start_time": "2021-11-02T09:54:59.131Z"
   },
   {
    "duration": 43,
    "start_time": "2021-11-02T09:54:59.154Z"
   },
   {
    "duration": 316,
    "start_time": "2021-11-02T09:54:59.199Z"
   },
   {
    "duration": 9,
    "start_time": "2021-11-02T09:54:59.517Z"
   },
   {
    "duration": 62,
    "start_time": "2021-11-02T09:54:59.528Z"
   },
   {
    "duration": 21183,
    "start_time": "2021-11-02T23:10:30.731Z"
   },
   {
    "duration": 174,
    "start_time": "2021-11-02T23:10:51.916Z"
   },
   {
    "duration": 13,
    "start_time": "2021-11-02T23:10:52.092Z"
   },
   {
    "duration": 5,
    "start_time": "2021-11-02T23:10:52.107Z"
   },
   {
    "duration": 18,
    "start_time": "2021-11-02T23:10:52.113Z"
   },
   {
    "duration": 225,
    "start_time": "2021-11-02T23:10:52.132Z"
   },
   {
    "duration": 42,
    "start_time": "2021-11-02T23:10:52.358Z"
   },
   {
    "duration": 24,
    "start_time": "2021-11-02T23:10:52.402Z"
   },
   {
    "duration": 11,
    "start_time": "2021-11-02T23:10:52.428Z"
   },
   {
    "duration": 27,
    "start_time": "2021-11-02T23:10:52.440Z"
   },
   {
    "duration": 26,
    "start_time": "2021-11-02T23:10:52.469Z"
   },
   {
    "duration": 20,
    "start_time": "2021-11-02T23:10:52.497Z"
   },
   {
    "duration": 265,
    "start_time": "2021-11-02T23:10:52.518Z"
   },
   {
    "duration": 381,
    "start_time": "2021-11-02T23:10:52.785Z"
   },
   {
    "duration": 385,
    "start_time": "2021-11-02T23:10:53.167Z"
   },
   {
    "duration": 22,
    "start_time": "2021-11-02T23:10:53.554Z"
   },
   {
    "duration": 4,
    "start_time": "2021-11-02T23:10:53.578Z"
   },
   {
    "duration": 7,
    "start_time": "2021-11-02T23:10:53.583Z"
   },
   {
    "duration": 39,
    "start_time": "2021-11-02T23:10:53.592Z"
   },
   {
    "duration": 64,
    "start_time": "2021-11-02T23:10:53.632Z"
   },
   {
    "duration": 29,
    "start_time": "2021-11-02T23:10:53.698Z"
   },
   {
    "duration": 72,
    "start_time": "2021-11-02T23:10:53.729Z"
   },
   {
    "duration": 10,
    "start_time": "2021-11-02T23:10:53.804Z"
   },
   {
    "duration": 16,
    "start_time": "2021-11-02T23:10:53.815Z"
   },
   {
    "duration": 64535,
    "start_time": "2021-11-02T23:10:53.832Z"
   },
   {
    "duration": 16,
    "start_time": "2021-11-02T23:11:58.369Z"
   },
   {
    "duration": 40,
    "start_time": "2021-11-02T23:11:58.388Z"
   },
   {
    "duration": 255,
    "start_time": "2021-11-02T23:11:58.431Z"
   },
   {
    "duration": 10,
    "start_time": "2021-11-02T23:11:58.688Z"
   },
   {
    "duration": 13,
    "start_time": "2021-11-02T23:11:58.700Z"
   },
   {
    "duration": 14,
    "start_time": "2021-11-02T23:11:58.715Z"
   },
   {
    "duration": 43,
    "start_time": "2021-11-02T23:11:58.732Z"
   },
   {
    "duration": 37,
    "start_time": "2021-11-02T23:11:58.777Z"
   },
   {
    "duration": 264,
    "start_time": "2021-11-02T23:11:58.817Z"
   },
   {
    "duration": 9,
    "start_time": "2021-11-02T23:11:59.083Z"
   },
   {
    "duration": 37,
    "start_time": "2021-11-02T23:11:59.094Z"
   },
   {
    "duration": 2077,
    "start_time": "2021-11-03T10:46:27.406Z"
   },
   {
    "duration": 202,
    "start_time": "2021-11-03T10:46:29.486Z"
   },
   {
    "duration": 22,
    "start_time": "2021-11-03T10:46:29.691Z"
   },
   {
    "duration": 6,
    "start_time": "2021-11-03T10:46:29.716Z"
   },
   {
    "duration": 20,
    "start_time": "2021-11-03T10:46:29.724Z"
   },
   {
    "duration": 339,
    "start_time": "2021-11-03T10:46:29.747Z"
   },
   {
    "duration": 62,
    "start_time": "2021-11-03T10:46:30.088Z"
   },
   {
    "duration": 33,
    "start_time": "2021-11-03T10:46:30.153Z"
   },
   {
    "duration": 12,
    "start_time": "2021-11-03T10:46:30.202Z"
   },
   {
    "duration": 9,
    "start_time": "2021-11-03T10:46:30.216Z"
   },
   {
    "duration": 40,
    "start_time": "2021-11-03T10:46:30.227Z"
   },
   {
    "duration": 26,
    "start_time": "2021-11-03T10:46:30.300Z"
   },
   {
    "duration": 417,
    "start_time": "2021-11-03T10:46:30.329Z"
   },
   {
    "duration": 608,
    "start_time": "2021-11-03T10:46:30.748Z"
   },
   {
    "duration": 772,
    "start_time": "2021-11-03T10:46:31.359Z"
   },
   {
    "duration": 22,
    "start_time": "2021-11-03T10:46:32.133Z"
   },
   {
    "duration": 5,
    "start_time": "2021-11-03T10:46:32.158Z"
   },
   {
    "duration": 35,
    "start_time": "2021-11-03T10:46:32.166Z"
   },
   {
    "duration": 52,
    "start_time": "2021-11-03T10:46:32.204Z"
   },
   {
    "duration": 62,
    "start_time": "2021-11-03T10:46:32.258Z"
   },
   {
    "duration": 44,
    "start_time": "2021-11-03T10:46:32.323Z"
   },
   {
    "duration": 94,
    "start_time": "2021-11-03T10:46:32.370Z"
   },
   {
    "duration": 14,
    "start_time": "2021-11-03T10:46:32.468Z"
   },
   {
    "duration": 13,
    "start_time": "2021-11-03T10:46:32.501Z"
   },
   {
    "duration": 764,
    "start_time": "2021-11-03T10:46:32.517Z"
   },
   {
    "duration": 27,
    "start_time": "2021-11-03T10:46:33.283Z"
   },
   {
    "duration": 50,
    "start_time": "2021-11-03T10:46:33.313Z"
   },
   {
    "duration": 346,
    "start_time": "2021-11-03T10:46:33.365Z"
   },
   {
    "duration": 18,
    "start_time": "2021-11-03T10:46:33.714Z"
   },
   {
    "duration": 22,
    "start_time": "2021-11-03T10:46:33.736Z"
   },
   {
    "duration": 57,
    "start_time": "2021-11-03T10:46:33.761Z"
   },
   {
    "duration": 19,
    "start_time": "2021-11-03T10:46:33.821Z"
   },
   {
    "duration": 72,
    "start_time": "2021-11-03T10:46:33.843Z"
   },
   {
    "duration": 346,
    "start_time": "2021-11-03T10:46:33.917Z"
   },
   {
    "duration": 11,
    "start_time": "2021-11-03T10:46:34.265Z"
   },
   {
    "duration": 62,
    "start_time": "2021-11-03T10:46:34.279Z"
   },
   {
    "duration": 2078,
    "start_time": "2021-11-03T23:14:46.357Z"
   },
   {
    "duration": 222,
    "start_time": "2021-11-03T23:14:48.438Z"
   },
   {
    "duration": 21,
    "start_time": "2021-11-03T23:14:48.663Z"
   },
   {
    "duration": 7,
    "start_time": "2021-11-03T23:14:48.687Z"
   },
   {
    "duration": 20,
    "start_time": "2021-11-03T23:14:48.696Z"
   },
   {
    "duration": 357,
    "start_time": "2021-11-03T23:14:48.719Z"
   },
   {
    "duration": 49,
    "start_time": "2021-11-03T23:14:49.078Z"
   },
   {
    "duration": 52,
    "start_time": "2021-11-03T23:14:49.130Z"
   },
   {
    "duration": 11,
    "start_time": "2021-11-03T23:14:49.185Z"
   },
   {
    "duration": 8,
    "start_time": "2021-11-03T23:14:49.198Z"
   },
   {
    "duration": 74,
    "start_time": "2021-11-03T23:14:49.208Z"
   },
   {
    "duration": 24,
    "start_time": "2021-11-03T23:14:49.284Z"
   },
   {
    "duration": 405,
    "start_time": "2021-11-03T23:14:49.310Z"
   },
   {
    "duration": 627,
    "start_time": "2021-11-03T23:14:49.718Z"
   },
   {
    "duration": 658,
    "start_time": "2021-11-03T23:14:50.347Z"
   },
   {
    "duration": 21,
    "start_time": "2021-11-03T23:14:51.007Z"
   },
   {
    "duration": 5,
    "start_time": "2021-11-03T23:14:51.031Z"
   },
   {
    "duration": 54,
    "start_time": "2021-11-03T23:14:51.038Z"
   },
   {
    "duration": 64,
    "start_time": "2021-11-03T23:14:51.094Z"
   },
   {
    "duration": 50,
    "start_time": "2021-11-03T23:14:51.161Z"
   },
   {
    "duration": 56,
    "start_time": "2021-11-03T23:14:51.213Z"
   },
   {
    "duration": 80,
    "start_time": "2021-11-03T23:14:51.271Z"
   },
   {
    "duration": 14,
    "start_time": "2021-11-03T23:14:51.368Z"
   },
   {
    "duration": 18,
    "start_time": "2021-11-03T23:14:51.385Z"
   },
   {
    "duration": 671,
    "start_time": "2021-11-03T23:14:51.405Z"
   },
   {
    "duration": 19,
    "start_time": "2021-11-03T23:14:52.079Z"
   },
   {
    "duration": 71,
    "start_time": "2021-11-03T23:14:52.101Z"
   },
   {
    "duration": 329,
    "start_time": "2021-11-03T23:14:52.175Z"
   },
   {
    "duration": 13,
    "start_time": "2021-11-03T23:14:52.506Z"
   },
   {
    "duration": 18,
    "start_time": "2021-11-03T23:14:52.521Z"
   },
   {
    "duration": 43,
    "start_time": "2021-11-03T23:14:52.542Z"
   },
   {
    "duration": 18,
    "start_time": "2021-11-03T23:14:52.587Z"
   },
   {
    "duration": 79,
    "start_time": "2021-11-03T23:14:52.608Z"
   },
   {
    "duration": 352,
    "start_time": "2021-11-03T23:14:52.690Z"
   },
   {
    "duration": 11,
    "start_time": "2021-11-03T23:14:53.044Z"
   },
   {
    "duration": 50,
    "start_time": "2021-11-03T23:14:53.066Z"
   },
   {
    "duration": 1631,
    "start_time": "2021-11-04T06:37:36.565Z"
   },
   {
    "duration": 152,
    "start_time": "2021-11-04T06:37:38.199Z"
   },
   {
    "duration": 14,
    "start_time": "2021-11-04T06:37:38.353Z"
   },
   {
    "duration": 5,
    "start_time": "2021-11-04T06:37:38.369Z"
   },
   {
    "duration": 36,
    "start_time": "2021-11-04T06:37:38.377Z"
   },
   {
    "duration": 220,
    "start_time": "2021-11-04T06:37:38.415Z"
   },
   {
    "duration": 39,
    "start_time": "2021-11-04T06:37:38.638Z"
   },
   {
    "duration": 43,
    "start_time": "2021-11-04T06:37:38.681Z"
   },
   {
    "duration": 14,
    "start_time": "2021-11-04T06:37:38.727Z"
   },
   {
    "duration": 7,
    "start_time": "2021-11-04T06:37:38.743Z"
   },
   {
    "duration": 56,
    "start_time": "2021-11-04T06:37:38.752Z"
   },
   {
    "duration": 21,
    "start_time": "2021-11-04T06:37:38.810Z"
   },
   {
    "duration": 266,
    "start_time": "2021-11-04T06:37:38.833Z"
   },
   {
    "duration": 549,
    "start_time": "2021-11-04T06:37:39.101Z"
   },
   {
    "duration": 428,
    "start_time": "2021-11-04T06:37:39.653Z"
   },
   {
    "duration": 31,
    "start_time": "2021-11-04T06:37:40.083Z"
   },
   {
    "duration": 5,
    "start_time": "2021-11-04T06:37:40.116Z"
   },
   {
    "duration": 8,
    "start_time": "2021-11-04T06:37:40.123Z"
   },
   {
    "duration": 40,
    "start_time": "2021-11-04T06:37:40.133Z"
   },
   {
    "duration": 65,
    "start_time": "2021-11-04T06:37:40.176Z"
   },
   {
    "duration": 31,
    "start_time": "2021-11-04T06:37:40.243Z"
   },
   {
    "duration": 83,
    "start_time": "2021-11-04T06:37:40.276Z"
   },
   {
    "duration": 10,
    "start_time": "2021-11-04T06:37:40.364Z"
   },
   {
    "duration": 12,
    "start_time": "2021-11-04T06:37:40.376Z"
   },
   {
    "duration": 791,
    "start_time": "2021-11-04T06:37:40.407Z"
   },
   {
    "duration": 15,
    "start_time": "2021-11-04T06:37:41.200Z"
   },
   {
    "duration": 40,
    "start_time": "2021-11-04T06:37:41.217Z"
   },
   {
    "duration": 237,
    "start_time": "2021-11-04T06:37:41.259Z"
   },
   {
    "duration": 15,
    "start_time": "2021-11-04T06:37:41.498Z"
   },
   {
    "duration": 13,
    "start_time": "2021-11-04T06:37:41.515Z"
   },
   {
    "duration": 17,
    "start_time": "2021-11-04T06:37:41.530Z"
   },
   {
    "duration": 12,
    "start_time": "2021-11-04T06:37:41.549Z"
   },
   {
    "duration": 56,
    "start_time": "2021-11-04T06:37:41.562Z"
   },
   {
    "duration": 252,
    "start_time": "2021-11-04T06:37:41.620Z"
   },
   {
    "duration": 8,
    "start_time": "2021-11-04T06:37:41.874Z"
   },
   {
    "duration": 43,
    "start_time": "2021-11-04T06:37:41.883Z"
   },
   {
    "duration": 1574,
    "start_time": "2021-11-04T06:39:01.933Z"
   },
   {
    "duration": 147,
    "start_time": "2021-11-04T06:39:03.510Z"
   },
   {
    "duration": 11,
    "start_time": "2021-11-04T06:39:03.660Z"
   },
   {
    "duration": 8,
    "start_time": "2021-11-04T06:39:03.673Z"
   },
   {
    "duration": 27,
    "start_time": "2021-11-04T06:39:03.682Z"
   },
   {
    "duration": 208,
    "start_time": "2021-11-04T06:39:03.711Z"
   },
   {
    "duration": 39,
    "start_time": "2021-11-04T06:39:03.921Z"
   },
   {
    "duration": 24,
    "start_time": "2021-11-04T06:39:03.963Z"
   },
   {
    "duration": 8,
    "start_time": "2021-11-04T06:39:04.006Z"
   },
   {
    "duration": 7,
    "start_time": "2021-11-04T06:39:04.016Z"
   },
   {
    "duration": 27,
    "start_time": "2021-11-04T06:39:04.024Z"
   },
   {
    "duration": 18,
    "start_time": "2021-11-04T06:39:04.053Z"
   },
   {
    "duration": 286,
    "start_time": "2021-11-04T06:39:04.073Z"
   },
   {
    "duration": 445,
    "start_time": "2021-11-04T06:39:04.361Z"
   },
   {
    "duration": 422,
    "start_time": "2021-11-04T06:39:04.808Z"
   },
   {
    "duration": 19,
    "start_time": "2021-11-04T06:39:05.233Z"
   },
   {
    "duration": 4,
    "start_time": "2021-11-04T06:39:05.253Z"
   },
   {
    "duration": 17,
    "start_time": "2021-11-04T06:39:05.259Z"
   },
   {
    "duration": 56,
    "start_time": "2021-11-04T06:39:05.277Z"
   },
   {
    "duration": 37,
    "start_time": "2021-11-04T06:39:05.336Z"
   },
   {
    "duration": 49,
    "start_time": "2021-11-04T06:39:05.376Z"
   },
   {
    "duration": 62,
    "start_time": "2021-11-04T06:39:05.427Z"
   },
   {
    "duration": 22,
    "start_time": "2021-11-04T06:39:05.493Z"
   },
   {
    "duration": 11,
    "start_time": "2021-11-04T06:39:05.518Z"
   },
   {
    "duration": 998,
    "start_time": "2021-11-04T06:39:05.531Z"
   },
   {
    "duration": 16,
    "start_time": "2021-11-04T06:39:06.531Z"
   },
   {
    "duration": 58,
    "start_time": "2021-11-04T06:39:06.549Z"
   },
   {
    "duration": 246,
    "start_time": "2021-11-04T06:39:06.609Z"
   },
   {
    "duration": 9,
    "start_time": "2021-11-04T06:39:06.857Z"
   },
   {
    "duration": 14,
    "start_time": "2021-11-04T06:39:06.868Z"
   },
   {
    "duration": 30,
    "start_time": "2021-11-04T06:39:06.884Z"
   },
   {
    "duration": 11,
    "start_time": "2021-11-04T06:39:06.916Z"
   },
   {
    "duration": 36,
    "start_time": "2021-11-04T06:39:06.929Z"
   },
   {
    "duration": 259,
    "start_time": "2021-11-04T06:39:06.967Z"
   },
   {
    "duration": 8,
    "start_time": "2021-11-04T06:39:07.228Z"
   },
   {
    "duration": 36,
    "start_time": "2021-11-04T06:39:07.237Z"
   },
   {
    "duration": 1531,
    "start_time": "2021-11-04T06:53:44.559Z"
   },
   {
    "duration": 207,
    "start_time": "2021-11-04T06:53:46.092Z"
   },
   {
    "duration": 14,
    "start_time": "2021-11-04T06:53:46.306Z"
   },
   {
    "duration": 5,
    "start_time": "2021-11-04T06:53:46.322Z"
   },
   {
    "duration": 16,
    "start_time": "2021-11-04T06:53:46.329Z"
   },
   {
    "duration": 227,
    "start_time": "2021-11-04T06:53:46.347Z"
   },
   {
    "duration": 47,
    "start_time": "2021-11-04T06:53:46.576Z"
   },
   {
    "duration": 25,
    "start_time": "2021-11-04T06:53:46.626Z"
   },
   {
    "duration": 10,
    "start_time": "2021-11-04T06:53:46.653Z"
   },
   {
    "duration": 7,
    "start_time": "2021-11-04T06:53:46.665Z"
   },
   {
    "duration": 53,
    "start_time": "2021-11-04T06:53:46.673Z"
   },
   {
    "duration": 19,
    "start_time": "2021-11-04T06:53:46.728Z"
   },
   {
    "duration": 260,
    "start_time": "2021-11-04T06:53:46.749Z"
   },
   {
    "duration": 430,
    "start_time": "2021-11-04T06:53:47.011Z"
   },
   {
    "duration": 407,
    "start_time": "2021-11-04T06:53:47.443Z"
   },
   {
    "duration": 15,
    "start_time": "2021-11-04T06:53:47.852Z"
   },
   {
    "duration": 4,
    "start_time": "2021-11-04T06:53:47.869Z"
   },
   {
    "duration": 11,
    "start_time": "2021-11-04T06:53:47.875Z"
   },
   {
    "duration": 57,
    "start_time": "2021-11-04T06:53:47.887Z"
   },
   {
    "duration": 35,
    "start_time": "2021-11-04T06:53:47.946Z"
   },
   {
    "duration": 48,
    "start_time": "2021-11-04T06:53:47.983Z"
   },
   {
    "duration": 58,
    "start_time": "2021-11-04T06:53:48.033Z"
   },
   {
    "duration": 10,
    "start_time": "2021-11-04T06:53:48.107Z"
   },
   {
    "duration": 19,
    "start_time": "2021-11-04T06:53:48.119Z"
   },
   {
    "duration": 575,
    "start_time": "2021-11-04T06:53:48.140Z"
   },
   {
    "duration": 14,
    "start_time": "2021-11-04T06:53:48.717Z"
   },
   {
    "duration": 39,
    "start_time": "2021-11-04T06:53:48.733Z"
   },
   {
    "duration": 249,
    "start_time": "2021-11-04T06:53:48.773Z"
   },
   {
    "duration": 9,
    "start_time": "2021-11-04T06:53:49.023Z"
   },
   {
    "duration": 23,
    "start_time": "2021-11-04T06:53:49.034Z"
   },
   {
    "duration": 16,
    "start_time": "2021-11-04T06:53:49.059Z"
   },
   {
    "duration": 12,
    "start_time": "2021-11-04T06:53:49.076Z"
   },
   {
    "duration": 49,
    "start_time": "2021-11-04T06:53:49.090Z"
   },
   {
    "duration": 266,
    "start_time": "2021-11-04T06:53:49.141Z"
   },
   {
    "duration": 8,
    "start_time": "2021-11-04T06:53:49.409Z"
   },
   {
    "duration": 35,
    "start_time": "2021-11-04T06:53:49.418Z"
   },
   {
    "duration": 1887,
    "start_time": "2022-01-31T08:05:19.107Z"
   },
   {
    "duration": 2908,
    "start_time": "2022-01-31T08:05:20.997Z"
   },
   {
    "duration": 16,
    "start_time": "2022-01-31T08:05:23.908Z"
   },
   {
    "duration": 7,
    "start_time": "2022-01-31T08:05:23.927Z"
   },
   {
    "duration": 17,
    "start_time": "2022-01-31T08:05:23.960Z"
   },
   {
    "duration": 315,
    "start_time": "2022-01-31T08:05:23.980Z"
   },
   {
    "duration": 46,
    "start_time": "2022-01-31T08:05:24.297Z"
   },
   {
    "duration": 30,
    "start_time": "2022-01-31T08:05:24.361Z"
   },
   {
    "duration": 11,
    "start_time": "2022-01-31T08:05:24.394Z"
   },
   {
    "duration": 8,
    "start_time": "2022-01-31T08:05:24.407Z"
   },
   {
    "duration": 76,
    "start_time": "2022-01-31T08:05:24.417Z"
   },
   {
    "duration": 22,
    "start_time": "2022-01-31T08:05:24.496Z"
   },
   {
    "duration": 421,
    "start_time": "2022-01-31T08:05:24.520Z"
   },
   {
    "duration": 578,
    "start_time": "2022-01-31T08:05:24.944Z"
   },
   {
    "duration": 668,
    "start_time": "2022-01-31T08:05:25.524Z"
   },
   {
    "duration": 26,
    "start_time": "2022-01-31T08:05:26.196Z"
   },
   {
    "duration": 35,
    "start_time": "2022-01-31T08:05:26.225Z"
   },
   {
    "duration": 11,
    "start_time": "2022-01-31T08:05:26.264Z"
   },
   {
    "duration": 83,
    "start_time": "2022-01-31T08:05:26.278Z"
   },
   {
    "duration": 47,
    "start_time": "2022-01-31T08:05:26.364Z"
   },
   {
    "duration": 71,
    "start_time": "2022-01-31T08:05:26.413Z"
   },
   {
    "duration": 90,
    "start_time": "2022-01-31T08:05:26.486Z"
   },
   {
    "duration": 15,
    "start_time": "2022-01-31T08:05:26.581Z"
   },
   {
    "duration": 14,
    "start_time": "2022-01-31T08:05:26.598Z"
   },
   {
    "duration": 776,
    "start_time": "2022-01-31T08:05:26.615Z"
   },
   {
    "duration": 21,
    "start_time": "2022-01-31T08:05:27.395Z"
   },
   {
    "duration": 76,
    "start_time": "2022-01-31T08:05:27.418Z"
   },
   {
    "duration": 317,
    "start_time": "2022-01-31T08:05:27.497Z"
   },
   {
    "duration": 13,
    "start_time": "2022-01-31T08:05:27.816Z"
   },
   {
    "duration": 34,
    "start_time": "2022-01-31T08:05:27.831Z"
   },
   {
    "duration": 25,
    "start_time": "2022-01-31T08:05:27.868Z"
   },
   {
    "duration": 70,
    "start_time": "2022-01-31T08:05:27.895Z"
   },
   {
    "duration": 44,
    "start_time": "2022-01-31T08:05:27.968Z"
   },
   {
    "duration": 353,
    "start_time": "2022-01-31T08:05:28.015Z"
   },
   {
    "duration": 11,
    "start_time": "2022-01-31T08:05:28.371Z"
   },
   {
    "duration": 86,
    "start_time": "2022-01-31T08:05:28.384Z"
   },
   {
    "duration": 318,
    "start_time": "2022-02-01T19:19:40.960Z"
   },
   {
    "duration": 1691,
    "start_time": "2022-02-01T19:26:47.139Z"
   },
   {
    "duration": 747,
    "start_time": "2022-02-01T19:26:48.833Z"
   },
   {
    "duration": 14,
    "start_time": "2022-02-01T19:26:49.583Z"
   },
   {
    "duration": 21,
    "start_time": "2022-02-01T19:26:49.600Z"
   },
   {
    "duration": 18,
    "start_time": "2022-02-01T19:26:49.623Z"
   },
   {
    "duration": 360,
    "start_time": "2022-02-01T19:26:49.643Z"
   },
   {
    "duration": 50,
    "start_time": "2022-02-01T19:26:50.005Z"
   },
   {
    "duration": 26,
    "start_time": "2022-02-01T19:26:50.059Z"
   },
   {
    "duration": 16,
    "start_time": "2022-02-01T19:26:50.088Z"
   },
   {
    "duration": 7,
    "start_time": "2022-02-01T19:26:50.119Z"
   },
   {
    "duration": 48,
    "start_time": "2022-02-01T19:26:50.128Z"
   },
   {
    "duration": 42,
    "start_time": "2022-02-01T19:26:50.178Z"
   },
   {
    "duration": 367,
    "start_time": "2022-02-01T19:26:50.222Z"
   },
   {
    "duration": 438,
    "start_time": "2022-02-01T19:26:50.591Z"
   },
   {
    "duration": 417,
    "start_time": "2022-02-01T19:26:51.031Z"
   },
   {
    "duration": 17,
    "start_time": "2022-02-01T19:26:51.451Z"
   },
   {
    "duration": 4,
    "start_time": "2022-02-01T19:26:51.470Z"
   },
   {
    "duration": 10,
    "start_time": "2022-02-01T19:26:51.476Z"
   },
   {
    "duration": 60,
    "start_time": "2022-02-01T19:26:51.487Z"
   },
   {
    "duration": 54,
    "start_time": "2022-02-01T19:26:51.549Z"
   },
   {
    "duration": 28,
    "start_time": "2022-02-01T19:26:51.619Z"
   },
   {
    "duration": 71,
    "start_time": "2022-02-01T19:26:51.649Z"
   },
   {
    "duration": 9,
    "start_time": "2022-02-01T19:26:51.724Z"
   },
   {
    "duration": 20,
    "start_time": "2022-02-01T19:26:51.736Z"
   },
   {
    "duration": 516,
    "start_time": "2022-02-01T19:26:51.758Z"
   },
   {
    "duration": 14,
    "start_time": "2022-02-01T19:26:52.277Z"
   },
   {
    "duration": 58,
    "start_time": "2022-02-01T19:26:52.293Z"
   },
   {
    "duration": 224,
    "start_time": "2022-02-01T19:26:52.353Z"
   },
   {
    "duration": 9,
    "start_time": "2022-02-01T19:26:52.578Z"
   },
   {
    "duration": 12,
    "start_time": "2022-02-01T19:26:52.588Z"
   },
   {
    "duration": 24,
    "start_time": "2022-02-01T19:26:52.602Z"
   },
   {
    "duration": 16,
    "start_time": "2022-02-01T19:26:52.628Z"
   },
   {
    "duration": 50,
    "start_time": "2022-02-01T19:26:52.646Z"
   },
   {
    "duration": 405,
    "start_time": "2022-02-01T19:26:52.698Z"
   },
   {
    "duration": 15,
    "start_time": "2022-02-01T19:26:53.105Z"
   },
   {
    "duration": 50,
    "start_time": "2022-02-01T19:26:53.122Z"
   },
   {
    "duration": 1538,
    "start_time": "2022-02-03T21:02:34.529Z"
   },
   {
    "duration": 154,
    "start_time": "2022-02-03T21:02:36.069Z"
   },
   {
    "duration": 12,
    "start_time": "2022-02-03T21:02:36.225Z"
   },
   {
    "duration": 5,
    "start_time": "2022-02-03T21:02:36.239Z"
   },
   {
    "duration": 20,
    "start_time": "2022-02-03T21:02:36.246Z"
   },
   {
    "duration": 239,
    "start_time": "2022-02-03T21:02:36.268Z"
   },
   {
    "duration": 44,
    "start_time": "2022-02-03T21:02:36.509Z"
   },
   {
    "duration": 26,
    "start_time": "2022-02-03T21:02:36.556Z"
   },
   {
    "duration": 34,
    "start_time": "2022-02-03T21:02:36.585Z"
   },
   {
    "duration": 8,
    "start_time": "2022-02-03T21:02:36.621Z"
   },
   {
    "duration": 30,
    "start_time": "2022-02-03T21:02:36.631Z"
   },
   {
    "duration": 21,
    "start_time": "2022-02-03T21:02:36.663Z"
   },
   {
    "duration": 276,
    "start_time": "2022-02-03T21:02:36.686Z"
   },
   {
    "duration": 438,
    "start_time": "2022-02-03T21:02:36.965Z"
   },
   {
    "duration": 385,
    "start_time": "2022-02-03T21:02:37.406Z"
   },
   {
    "duration": 32,
    "start_time": "2022-02-03T21:02:37.793Z"
   },
   {
    "duration": 5,
    "start_time": "2022-02-03T21:02:37.827Z"
   },
   {
    "duration": 6,
    "start_time": "2022-02-03T21:02:37.834Z"
   },
   {
    "duration": 42,
    "start_time": "2022-02-03T21:02:37.841Z"
   },
   {
    "duration": 55,
    "start_time": "2022-02-03T21:02:37.885Z"
   },
   {
    "duration": 30,
    "start_time": "2022-02-03T21:02:37.942Z"
   },
   {
    "duration": 79,
    "start_time": "2022-02-03T21:02:37.974Z"
   },
   {
    "duration": 10,
    "start_time": "2022-02-03T21:02:38.056Z"
   },
   {
    "duration": 14,
    "start_time": "2022-02-03T21:02:38.068Z"
   },
   {
    "duration": 515,
    "start_time": "2022-02-03T21:02:38.084Z"
   },
   {
    "duration": 17,
    "start_time": "2022-02-03T21:02:38.601Z"
   },
   {
    "duration": 37,
    "start_time": "2022-02-03T21:02:38.620Z"
   },
   {
    "duration": 228,
    "start_time": "2022-02-03T21:02:38.659Z"
   },
   {
    "duration": 8,
    "start_time": "2022-02-03T21:02:38.889Z"
   },
   {
    "duration": 21,
    "start_time": "2022-02-03T21:02:38.898Z"
   },
   {
    "duration": 14,
    "start_time": "2022-02-03T21:02:38.921Z"
   },
   {
    "duration": 11,
    "start_time": "2022-02-03T21:02:38.937Z"
   },
   {
    "duration": 34,
    "start_time": "2022-02-03T21:02:38.949Z"
   },
   {
    "duration": 258,
    "start_time": "2022-02-03T21:02:38.985Z"
   },
   {
    "duration": 7,
    "start_time": "2022-02-03T21:02:39.245Z"
   },
   {
    "duration": 32,
    "start_time": "2022-02-03T21:02:39.253Z"
   },
   {
    "duration": 1395,
    "start_time": "2022-04-15T14:04:03.773Z"
   },
   {
    "duration": 2480,
    "start_time": "2022-04-15T14:04:05.172Z"
   },
   {
    "duration": 9,
    "start_time": "2022-04-15T14:04:07.653Z"
   },
   {
    "duration": 5,
    "start_time": "2022-04-15T14:04:07.664Z"
   },
   {
    "duration": 18,
    "start_time": "2022-04-15T14:04:07.671Z"
   },
   {
    "duration": 227,
    "start_time": "2022-04-15T14:04:07.691Z"
   },
   {
    "duration": 25,
    "start_time": "2022-04-15T14:04:07.920Z"
   },
   {
    "duration": 35,
    "start_time": "2022-04-15T14:04:07.947Z"
   },
   {
    "duration": 9,
    "start_time": "2022-04-15T14:04:07.984Z"
   },
   {
    "duration": 4,
    "start_time": "2022-04-15T14:04:07.996Z"
   },
   {
    "duration": 25,
    "start_time": "2022-04-15T14:04:08.002Z"
   },
   {
    "duration": 46,
    "start_time": "2022-04-15T14:04:08.028Z"
   },
   {
    "duration": 217,
    "start_time": "2022-04-15T14:04:08.076Z"
   },
   {
    "duration": 405,
    "start_time": "2022-04-15T14:04:08.295Z"
   },
   {
    "duration": 290,
    "start_time": "2022-04-15T14:04:08.702Z"
   },
   {
    "duration": 28,
    "start_time": "2022-04-15T14:04:08.993Z"
   },
   {
    "duration": 5,
    "start_time": "2022-04-15T14:04:09.022Z"
   },
   {
    "duration": 7,
    "start_time": "2022-04-15T14:04:09.028Z"
   },
   {
    "duration": 63,
    "start_time": "2022-04-15T14:04:09.036Z"
   },
   {
    "duration": 31,
    "start_time": "2022-04-15T14:04:09.101Z"
   },
   {
    "duration": 120,
    "start_time": "2022-04-15T14:04:09.134Z"
   },
   {
    "duration": 70,
    "start_time": "2022-04-15T14:04:09.256Z"
   },
   {
    "duration": 9,
    "start_time": "2022-04-15T14:04:09.328Z"
   },
   {
    "duration": 10,
    "start_time": "2022-04-15T14:04:09.338Z"
   },
   {
    "duration": 67,
    "start_time": "2022-04-15T14:04:09.350Z"
   },
   {
    "duration": 11,
    "start_time": "2022-04-15T14:04:09.419Z"
   },
   {
    "duration": 54,
    "start_time": "2022-04-15T14:04:09.432Z"
   },
   {
    "duration": 88,
    "start_time": "2022-04-15T14:04:09.489Z"
   },
   {
    "duration": 7,
    "start_time": "2022-04-15T14:04:09.579Z"
   },
   {
    "duration": 11,
    "start_time": "2022-04-15T14:04:09.588Z"
   },
   {
    "duration": 20,
    "start_time": "2022-04-15T14:04:09.601Z"
   },
   {
    "duration": 11,
    "start_time": "2022-04-15T14:04:09.623Z"
   },
   {
    "duration": 61,
    "start_time": "2022-04-15T14:04:09.636Z"
   },
   {
    "duration": 104,
    "start_time": "2022-04-15T14:04:09.699Z"
   },
   {
    "duration": 8,
    "start_time": "2022-04-15T14:04:09.805Z"
   },
   {
    "duration": 36,
    "start_time": "2022-04-15T14:04:09.814Z"
   },
   {
    "duration": 8,
    "start_time": "2022-04-15T14:04:32.147Z"
   },
   {
    "duration": 14,
    "start_time": "2022-04-15T14:04:39.587Z"
   },
   {
    "duration": 10,
    "start_time": "2022-04-15T14:04:48.609Z"
   },
   {
    "duration": 15,
    "start_time": "2022-04-15T14:05:01.712Z"
   }
  ],
  "kernelspec": {
   "display_name": "Python 3",
   "language": "python",
   "name": "python3"
  },
  "language_info": {
   "codemirror_mode": {
    "name": "ipython",
    "version": 3
   },
   "file_extension": ".py",
   "mimetype": "text/x-python",
   "name": "python",
   "nbconvert_exporter": "python",
   "pygments_lexer": "ipython3",
   "version": "3.7.4"
  },
  "toc": {
   "base_numbering": 1,
   "nav_menu": {},
   "number_sections": true,
   "sideBar": true,
   "skip_h1_title": true,
   "title_cell": "Table of Contents",
   "title_sidebar": "Contents",
   "toc_cell": false,
   "toc_position": {},
   "toc_section_display": true,
   "toc_window_display": false
  }
 },
 "nbformat": 4,
 "nbformat_minor": 2
}
